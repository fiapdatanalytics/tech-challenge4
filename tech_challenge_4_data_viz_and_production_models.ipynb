{
  "nbformat": 4,
  "nbformat_minor": 0,
  "metadata": {
    "colab": {
      "provenance": [],
      "include_colab_link": true
    },
    "kernelspec": {
      "name": "python3",
      "display_name": "Python 3"
    },
    "language_info": {
      "name": "python"
    }
  },
  "cells": [
    {
      "cell_type": "markdown",
      "metadata": {
        "id": "view-in-github",
        "colab_type": "text"
      },
      "source": [
        "<a href=\"https://colab.research.google.com/github/fiapdatanalytics/tech-challenge4/blob/main/tech_challenge_4_data_viz_and_production_models.ipynb\" target=\"_parent\"><img src=\"https://colab.research.google.com/assets/colab-badge.svg\" alt=\"Open In Colab\"/></a>"
      ]
    },
    {
      "cell_type": "markdown",
      "source": [
        "# **Tech Challenge 4 - Data viz and production models**"
      ],
      "metadata": {
        "id": "uuaLti_x4Cd1"
      }
    },
    {
      "cell_type": "markdown",
      "source": [
        "## **Desafio**\n",
        "\n",
        "🎯 Objetivo do Projeto\n",
        "\n",
        "Desenvolver um modelo preditivo de Machine Learning para auxiliar uma equipe médica a diagnosticar níveis de nivel_obesidade em pacientes, com assertividade mínima de 75%, deployado em uma aplicação Streamlit, acompanhado de dashboard analítico e vídeo de apresentação.\n",
        "\n",
        "🧩 Entregáveis Principais\n",
        "\n",
        "* Pipeline de Machine Learning\n",
        "* Feature engineering, treinamento e avaliação do modelo.\n",
        "* Modelo com acurácia ≥ 75%\n",
        "* Deploy no Streamlit\n",
        "* Aplicação funcional acessível por link público.\n",
        "* Dashboard analítico\n",
        "* Visualização dos principais insights.\n",
        "* Documentação (.doc ou .txt)\n",
        "* Links do app, dashboard e repositório GitHub.\n",
        "* Vídeo de apresentação (4 a 10 minutos)\n"
      ],
      "metadata": {
        "id": "9M8GwK_L4_kb"
      }
    },
    {
      "cell_type": "markdown",
      "source": [
        "# **Bibliotecas**"
      ],
      "metadata": {
        "id": "fRU13_Lv6BCk"
      }
    },
    {
      "cell_type": "code",
      "execution_count": 293,
      "metadata": {
        "id": "qP06ICp33xT-"
      },
      "outputs": [],
      "source": [
        "import pandas as pd\n",
        "import re\n",
        "import json\n",
        "import seaborn as sns\n",
        "import matplotlib.pyplot as plt\n",
        "import os\n",
        "import requests\n",
        "import numpy as np\n",
        "from IPython.display import display, HTML\n"
      ]
    },
    {
      "cell_type": "markdown",
      "source": [
        "# **Funções**"
      ],
      "metadata": {
        "id": "ujdj1dBJGJYg"
      }
    },
    {
      "cell_type": "markdown",
      "source": [
        "## **Dicionario dados**"
      ],
      "metadata": {
        "id": "6c-fhSmNZ7Vn"
      }
    },
    {
      "cell_type": "code",
      "metadata": {
        "id": "e72d9cf2"
      },
      "source": [
        "def criar_novo_dicionario_dados(df: pd.DataFrame) -> dict:\n",
        "    \"\"\"\n",
        "    Cria um novo dicionário de dados com uma estrutura inicial para cada coluna do DataFrame.\n",
        "\n",
        "    Args:\n",
        "        df (pd.DataFrame): O DataFrame cujas colunas serão usadas para criar o dicionário.\n",
        "\n",
        "    Returns:\n",
        "        dict: O novo dicionário de dados.\n",
        "    \"\"\"\n",
        "    try:\n",
        "        novo_dicionario = {}\n",
        "        for coluna in df.columns:\n",
        "            novo_dicionario[coluna] = {\n",
        "                'nome_original': coluna,\n",
        "                'tipo_coluna': 'original',\n",
        "                'novo_nome': None,\n",
        "                'descricao': None,\n",
        "                'transformacao': None\n",
        "            }\n",
        "        print(\"Novo dicionário de dados criado.\")\n",
        "        return novo_dicionario\n",
        "    except Exception as e:\n",
        "        print(f\"Ocorreu um erro ao criar o novo dicionário de dados: {e}\")\n",
        "        return None"
      ],
      "execution_count": 294,
      "outputs": []
    },
    {
      "cell_type": "markdown",
      "source": [
        "### **Atualiza de forma manual das colunas do dicionario de dados**"
      ],
      "metadata": {
        "id": "MgX2ke0ueSW5"
      }
    },
    {
      "cell_type": "code",
      "source": [
        "def atualizar_campo_dicionario(dicionario: dict, coluna: str, campo: str, novo_valor):\n",
        "    \"\"\"\n",
        "    Atualiza um campo específico para uma coluna no dicionário de dados.\n",
        "\n",
        "    Args:\n",
        "        dicionario (dict): O dicionário de dados a ser atualizado.\n",
        "        coluna (str): O nome da coluna (chave no dicionário) cujo campo será atualizado.\n",
        "        campo (str): O nome do campo a ser atualizado ('nome_original', 'novo_nome', 'descricao', 'transformacao').\n",
        "        novo_valor: O novo valor para o campo especificado.\n",
        "    \"\"\"\n",
        "    try:\n",
        "        if coluna in dicionario:\n",
        "            if campo == 'nome_original':\n",
        "                print(f\"Erro: Não é permitido atualizar o campo 'nome_original'.\")\n",
        "            elif campo in dicionario[coluna]:\n",
        "                # Tratamento especial para 'transformacao' se o novo valor for um dicionário\n",
        "                if campo == 'transformacao' and isinstance(novo_valor, dict):\n",
        "                    if not isinstance(dicionario[coluna][campo], dict):\n",
        "                         dicionario[coluna][campo] = {} # Inicializa se ainda nao for um dicionario\n",
        "                    # Adiciona novos pares de chave-valor de novo_valor ao dicionário transformacao existente\n",
        "                    for key, value in novo_valor.items():\n",
        "                        dicionario[coluna][campo][key] = value\n",
        "                    print(f\"Campo '{campo}' da coluna '{coluna}' atualizado com novos itens.\")\n",
        "\n",
        "                else:\n",
        "                    dicionario[coluna][campo] = novo_valor\n",
        "                    print(f\"Campo '{campo}' da coluna '{coluna}' atualizado para: '{novo_valor}'\")\n",
        "            else:\n",
        "                print(f\"Erro: O campo '{campo}' não existe para a coluna '{coluna}' no dicionário de dados.\")\n",
        "        else:\n",
        "            print(f\"Erro: A coluna '{coluna}' não foi encontrada no dicionário de dados.\")\n",
        "    except Exception as e:\n",
        "        print(f\"Ocorreu um erro ao atualizar o campo '{campo}' para a coluna '{coluna}': {e}\")"
      ],
      "metadata": {
        "id": "hmM7BAaSeSmX"
      },
      "execution_count": 295,
      "outputs": []
    },
    {
      "cell_type": "markdown",
      "source": [
        "### **Atualiza nomes dicionario**"
      ],
      "metadata": {
        "id": "U4yIiiPntU0O"
      }
    },
    {
      "cell_type": "code",
      "source": [
        "def atualizar_dicionario_renomeacao(dicionario: dict, mapa_colunas: dict):\n",
        "    \"\"\"\n",
        "    Atualiza o dicionário de dados com base nas renomeações de colunas aplicadas.\n",
        "\n",
        "    Args:\n",
        "        dicionario (dict): O dicionário de dados a ser atualizado.\n",
        "        mapa_colunas (dict): Dicionário com o mapeamento de renomeação de colunas (nome_original: novo_nome).\n",
        "    \"\"\"\n",
        "    try:\n",
        "        print(\"Iniciando a atualização do dicionário de dados com renomeações...\")\n",
        "\n",
        "        # Crie uma copia das chaves para iterar sem problemas ao modificar o dicionário original\n",
        "        chaves_originais = list(dicionario.keys())\n",
        "\n",
        "        # Processar entradas e renomeacoes existentes\n",
        "        for chave_original in chaves_originais:\n",
        "            if chave_original in dicionario: # Verifica se a chave ainda existe\n",
        "                info = dicionario[chave_original]\n",
        "                nome_original = info.get('nome_original')\n",
        "                novo_nome_existente = info.get('novo_nome') # Obtem o novo_nome potencialmente existente\n",
        "\n",
        "                # Verifica se o nome da coluna original está no mapa de renomeação\n",
        "                if nome_original in mapa_colunas:\n",
        "                    atualiza_novo_nome = mapa_colunas[nome_original]\n",
        "\n",
        "                   # Se a chave atual no dicionário não for o novo nome do mapa,\n",
        "                   # e ainda não estiver definida com um novo nome diferente, atualize a chave e as informacoes.\n",
        "                   # Esta condição lida tanto com renomeações iniciais quanto com casos em que uma coluna recebeu\n",
        "                   # manualmente um novo_nome antes da aplicação do mapa de renomeacao.\n",
        "                    if chave_original != atualiza_novo_nome and (novo_nome_existente is None or novo_nome_existente != atualiza_novo_nome):\n",
        "                         # Copie as informacoes para a nova chave antes de excluir a antiga\n",
        "                         dicionario[atualiza_novo_nome] = dicionario.pop(chave_original)\n",
        "                         info = dicionario[atualiza_novo_nome] # Update info to point to the new key\n",
        "\n",
        "\n",
        "                    info['novo_nome'] = atualiza_novo_nome # Atualiza novo_nome no dicionário info\n",
        "\n",
        "\n",
        "                    # Certifica de que 'transformacao' seja um dicionário\n",
        "                    if not isinstance(info.get('transformacao'), dict):\n",
        "                        info['transformacao'] = {}\n",
        "                    # Adiciona transformacao de renomeacao se ainda nao estiver presente\n",
        "                    renome_desc = f\"Renomeada de '{nome_original}' para '{atualiza_novo_nome}'.\"\n",
        "                    if renome_desc not in info['transformacao'].values():\n",
        "                         transform_key = f\"transformacao_{len(info['transformacao']) + 1}\"\n",
        "                         info['transformacao'][transform_key] = renome_desc\n",
        "                # Se a coluna nao estiver em mapa_colunas, mas tiver um novo_nome, certifique-se de que a chave do dicionario seja o novo_nome\n",
        "                # Esta parte pode ser menos relevante para uma funcao de renomeacao dedicada, mas mantendo\n",
        "                # uma verificacao do novo_nome existente para garantir a consistência do dicionario.\n",
        "                elif novo_nome_existente is not None and chave_original != novo_nome_existente:\n",
        "                     # Se a chave atual nao corresponder ao novo_nome existente, atualize a chave\n",
        "                     if novo_nome_existente in dicionario:\n",
        "                          # indica se um conflito ou erro nas etapas anteriores\n",
        "                          print(f\"Aviso: Conflito ao renomear. '{chave_original}' tem novo_nome '{novo_nome_existente}', mas '{novo_nome_existente}' já existe no dicionário.\")\n",
        "                     else:\n",
        "                          dicionario[novo_nome_existente] = dicionario.pop(chave_original)\n",
        "                          info = dicionario[novo_nome_existente] # Atualiza informacao para apontar para a nova chave\n",
        "\n",
        "\n",
        "        print(\"Dicionário de dados atualizado com renomeações.\")\n",
        "        # dicionario modicado inplace\n",
        "    except Exception as e:\n",
        "        print(f\"Ocorreu um erro ao atualizar o dicionário de dados com renomeações: {e}\")\n",
        ""
      ],
      "metadata": {
        "id": "AXSWTbEGqEKg"
      },
      "execution_count": 296,
      "outputs": []
    },
    {
      "cell_type": "markdown",
      "source": [
        "### **Atualiza Dicionario com as novas colunas criadas**"
      ],
      "metadata": {
        "id": "SK1qWwB79VW1"
      }
    },
    {
      "cell_type": "code",
      "metadata": {
        "id": "69a7b69b"
      },
      "source": [
        "def atualizar_dicionario_novas_colunas(dicionario: dict, df: pd.DataFrame):\n",
        "    \"\"\"\n",
        "    Atualiza o dicionário de dados com informações sobre colunas recém-criadas no DataFrame.\n",
        "\n",
        "    Args:\n",
        "        dicionario (dict): O dicionário de dados a ser atualizado.\n",
        "        df (pd.DataFrame): O DataFrame com as colunas recém-criadas.\n",
        "    \"\"\"\n",
        "    print(\"Iniciando a atualização do dicionário de dados com novas colunas...\")\n",
        "    try:\n",
        "        colunas_atuais = df.columns.tolist()\n",
        "        # Encontra colunas no DataFrame que não estão presentes no dicionário por seu 'novo_nome'\n",
        "        existing_novo_nomes = [info.get('novo_nome') for info in dicionario.values() if info.get('novo_nome')]\n",
        "        novas_colunas = [col for col in colunas_atuais if col not in existing_novo_nomes]\n",
        "\n",
        "        for nova_coluna in novas_colunas:\n",
        "            # Adiciona uma nova entrada ao dicionário para a nova coluna\n",
        "            if nova_coluna not in dicionario: # Evita adicionar se existir uma chave com o mesmo nome\n",
        "                dicionario[nova_coluna] = {\n",
        "                    'nome_original': nova_coluna,\n",
        "                    'tipo_coluna' : 'criada',\n",
        "                    'novo_nome': None,\n",
        "                    'descricao': None,\n",
        "                    'transformacao': None\n",
        "                }\n",
        "                print(f\"Adicionada nova coluna '{nova_coluna}' ao dicionário de dados.\")\n",
        "            else:\n",
        "\n",
        "                 print(f\"Coluna '{nova_coluna}' já existe no dicionário de dados.\")\n",
        "\n",
        "\n",
        "        print(\"Dicionário de dados atualizado com novas colunas.\")\n",
        "        return dicionario # Retorna explicitamente o dicionário atualizado\n",
        "    except Exception as e:\n",
        "        print(f\"Ocorreu um erro ao atualizar o dicionário com novas colunas: {e}\")\n",
        "        return None # Retorna Nenhum em caso de erro"
      ],
      "execution_count": 297,
      "outputs": []
    },
    {
      "cell_type": "markdown",
      "source": [
        "### **Atualiza campo descricao do dicionario em lote**"
      ],
      "metadata": {
        "id": "FXBzyqBfMjyw"
      }
    },
    {
      "cell_type": "code",
      "metadata": {
        "id": "oeT12CxEXRe"
      },
      "source": [
        "def atualizar_descricoes_dicionario(dicionario: dict, descricoes: dict):\n",
        "    \"\"\"\n",
        "    Atualiza o campo 'descricao' no dicionário de dados com base em um dicionário de descrições.\n",
        "\n",
        "    Args:\n",
        "        dicionario (dict): O dicionário de dados a ser atualizado.\n",
        "        descricoes (dict): O dicionário contendo as descrições (chave: nome da coluna, valor: descrição).\n",
        "\n",
        "    Returns:\n",
        "        int: A quantidade de descrições atualizadas.\n",
        "    \"\"\"\n",
        "    quantidade_linhas_atualizadas = 0\n",
        "    try:\n",
        "\n",
        "        if not isinstance(descricoes, dict):\n",
        "            print(\"Erro: O argumento 'descricoes' deve ser um dicionário.\")\n",
        "            return 0\n",
        "\n",
        "        for chave in dicionario:\n",
        "            if chave in descricoes:\n",
        "\n",
        "                atualizar_campo_dicionario(dicionario, chave, 'descricao', descricoes[chave])\n",
        "                quantidade_linhas_atualizadas += 1\n",
        "\n",
        "        print(f'Quantidade de descrições atualizadas: {quantidade_linhas_atualizadas}.')\n",
        "        return quantidade_linhas_atualizadas\n",
        "    except Exception as e:\n",
        "        print(f\"Ocorreu um erro ao atualizar as descrições no dicionário: {e}\")\n",
        "        return 0 # # Retorna 0 ou gera novamente a exceca\n",
        "\n",
        "\n"
      ],
      "execution_count": 298,
      "outputs": []
    },
    {
      "cell_type": "markdown",
      "source": [
        "## **Funções de Transformação**"
      ],
      "metadata": {
        "id": "hy-wd-lQv7hG"
      }
    },
    {
      "cell_type": "markdown",
      "source": [
        "### **Renomear Colunas**"
      ],
      "metadata": {
        "id": "geUJP1uw_bXl"
      }
    },
    {
      "cell_type": "code",
      "source": [
        "def renomear_colunas(df: pd.DataFrame, mapa_renomeacao: dict = None, dicionario: dict = None) -> None:\n",
        "    \"\"\"\n",
        "    Renomeia as colunas de um DataFrame utilizando um dicionário fornecido\n",
        "    ou aplicando um padrão de formatação (minúsculas, espaços por '_').\n",
        "    Se o padrão de formatação for aplicado, o dicionário de mapeamento gerado\n",
        "    é salvo em um arquivo JSON chamado 'renaming_map_pattern.json'.\n",
        "    Opcionalmente, atualiza um dicionário de dados com as renomeações.\n",
        "\n",
        "    Args:\n",
        "        df (pd.DataFrame): O DataFrame cujas colunas serão renomeadas.\n",
        "        mapa_renomeacao (dict, optional): Um dicionário mapeando nomes de colunas originais para novos nomes.\n",
        "                                         Se None, um padrão de formatação será aplicado.\n",
        "        dicionario (dict, optional): O dicionário de dados a ser atualizado. Defaults to None.\n",
        "    \"\"\"\n",
        "    colunas_originais = df.columns.tolist()\n",
        "    num_linhas_antes, num_colunas_antes = df.shape\n",
        "\n",
        "    print(\"Número de linhas e colunas antes da transformação:\")\n",
        "    print(f\"Linhas: {num_linhas_antes}, Colunas: {num_colunas_antes}\")\n",
        "    print(f\"\\nNomes das colunas originais:\\n{colunas_originais}\\n\")\n",
        "\n",
        "    try:\n",
        "        if mapa_renomeacao:\n",
        "            # Verificar se o dicionário fornecido tem chaves que correspondem às colunas do DataFrame\n",
        "            if any(col in mapa_renomeacao for col in colunas_originais):\n",
        "                df.rename(columns=mapa_renomeacao, inplace=True) # Modifica in-place\n",
        "                print(\"Utilizado dicionário de renomeação fornecido.\")\n",
        "            else:\n",
        "                print(\"Dicionário de renomeação fornecido, mas nenhuma chave corresponde às colunas existentes.\")\n",
        "                print(\"Aplicando padrão de formatação como alternativa.\")\n",
        "                # Aplicar padrão se o dicionário não corresponder\n",
        "                mapa_nova_coluna = {}\n",
        "                nova_coluna = []\n",
        "                for col in colunas_originais:\n",
        "                    col_caixa_baixa = col.lower()\n",
        "                    col_limpa = col_caixa_baixa.strip()\n",
        "                    col_formatada = re.sub(r'\\s+', '_', col_limpa)\n",
        "                    nova_coluna.append(col_formatada)\n",
        "                    mapa_nova_coluna[col] = col_formatada\n",
        "                df.columns = nova_coluna # Modifica in-place\n",
        "                print(\"Padrão de formatação aplicado.\")\n",
        "                # Salva mapa gerado em JSON\n",
        "                with open(f'mapeamento_coluna_{df}.json', 'w') as f:\n",
        "                    json.dump(mapa_nova_coluna, f, indent=4)\n",
        "                print(f\"Dicionário de renomeação gerado pelo padrão salvo em f'mapeamento_coluna_{df}.json'.\")\n",
        "                # Usa o mapa gerado para atualização do dicionário\n",
        "                mapa_renomeacao_aplicado = mapa_nova_coluna\n",
        "        else:\n",
        "            # Aplicar padrão de formatação se nenhum dicionário for fornecido\n",
        "            print(\"Nenhum dicionário de renomeação fornecido. Aplicando padrão de formatação.\")\n",
        "            mapa_nova_coluna = {}\n",
        "            nova_coluna = []\n",
        "            for col in colunas_originais:\n",
        "                col_caixa_baixa = col.lower()\n",
        "                col_limpa = col_caixa_baixa.strip()\n",
        "                col_formatada = re.sub(r'\\s+', '_', col_limpa)\n",
        "                nova_coluna.append(col_formatada)\n",
        "                mapa_nova_coluna[col] = col_formatada\n",
        "            df.columns = nova_coluna # Modifica in-place\n",
        "            print(\"Padrão de formatação aplicado.\")\n",
        "            # Salva mapa gerado em JSON\n",
        "            with open(f'mapeamento_coluna_{df}.json', 'w') as f:\n",
        "                json.dump(mapa_nova_coluna, f, indent=4)\n",
        "            print(f\"Dicionário de renomeação gerado pelo padrão salvo em f'mapeamento_coluna_{df}.json'.\")\n",
        "            # Usa o mapa gerado para atualização do dicionário\n",
        "            mapa_renomeacao_aplicado = mapa_nova_coluna\n",
        "\n",
        "\n",
        "        colunas_modificadas = df.columns.tolist()\n",
        "        num_linhas_depois, num_colunas_depois = df.shape\n",
        "\n",
        "        print(f\"\\nNomes das colunas modificadas:\\n{colunas_modificadas}\\n\")\n",
        "        print(\"Número de linhas e colunas após a transformação:\")\n",
        "        print(f\"Linhas: {num_linhas_depois}, Colunas: {num_colunas_depois}\")\n",
        "\n",
        "        # Atualizar o dicionário de dados com as renomeações, se fornecido\n",
        "        if dicionario is not None:\n",
        "            # Se um mapa_renomeacao específico foi fornecido e usado, use-o para a atualização do dicionário\n",
        "            # Caso contrário, utilize o mapa_nova_coluna gerado automaticamente (que agora e mapa_renomeacao_aplicado)\n",
        "            mapa_para_atualizar_dicionario = mapa_renomeacao if mapa_renomeacao and any(col in mapa_renomeacao for col in colunas_originais) else mapa_renomeacao_aplicado\n",
        "\n",
        "            atualizar_dicionario_renomeacao(dicionario, mapa_para_atualizar_dicionario)\n",
        "\n",
        "\n",
        "    except NameError as e:\n",
        "        print(f\"Ocorreu um erro de nome ao renomear as colunas: {e}\")\n",
        "    except Exception as e: # Mantendo um except geral para outros tipos de erro inesperados\n",
        "        print(f\"Ocorreu um erro inesperado ao renomear as colunas: {e}\")"
      ],
      "metadata": {
        "id": "5bs4rURxrxAQ"
      },
      "execution_count": 299,
      "outputs": []
    },
    {
      "cell_type": "markdown",
      "source": [
        "### **Transforma valores de uma coluna de string para string**"
      ],
      "metadata": {
        "id": "FuTXdIZUSJuv"
      }
    },
    {
      "cell_type": "code",
      "source": [
        "def transformar_valores_string(df: pd.DataFrame, coluna: str, mapa_transformacao: dict, dicionario: dict = None):\n",
        "    \"\"\"\n",
        "    Transforma os valores de uma coluna do tipo string para string utilizando um mapeamento,\n",
        "    salva a alteração e atualiza o dicionário de dados.\n",
        "\n",
        "    Args:\n",
        "        df (pd.DataFrame): O DataFrame a ser modificado.\n",
        "        coluna (str): O nome da coluna a ser transformada.\n",
        "        mapa_transformacao (dict): Um dicionário contendo o mapeamento dos valores originais para os novos valores.\n",
        "        dicionario (dict, optional): O dicionário de dados a ser atualizado. Defaults to None.\n",
        "    \"\"\"\n",
        "    if coluna not in df.columns:\n",
        "        print(f\"Erro: A coluna '{coluna}' não existe no DataFrame.\")\n",
        "        return\n",
        "\n",
        "    if df[coluna].dtype != 'object':\n",
        "        print(f\"Erro: A coluna '{coluna}' não é do tipo 'object'. Nenhuma transformação será aplicada.\")\n",
        "        return\n",
        "\n",
        "    try:\n",
        "        # Verificar se todos os valores únicos na coluna estão no mapeamento\n",
        "        valores_unicos_na_coluna = df[coluna].dropna().unique()\n",
        "        valores_nao_mapeados = [valor for valor in valores_unicos_na_coluna if valor not in mapa_transformacao]\n",
        "\n",
        "        if valores_nao_mapeados:\n",
        "            print(f\"Erro: Os seguintes valores únicos na coluna '{coluna}' não foram encontrados no mapeamento:\")\n",
        "            print(valores_nao_mapeados)\n",
        "            print(\"A transformação não será realizada pois nem todos os valores possuem um mapeamento.\")\n",
        "            return # Adicionado para sair da função se houver valores não mapeados\n",
        "\n",
        "\n",
        "        # Contar linhas antes da alteração\n",
        "        linhas_antes = df.shape[0]\n",
        "\n",
        "        # Aplicar a transformação\n",
        "        df[coluna] = df[coluna].map(mapa_transformacao)\n",
        "\n",
        "        # Contar linhas após a alteração\n",
        "        linhas_depois = df.shape[0]\n",
        "        linhas_alteradas = linhas_antes # Neste caso, todas as linhas da coluna são \"alteradas\" pelo mapeamento\n",
        "\n",
        "\n",
        "        print(f\"Coluna '{coluna}' transformada com sucesso.\")\n",
        "        print(f\"Tipo de alteração: Mapeamento de valores string para string.\")\n",
        "        print(f\"Número de linhas processadas: {linhas_alteradas}\")\n",
        "\n",
        "        # Exibir valores únicos e contagem depois da transformação\n",
        "        print(f\"\\nValores únicos e contagem depois da transformação para a coluna '{coluna}':\")\n",
        "        display(df[coluna].value_counts(dropna=False))\n",
        "\n",
        "        # Salvar a alteração em uma variável e atualizar o dicionário de dados, se fornecido\n",
        "        if dicionario is not None:\n",
        "            alteracao = {\n",
        "                'tipo': 'mapeamento_string_para_string',\n",
        "                'mapa_aplicado': mapa_transformacao\n",
        "            }\n",
        "            atualizar_campo_dicionario(dicionario, coluna, 'transformacao', alteracao)\n",
        "\n",
        "\n",
        "    except Exception as e:\n",
        "        print(f\"Ocorreu um erro ao transformar a coluna '{coluna}': {e}\")"
      ],
      "metadata": {
        "id": "l9_yB0jfi8-L"
      },
      "execution_count": 300,
      "outputs": []
    },
    {
      "cell_type": "markdown",
      "source": [
        "### **Transforma valores de uma coluna de string para numero**"
      ],
      "metadata": {
        "id": "IVQW8cxklQhW"
      }
    },
    {
      "cell_type": "code",
      "source": [
        "def codificar_coluna_categorica(df: pd.DataFrame, coluna: str, transformacoes_categoricas: list, dicionario: dict = None):\n",
        "    \"\"\"\n",
        "    Transforma os valores únicos de uma coluna do tipo 'object' em números inteiros,\n",
        "    reutilizando mapeamentos existentes para conjuntos idênticos de valores únicos\n",
        "    e armazenando novos mapeamentos. Opcionalmente, atualiza um dicionário de dados\n",
        "    com a transformação realizada.\n",
        "\n",
        "    Args:\n",
        "        df (pd.DataFrame): O DataFrame a ser modificado.\n",
        "        coluna (str): O nome da coluna a ser codificada.\n",
        "        transformacoes_categoricas (list): Uma lista de dicionários contendo mapeamentos de transformações já realizadas.\n",
        "        dicionario (dict, optional): O dicionário de dados a ser atualizado. Defaults to None.\n",
        "    \"\"\"\n",
        "    if coluna not in df.columns:\n",
        "        print(f\"Erro: A coluna '{coluna}' não existe no DataFrame.\")\n",
        "        return\n",
        "\n",
        "    if df[coluna].dtype != 'object':\n",
        "        print(f\"A coluna '{coluna}' não é do tipo 'object'. Nenhuma codificação será aplicada.\")\n",
        "        return\n",
        "\n",
        "    try:\n",
        "        # Contar valores nulos antes da transformação\n",
        "        nulos_antes = df[coluna].isnull().sum()\n",
        "\n",
        "        # Obter e imprimir valores únicos e contagem antes da transformação\n",
        "        print(f\"Valores únicos e contagem antes da codificação para a coluna '{coluna}':\")\n",
        "        display(df[coluna].value_counts())\n",
        "\n",
        "        # Obter valores únicos da coluna atual, excluindo nulos e ordenando para comparação consistente\n",
        "        valores_unicos_atuais = sorted(df[coluna].dropna().unique().tolist())\n",
        "\n",
        "        # Verificar se existe um mapeamento correspondente na lista de transformações\n",
        "        mapa_encontrado = None\n",
        "        for trans in transformacoes_categoricas:\n",
        "            if sorted(trans['valores_originais']) == valores_unicos_atuais:\n",
        "                mapa_encontrado = trans['mapa']\n",
        "                print(f\"Utilizando mapeamento existente para a coluna '{coluna}'.\")\n",
        "                break\n",
        "\n",
        "        if mapa_encontrado:\n",
        "            mapa_codificacao = mapa_encontrado\n",
        "        else:\n",
        "            # Criar um novo mapa de transformação se nenhum for encontrado\n",
        "            mapa_codificacao = {valor: i for i, valor in enumerate(valores_unicos_atuais)}\n",
        "            # Armazenar o novo mapeamento na lista de transformações\n",
        "            transformacoes_categoricas.append({\n",
        "                'valores_originais': valores_unicos_atuais,\n",
        "                'mapa': mapa_codificacao\n",
        "            })\n",
        "            print(f\"Criando novo mapeamento para a coluna '{coluna}'.\")\n",
        "\n",
        "\n",
        "        # Imprimir o mapa de codificação utilizado\n",
        "        print(f\"\\nMapeamento aplicado para a coluna '{coluna}':\")\n",
        "        print(mapa_codificacao)\n",
        "\n",
        "        # Contar linhas antes da alteração\n",
        "        linhas_antes = df.shape[0]\n",
        "\n",
        "        # Aplicar a codificação\n",
        "        df[coluna] = df[coluna].map(mapa_codificacao)\n",
        "\n",
        "        # Contar linhas após a alteração (devem ser as mesmas, mas é bom para verificar)\n",
        "        linhas_depois = df.shape[0]\n",
        "        linhas_alteradas = linhas_antes # Neste caso, todas as linhas da coluna são \"alteradas\" pelo mapeamento\n",
        "\n",
        "\n",
        "        # Verificar se surgiram nulos inesperados\n",
        "        nulos_depois = df[coluna].isnull().sum()\n",
        "        if nulos_depois > nulos_antes:\n",
        "            print(f\"Aviso: A transformação da coluna '{coluna}' resultou em {nulos_depois - nulos_antes} valores nulos inesperados.\")\n",
        "            print(\"Verifique o mapa de codificação ou os valores originais na coluna.\")\n",
        "\n",
        "        print(f\"\\nColuna '{coluna}' codificada com sucesso.\")\n",
        "        print(f\"Tipo de alteração: Mapeamento de valores únicos para inteiros.\")\n",
        "        print(f\"Número de linhas processadas: {linhas_alteradas}\")\n",
        "\n",
        "        # Obter e imprimir valores únicos e contagem depois da transformação\n",
        "        print(f\"\\nValores únicos e contagem depois da codificação para a coluna '{coluna}':\")\n",
        "        display(df[coluna].value_counts())\n",
        "\n",
        "        # Atualizar o dicionário de dados, se fornecido\n",
        "        if dicionario is not None:\n",
        "             if coluna in dicionario:\n",
        "                 alteracao = {\n",
        "                     f'transformacao_{len(dicionario[coluna].get(\"transformacao\", {})) + 1}': f\"Mapeado para inteiros usando o mapa: {mapa_codificacao}\"\n",
        "                 }\n",
        "                 atualizar_campo_dicionario(dicionario, coluna, 'transformacao', alteracao)\n",
        "                 print(f\"Dicionário de dados atualizado para a coluna '{coluna}'.\")\n",
        "             else:\n",
        "                 print(f\"Erro: A coluna '{coluna}' não foi encontrada no dicionário de dados para atualização.\")\n",
        "\n",
        "\n",
        "    except Exception as e:\n",
        "        print(f\"Ocorreu um erro ao codificar a coluna '{coluna}': {e}\")"
      ],
      "metadata": {
        "id": "KdIwnGaMohC2"
      },
      "execution_count": 301,
      "outputs": []
    },
    {
      "cell_type": "markdown",
      "source": [
        "## **Funções de Análise**"
      ],
      "metadata": {
        "id": "lDGFy4KuwJzC"
      }
    },
    {
      "cell_type": "markdown",
      "source": [
        "### **Análisar Colunas do Tipo 'object' em um DataFrame**"
      ],
      "metadata": {
        "id": "tJtshmJtXUSX"
      }
    },
    {
      "cell_type": "code",
      "source": [
        "def analisar_colunas_objeto(df: pd.DataFrame):\n",
        "    \"\"\"\n",
        "    Identifica e analisa colunas do tipo 'object' em um DataFrame.\n",
        "\n",
        "    Args:\n",
        "        df (pd.DataFrame): O DataFrame a ser analisado.\n",
        "    \"\"\"\n",
        "    objetos_colunas = df.select_dtypes(include='object').columns\n",
        "    print(\"Colunas do tipo 'object' restantes:\")\n",
        "    print(objetos_colunas)\n",
        "\n",
        "    # Analizando valores unicos para cada coluna\n",
        "    for col in objetos_colunas:\n",
        "        print(f\"\\nValores únicos para a coluna '{col}':\")\n",
        "        display(df[col].unique())\n",
        "        print(f\"Contagem de valores para a coluna '{col}':\")\n",
        "        display(df.groupby(col).size())"
      ],
      "metadata": {
        "id": "Hkk0miWSXT6G"
      },
      "execution_count": 302,
      "outputs": []
    },
    {
      "cell_type": "markdown",
      "source": [
        "### **Histograma**"
      ],
      "metadata": {
        "id": "XnmCk5nKGR0H"
      }
    },
    {
      "cell_type": "code",
      "source": [
        "def gera_histograma(df: pd.DataFrame, coluna: str, titulo: str):\n",
        "    \"\"\"\n",
        "    Gera um histograma para uma coluna específica de um DataFrame.\n",
        "\n",
        "    Args:\n",
        "        df (pd.DataFrame): O DataFrame contendo os dados.\n",
        "        coluna (str): O nome da coluna para gerar o histograma.\n",
        "        titulo (str): O título do gráfico.\n",
        "    \"\"\"\n",
        "    plt.figure(figsize=(10, 6))\n",
        "    sns.histplot(data=df, x=coluna, kde=True)\n",
        "    plt.title(titulo)\n",
        "    plt.xlabel(coluna)\n",
        "    plt.xticks(rotation=45, ha='right')\n",
        "    plt.ylabel(\"Frequência\")\n",
        "    plt.show()"
      ],
      "metadata": {
        "id": "7JbJ0Mi-GI32"
      },
      "execution_count": 303,
      "outputs": []
    },
    {
      "cell_type": "markdown",
      "source": [
        "### **Gráfico barras**"
      ],
      "metadata": {
        "id": "Y1xDSwTgETwE"
      }
    },
    {
      "cell_type": "code",
      "source": [
        "import seaborn as sns\n",
        "import matplotlib.pyplot as plt\n",
        "import pandas as pd # Importar pandas para o tipo de dado\n",
        "\n",
        "def gera_grafico_barras(df: pd.DataFrame, x_col: str, y_col: str = None, hue_col: str = None, title: str = \"Gráfico de Barras\"):\n",
        "    \"\"\"\n",
        "    Gera um gráfico de barras usando Seaborn.\n",
        "\n",
        "    Args:\n",
        "        df (pd.DataFrame): O DataFrame contendo os dados.\n",
        "        x_col (str): O nome da coluna para o eixo X.\n",
        "        y_col (str, optional): O nome da coluna para o eixo Y (para barplot).\n",
        "                               Se None, gera um countplot (contagem de ocorrências).\n",
        "        hue_col (str, optional): O nome da coluna para dividir as barras por cor. Defaults to None.\n",
        "        title (str, optional): O título do gráfico. Defaults to \"Gráfico de Barras\".\n",
        "    \"\"\"\n",
        "    plt.figure(figsize=(12, 6))\n",
        "\n",
        "    if y_col:\n",
        "        # Gera um barplot se y_col for fornecido (para exibir valores em y)\n",
        "        # Ajuste para o FutureWarning: Passar x_col para hue quando hue_col é None e set legend=False\n",
        "        if hue_col is None:\n",
        "            sns.barplot(data=df, x=x_col, y=y_col, hue=x_col, palette='colorblind', legend=False)\n",
        "        else:\n",
        "             # Se hue_col for especificado, use-o\n",
        "             sns.barplot(data=df, x=x_col, y=y_col, hue=hue_col, palette='colorblind')\n",
        "        plt.ylabel(y_col)\n",
        "    else:\n",
        "        # Gera um countplot se y_col não for fornecido (para exibir contagens)\n",
        "        sns.countplot(data=df, x=x_col, hue=hue_col, palette='colorblind', order=df[x_col].value_counts().index) # Ordena por contagem\n",
        "        plt.ylabel(\"Contagem\")\n",
        "\n",
        "\n",
        "    plt.title(title)\n",
        "    plt.xlabel(x_col)\n",
        "    plt.xticks(rotation=45, ha='right') # Rotaciona rótulos do eixo X para melhor leitura\n",
        "    plt.tight_layout() # Ajusta o layout para evitar sobreposição\n",
        "    plt.show()"
      ],
      "metadata": {
        "id": "s8XOSMj5EaHc"
      },
      "execution_count": 304,
      "outputs": []
    },
    {
      "cell_type": "markdown",
      "source": [
        "## **Funções gerais**"
      ],
      "metadata": {
        "id": "y9hqcsiAwaRB"
      }
    },
    {
      "cell_type": "markdown",
      "source": [
        "### **Leitura de arquivo json de uma URL**"
      ],
      "metadata": {
        "id": "02RwE3T3bQLA"
      }
    },
    {
      "cell_type": "code",
      "metadata": {
        "id": "4edf2b6e"
      },
      "source": [
        "def ler_json_de_url(url: str) -> dict:\n",
        "    \"\"\"\n",
        "    Lê um arquivo JSON de uma URL fornecida.\n",
        "\n",
        "    Args:\n",
        "        url (str): A URL do arquivo JSON.\n",
        "\n",
        "    Returns:\n",
        "        dict: O dicionário de dados carregado do arquivo JSON, ou Nenhum se ocorrer um erro.\n",
        "    \"\"\"\n",
        "    try:\n",
        "        response = requests.get(url)\n",
        "        response.raise_for_status()  # HTTPError por resostas (4xx or 5xx)\n",
        "        data_dict = response.json()\n",
        "        print(f\"Leitura com sucesso do caminho {url}\")\n",
        "        return data_dict\n",
        "    except requests.exceptions.RequestException as e:\n",
        "        print(f\"Erro ao acessar a URL {url}: {e}\")\n",
        "        return None\n",
        "    except json.JSONDecodeError:\n",
        "        print(f\"Erro: Não foi possível decodificar JSON da URL {url}. Verifique o formato do arquivo.\")\n",
        "        return None\n",
        "    except Exception as e:\n",
        "        print(f\"Ocorreu um erro inesperado ao ler de {url}: {e}\")\n",
        "        return None"
      ],
      "execution_count": 305,
      "outputs": []
    },
    {
      "cell_type": "markdown",
      "source": [
        "### **Funcao de classificacao para coluna**"
      ],
      "metadata": {
        "id": "hGO9L9LHtURm"
      }
    },
    {
      "cell_type": "code",
      "source": [
        "def classificar_coluna_por_config(df: pd.DataFrame, coluna_original: str, nova_coluna: str, config: dict) -> pd.DataFrame:\n",
        "    \"\"\"\n",
        "    Classifica os valores de uma coluna numérica em categorias usando um dicionário de configuração.\n",
        "\n",
        "    Args:\n",
        "        df (pd.DataFrame): O DataFrame a ser modificado.\n",
        "        coluna_original (str): O nome da coluna numérica a ser classificada.\n",
        "        nova_coluna (str): O nome da nova coluna que conterá as categorias.\n",
        "        config (dict): O dicionário de configuração com 'bins', 'labels', 'right', 'include_lowest'.\n",
        "\n",
        "    Returns:\n",
        "        pd.DataFrame: O DataFrame com a nova coluna de classificação adicionada, ou o DataFrame original em caso de erro.\n",
        "    \"\"\"\n",
        "    if coluna_original not in df.columns:\n",
        "        print(f\"Erro: A coluna original '{coluna_original}' não existe no DataFrame.\")\n",
        "        return df\n",
        "\n",
        "    if not pd.api.types.is_numeric_dtype(df[coluna_original]):\n",
        "         print(f\"A coluna '{coluna_original}' não é do tipo numérico. Nenhuma classificação será aplicada.\")\n",
        "         return df\n",
        "\n",
        "    try:\n",
        "        # Validar se os parâmetros necessários estão no dicionário\n",
        "        if 'bins' not in config or 'labels' not in config:\n",
        "            print(\"Erro: O dicionário de configuração deve conter as chaves 'bins' e 'labels'.\")\n",
        "            return df\n",
        "\n",
        "        bins = config['bins']\n",
        "        labels = config['labels']\n",
        "        right = config.get('right', True) # Padrão True se não especificado\n",
        "        include_lowest = config.get('include_lowest', False) # Padrão False se não especificado\n",
        "\n",
        "        # Tratar caso de bins com strings como \"-inf\", \"inf\"\n",
        "        bins_processados = []\n",
        "        for b in bins:\n",
        "            if isinstance(b, str):\n",
        "                if b.lower() == '-inf':\n",
        "                    bins_processados.append(-np.inf)\n",
        "                elif b.lower() == 'inf':\n",
        "                    bins_processados.append(np.inf)\n",
        "                else:\n",
        "                    try:\n",
        "                        bins_processados.append(float(b))\n",
        "                    except ValueError:\n",
        "                        print(f\"Aviso: Valor inválido em 'bins': '{b}'. Mantendo como está ou pode causar erro.\")\n",
        "                        bins_processados.append(b) # Mantém o valor original se a conversão falhar\n",
        "            else:\n",
        "                bins_processados.append(b)\n",
        "\n",
        "\n",
        "        # Realizar a classificação usando pd.cut\n",
        "        # pd.cut requires bins to be sorted. Add a check here.\n",
        "        if not all(bins_processados[i] <= bins_processados[i+1] for i in range(len(bins_processados)-1)):\n",
        "             print(\"Erro: Os bins fornecidos no dicionário de configuração não estão em ordem crescente.\")\n",
        "             return df\n",
        "\n",
        "        if len(bins_processados) != len(labels) + 1:\n",
        "            print(f\"Erro: O número de bins ({len(bins_processados)}) deve ser um a mais que o número de labels ({len(labels)}).\")\n",
        "            return df\n",
        "\n",
        "\n",
        "        df[nova_coluna] = pd.cut(df[coluna_original], bins=bins_processados, labels=labels, right=right, include_lowest=include_lowest)\n",
        "\n",
        "        print(f\"Coluna '{coluna_original}' classificada com sucesso na nova coluna '{nova_coluna}'.\")\n",
        "\n",
        "        # Exibir a contagem de valores na nova coluna para verificar a distribuição\n",
        "        print(f\"\\nContagem de valores para a nova coluna '{nova_coluna}':\")\n",
        "        display(df[nova_coluna].value_counts(dropna=False))\n",
        "\n",
        "\n",
        "        return df # Retorna o DataFrame modificado\n",
        "    except Exception as e:\n",
        "        print(f\"Ocorreu um erro ao classificar a coluna '{coluna_original}': {e}\")\n",
        "        return df"
      ],
      "metadata": {
        "id": "FReiQpxEl2kn"
      },
      "execution_count": 306,
      "outputs": []
    },
    {
      "cell_type": "markdown",
      "source": [
        "### **Função para verificar valores nulos**"
      ],
      "metadata": {
        "id": "gHJ--WYbwcd8"
      }
    },
    {
      "cell_type": "code",
      "source": [
        "def verificar_nulos_por_coluna(df: pd.DataFrame) -> None:\n",
        "    \"\"\"\n",
        "    Verifica e imprime a quantidade de valores nulos por coluna em um DataFrame.\n",
        "\n",
        "    Args:\n",
        "        df (pd.DataFrame): O DataFrame a ser verificado.\n",
        "    \"\"\"\n",
        "    print(\"Verificando valores nulos por coluna:\")\n",
        "    try:\n",
        "        nulos_por_coluna = df.isnull().sum()\n",
        "        colunas_com_nulos = nulos_por_coluna[nulos_por_coluna > 0]\n",
        "\n",
        "        if colunas_com_nulos.empty:\n",
        "            print(\"Nenhuma coluna possui valores nulos.\")\n",
        "        else:\n",
        "            print(\"\\nColunas com valores nulos:\")\n",
        "            display(colunas_com_nulos)\n",
        "\n",
        "    except Exception as e:\n",
        "        print(f\"Ocorreu um erro ao verificar valores nulos: {e}\")\n",
        "\n",
        "# Exemplo de uso (comente ou remova se não quiser executar imediatamente)\n",
        "# verificar_nulos_por_coluna(df)"
      ],
      "metadata": {
        "id": "6ecQQ40NwcON"
      },
      "execution_count": 307,
      "outputs": []
    },
    {
      "cell_type": "markdown",
      "source": [
        "### **Criacao de CSV a partir de um dataframe**"
      ],
      "metadata": {
        "id": "KI7_K77QQSCL"
      }
    },
    {
      "cell_type": "code",
      "source": [
        "def criar_csv_de_dataframe(df: pd.DataFrame, nome_arquivo: str) -> None:\n",
        "    \"\"\"\n",
        "    Gera um arquivo CSV a partir de um DataFrame.\n",
        "\n",
        "    Args:\n",
        "        df (pd.DataFrame): O DataFrame a ser salvo.\n",
        "        nome_arquivo (str): O nome do arquivo CSV de saída (incluindo a extensão .csv).\n",
        "    \"\"\"\n",
        "    if not isinstance(df, pd.DataFrame):\n",
        "        print(\"Erro: O primeiro argumento deve ser um DataFrame do pandas.\")\n",
        "        return\n",
        "\n",
        "    if not isinstance(nome_arquivo, str) or not nome_arquivo.lower().endswith('.csv'):\n",
        "        print(\"Erro: O nome do arquivo deve ser uma string e terminar com '.csv'.\")\n",
        "        return\n",
        "\n",
        "    try:\n",
        "        df.to_csv(nome_arquivo, index=False)\n",
        "        print(f\"DataFrame salvo com sucesso em '{nome_arquivo}'\")\n",
        "    except Exception as e:\n",
        "        print(f\"Ocorreu um erro ao salvar o DataFrame em '{nome_arquivo}': {e}\")"
      ],
      "metadata": {
        "id": "0BOUCas2QcXk"
      },
      "execution_count": 308,
      "outputs": []
    },
    {
      "cell_type": "markdown",
      "source": [
        "### **Criação de arquivo json a partir de um dicionario**"
      ],
      "metadata": {
        "id": "brTSBNn3SQ-D"
      }
    },
    {
      "cell_type": "code",
      "source": [
        "def criar_json_de_dicionario(dicionario: dict, nome_arquivo: str) -> None:\n",
        "    \"\"\"\n",
        "    Gera um arquivo JSON a partir de um dicionário Python.\n",
        "\n",
        "    Args:\n",
        "        dicionario (dict): O dicionário a ser salvo.\n",
        "        nome_arquivo (str): O nome do arquivo JSON de saída (incluindo a extensão .json).\n",
        "    \"\"\"\n",
        "    if not isinstance(dicionario, dict):\n",
        "        print(\"Erro: O primeiro argumento deve ser um dicionário Python.\")\n",
        "        return\n",
        "\n",
        "    if not isinstance(nome_arquivo, str) or not nome_arquivo.lower().endswith('.json'):\n",
        "        print(\"Erro: O nome do arquivo deve ser uma string e terminar com '.json'.\")\n",
        "        return\n",
        "\n",
        "    try:\n",
        "        with open(nome_arquivo, 'w') as f:\n",
        "            json.dump(dicionario, f, indent=4)\n",
        "        print(f\"Dicionário salvo com sucesso em '{nome_arquivo}'\")\n",
        "    except TypeError as e:\n",
        "        print(f\"Erro: O conteúdo do dicionário não é serializável para JSON. Detalhes: {e}\")\n",
        "    except Exception as e:\n",
        "        print(f\"Ocorreu um erro ao salvar o dicionário em '{nome_arquivo}': {e}\")"
      ],
      "metadata": {
        "id": "pz2x5NrvSYWh"
      },
      "execution_count": 309,
      "outputs": []
    },
    {
      "cell_type": "markdown",
      "source": [
        "# **Dados**"
      ],
      "metadata": {
        "id": "gJy0E5dr6aRr"
      }
    },
    {
      "cell_type": "code",
      "source": [
        "# importando a base de dados Obesity.csv\n",
        "df = pd.read_csv('https://raw.githubusercontent.com/fiapdatanalytics/tech-challenge4/refs/heads/main/data/Obesity.csv')"
      ],
      "metadata": {
        "id": "v6TN_kOj6V1C"
      },
      "execution_count": 310,
      "outputs": []
    },
    {
      "cell_type": "markdown",
      "source": [
        "## **Dicionário de Dados**"
      ],
      "metadata": {
        "id": "viXpgqd5QTQ4"
      }
    },
    {
      "cell_type": "markdown",
      "source": [
        "- Criação de um dicionário de dados básicos com as colunas contidas no csv `Obesity.csv` Para isso foi utiliado a função `criar_novo_dicionario_dados()`."
      ],
      "metadata": {
        "id": "4BGtNes00D9v"
      }
    },
    {
      "cell_type": "code",
      "source": [
        "#cria dicionario de dados\n",
        "dicionario_dados_nivel_obesidade = criar_novo_dicionario_dados(df)\n",
        "caminho_arquivo = 'https://raw.githubusercontent.com/fiapdatanalytics/tech-challenge4/refs/heads/main/data/mapa_colunas.json'\n",
        "descricao_dados = ler_json_de_url(caminho_arquivo)\n",
        "atualizar_descricoes_dicionario(dicionario_dados_nivel_obesidade, descricao_dados)\n"
      ],
      "metadata": {
        "colab": {
          "base_uri": "https://localhost:8080/"
        },
        "id": "rRpxLOcAk3bR",
        "outputId": "13eb5a46-8d96-4f7c-d18d-44123607c6ba"
      },
      "execution_count": 311,
      "outputs": [
        {
          "output_type": "stream",
          "name": "stdout",
          "text": [
            "Novo dicionário de dados criado.\n",
            "Leitura com sucesso do caminho https://raw.githubusercontent.com/fiapdatanalytics/tech-challenge4/refs/heads/main/data/mapa_colunas.json\n",
            "Campo 'descricao' da coluna 'Gender' atualizado para: 'genero'\n",
            "Campo 'descricao' da coluna 'Age' atualizado para: 'idade'\n",
            "Campo 'descricao' da coluna 'Height' atualizado para: 'altura'\n",
            "Campo 'descricao' da coluna 'Weight' atualizado para: 'peso'\n",
            "Campo 'descricao' da coluna 'family_history' atualizado para: 'historico_familiar'\n",
            "Campo 'descricao' da coluna 'FAVC' atualizado para: 'favc'\n",
            "Campo 'descricao' da coluna 'FCVC' atualizado para: 'fcvc'\n",
            "Campo 'descricao' da coluna 'NCP' atualizado para: 'ncp'\n",
            "Campo 'descricao' da coluna 'CAEC' atualizado para: 'caec'\n",
            "Campo 'descricao' da coluna 'SMOKE' atualizado para: 'fumante'\n",
            "Campo 'descricao' da coluna 'CH2O' atualizado para: 'ch20'\n",
            "Campo 'descricao' da coluna 'SCC' atualizado para: 'scc'\n",
            "Campo 'descricao' da coluna 'FAF' atualizado para: 'faf'\n",
            "Campo 'descricao' da coluna 'TUE' atualizado para: 'tue'\n",
            "Campo 'descricao' da coluna 'CALC' atualizado para: 'calc'\n",
            "Campo 'descricao' da coluna 'MTRANS' atualizado para: 'mtrans'\n",
            "Campo 'descricao' da coluna 'Obesity' atualizado para: 'classificacao_peso_corporal'\n",
            "Quantidade de descrições atualizadas: 17.\n"
          ]
        },
        {
          "output_type": "execute_result",
          "data": {
            "text/plain": [
              "17"
            ]
          },
          "metadata": {},
          "execution_count": 311
        }
      ]
    },
    {
      "cell_type": "code",
      "source": [
        "print(json.dumps(dicionario_dados_nivel_obesidade, indent=4))\n"
      ],
      "metadata": {
        "colab": {
          "base_uri": "https://localhost:8080/"
        },
        "id": "5TFkiwjkDd2_",
        "outputId": "f6de9636-f9c2-4697-edfc-c3c5520e3997"
      },
      "execution_count": 312,
      "outputs": [
        {
          "output_type": "stream",
          "name": "stdout",
          "text": [
            "{\n",
            "    \"Gender\": {\n",
            "        \"nome_original\": \"Gender\",\n",
            "        \"tipo_coluna\": \"original\",\n",
            "        \"novo_nome\": null,\n",
            "        \"descricao\": \"genero\",\n",
            "        \"transformacao\": null\n",
            "    },\n",
            "    \"Age\": {\n",
            "        \"nome_original\": \"Age\",\n",
            "        \"tipo_coluna\": \"original\",\n",
            "        \"novo_nome\": null,\n",
            "        \"descricao\": \"idade\",\n",
            "        \"transformacao\": null\n",
            "    },\n",
            "    \"Height\": {\n",
            "        \"nome_original\": \"Height\",\n",
            "        \"tipo_coluna\": \"original\",\n",
            "        \"novo_nome\": null,\n",
            "        \"descricao\": \"altura\",\n",
            "        \"transformacao\": null\n",
            "    },\n",
            "    \"Weight\": {\n",
            "        \"nome_original\": \"Weight\",\n",
            "        \"tipo_coluna\": \"original\",\n",
            "        \"novo_nome\": null,\n",
            "        \"descricao\": \"peso\",\n",
            "        \"transformacao\": null\n",
            "    },\n",
            "    \"family_history\": {\n",
            "        \"nome_original\": \"family_history\",\n",
            "        \"tipo_coluna\": \"original\",\n",
            "        \"novo_nome\": null,\n",
            "        \"descricao\": \"historico_familiar\",\n",
            "        \"transformacao\": null\n",
            "    },\n",
            "    \"FAVC\": {\n",
            "        \"nome_original\": \"FAVC\",\n",
            "        \"tipo_coluna\": \"original\",\n",
            "        \"novo_nome\": null,\n",
            "        \"descricao\": \"favc\",\n",
            "        \"transformacao\": null\n",
            "    },\n",
            "    \"FCVC\": {\n",
            "        \"nome_original\": \"FCVC\",\n",
            "        \"tipo_coluna\": \"original\",\n",
            "        \"novo_nome\": null,\n",
            "        \"descricao\": \"fcvc\",\n",
            "        \"transformacao\": null\n",
            "    },\n",
            "    \"NCP\": {\n",
            "        \"nome_original\": \"NCP\",\n",
            "        \"tipo_coluna\": \"original\",\n",
            "        \"novo_nome\": null,\n",
            "        \"descricao\": \"ncp\",\n",
            "        \"transformacao\": null\n",
            "    },\n",
            "    \"CAEC\": {\n",
            "        \"nome_original\": \"CAEC\",\n",
            "        \"tipo_coluna\": \"original\",\n",
            "        \"novo_nome\": null,\n",
            "        \"descricao\": \"caec\",\n",
            "        \"transformacao\": null\n",
            "    },\n",
            "    \"SMOKE\": {\n",
            "        \"nome_original\": \"SMOKE\",\n",
            "        \"tipo_coluna\": \"original\",\n",
            "        \"novo_nome\": null,\n",
            "        \"descricao\": \"fumante\",\n",
            "        \"transformacao\": null\n",
            "    },\n",
            "    \"CH2O\": {\n",
            "        \"nome_original\": \"CH2O\",\n",
            "        \"tipo_coluna\": \"original\",\n",
            "        \"novo_nome\": null,\n",
            "        \"descricao\": \"ch20\",\n",
            "        \"transformacao\": null\n",
            "    },\n",
            "    \"SCC\": {\n",
            "        \"nome_original\": \"SCC\",\n",
            "        \"tipo_coluna\": \"original\",\n",
            "        \"novo_nome\": null,\n",
            "        \"descricao\": \"scc\",\n",
            "        \"transformacao\": null\n",
            "    },\n",
            "    \"FAF\": {\n",
            "        \"nome_original\": \"FAF\",\n",
            "        \"tipo_coluna\": \"original\",\n",
            "        \"novo_nome\": null,\n",
            "        \"descricao\": \"faf\",\n",
            "        \"transformacao\": null\n",
            "    },\n",
            "    \"TUE\": {\n",
            "        \"nome_original\": \"TUE\",\n",
            "        \"tipo_coluna\": \"original\",\n",
            "        \"novo_nome\": null,\n",
            "        \"descricao\": \"tue\",\n",
            "        \"transformacao\": null\n",
            "    },\n",
            "    \"CALC\": {\n",
            "        \"nome_original\": \"CALC\",\n",
            "        \"tipo_coluna\": \"original\",\n",
            "        \"novo_nome\": null,\n",
            "        \"descricao\": \"calc\",\n",
            "        \"transformacao\": null\n",
            "    },\n",
            "    \"MTRANS\": {\n",
            "        \"nome_original\": \"MTRANS\",\n",
            "        \"tipo_coluna\": \"original\",\n",
            "        \"novo_nome\": null,\n",
            "        \"descricao\": \"mtrans\",\n",
            "        \"transformacao\": null\n",
            "    },\n",
            "    \"Obesity\": {\n",
            "        \"nome_original\": \"Obesity\",\n",
            "        \"tipo_coluna\": \"original\",\n",
            "        \"novo_nome\": null,\n",
            "        \"descricao\": \"classificacao_peso_corporal\",\n",
            "        \"transformacao\": null\n",
            "    }\n",
            "}\n"
          ]
        }
      ]
    },
    {
      "cell_type": "code",
      "source": [
        "# visualização dos 5 primeiros registros da base\n",
        "df.head()"
      ],
      "metadata": {
        "colab": {
          "base_uri": "https://localhost:8080/",
          "height": 226
        },
        "id": "vpVpaMdG6mci",
        "outputId": "1f6020ea-69e0-435c-8f89-ba77aabe4c5e"
      },
      "execution_count": 313,
      "outputs": [
        {
          "output_type": "execute_result",
          "data": {
            "text/plain": [
              "   Gender   Age  Height  Weight family_history FAVC  FCVC  NCP       CAEC  \\\n",
              "0  Female  21.0    1.62    64.0            yes   no   2.0  3.0  Sometimes   \n",
              "1  Female  21.0    1.52    56.0            yes   no   3.0  3.0  Sometimes   \n",
              "2    Male  23.0    1.80    77.0            yes   no   2.0  3.0  Sometimes   \n",
              "3    Male  27.0    1.80    87.0             no   no   3.0  3.0  Sometimes   \n",
              "4    Male  22.0    1.78    89.8             no   no   2.0  1.0  Sometimes   \n",
              "\n",
              "  SMOKE  CH2O  SCC  FAF  TUE        CALC                 MTRANS  \\\n",
              "0    no   2.0   no  0.0  1.0          no  Public_Transportation   \n",
              "1   yes   3.0  yes  3.0  0.0   Sometimes  Public_Transportation   \n",
              "2    no   2.0   no  2.0  1.0  Frequently  Public_Transportation   \n",
              "3    no   2.0   no  2.0  0.0  Frequently                Walking   \n",
              "4    no   2.0   no  0.0  0.0   Sometimes  Public_Transportation   \n",
              "\n",
              "               Obesity  \n",
              "0        Normal_Weight  \n",
              "1        Normal_Weight  \n",
              "2        Normal_Weight  \n",
              "3   Overweight_Level_I  \n",
              "4  Overweight_Level_II  "
            ],
            "text/html": [
              "\n",
              "  <div id=\"df-d9945cd4-e1a1-47af-9ca1-26fc38a5c697\" class=\"colab-df-container\">\n",
              "    <div>\n",
              "<style scoped>\n",
              "    .dataframe tbody tr th:only-of-type {\n",
              "        vertical-align: middle;\n",
              "    }\n",
              "\n",
              "    .dataframe tbody tr th {\n",
              "        vertical-align: top;\n",
              "    }\n",
              "\n",
              "    .dataframe thead th {\n",
              "        text-align: right;\n",
              "    }\n",
              "</style>\n",
              "<table border=\"1\" class=\"dataframe\">\n",
              "  <thead>\n",
              "    <tr style=\"text-align: right;\">\n",
              "      <th></th>\n",
              "      <th>Gender</th>\n",
              "      <th>Age</th>\n",
              "      <th>Height</th>\n",
              "      <th>Weight</th>\n",
              "      <th>family_history</th>\n",
              "      <th>FAVC</th>\n",
              "      <th>FCVC</th>\n",
              "      <th>NCP</th>\n",
              "      <th>CAEC</th>\n",
              "      <th>SMOKE</th>\n",
              "      <th>CH2O</th>\n",
              "      <th>SCC</th>\n",
              "      <th>FAF</th>\n",
              "      <th>TUE</th>\n",
              "      <th>CALC</th>\n",
              "      <th>MTRANS</th>\n",
              "      <th>Obesity</th>\n",
              "    </tr>\n",
              "  </thead>\n",
              "  <tbody>\n",
              "    <tr>\n",
              "      <th>0</th>\n",
              "      <td>Female</td>\n",
              "      <td>21.0</td>\n",
              "      <td>1.62</td>\n",
              "      <td>64.0</td>\n",
              "      <td>yes</td>\n",
              "      <td>no</td>\n",
              "      <td>2.0</td>\n",
              "      <td>3.0</td>\n",
              "      <td>Sometimes</td>\n",
              "      <td>no</td>\n",
              "      <td>2.0</td>\n",
              "      <td>no</td>\n",
              "      <td>0.0</td>\n",
              "      <td>1.0</td>\n",
              "      <td>no</td>\n",
              "      <td>Public_Transportation</td>\n",
              "      <td>Normal_Weight</td>\n",
              "    </tr>\n",
              "    <tr>\n",
              "      <th>1</th>\n",
              "      <td>Female</td>\n",
              "      <td>21.0</td>\n",
              "      <td>1.52</td>\n",
              "      <td>56.0</td>\n",
              "      <td>yes</td>\n",
              "      <td>no</td>\n",
              "      <td>3.0</td>\n",
              "      <td>3.0</td>\n",
              "      <td>Sometimes</td>\n",
              "      <td>yes</td>\n",
              "      <td>3.0</td>\n",
              "      <td>yes</td>\n",
              "      <td>3.0</td>\n",
              "      <td>0.0</td>\n",
              "      <td>Sometimes</td>\n",
              "      <td>Public_Transportation</td>\n",
              "      <td>Normal_Weight</td>\n",
              "    </tr>\n",
              "    <tr>\n",
              "      <th>2</th>\n",
              "      <td>Male</td>\n",
              "      <td>23.0</td>\n",
              "      <td>1.80</td>\n",
              "      <td>77.0</td>\n",
              "      <td>yes</td>\n",
              "      <td>no</td>\n",
              "      <td>2.0</td>\n",
              "      <td>3.0</td>\n",
              "      <td>Sometimes</td>\n",
              "      <td>no</td>\n",
              "      <td>2.0</td>\n",
              "      <td>no</td>\n",
              "      <td>2.0</td>\n",
              "      <td>1.0</td>\n",
              "      <td>Frequently</td>\n",
              "      <td>Public_Transportation</td>\n",
              "      <td>Normal_Weight</td>\n",
              "    </tr>\n",
              "    <tr>\n",
              "      <th>3</th>\n",
              "      <td>Male</td>\n",
              "      <td>27.0</td>\n",
              "      <td>1.80</td>\n",
              "      <td>87.0</td>\n",
              "      <td>no</td>\n",
              "      <td>no</td>\n",
              "      <td>3.0</td>\n",
              "      <td>3.0</td>\n",
              "      <td>Sometimes</td>\n",
              "      <td>no</td>\n",
              "      <td>2.0</td>\n",
              "      <td>no</td>\n",
              "      <td>2.0</td>\n",
              "      <td>0.0</td>\n",
              "      <td>Frequently</td>\n",
              "      <td>Walking</td>\n",
              "      <td>Overweight_Level_I</td>\n",
              "    </tr>\n",
              "    <tr>\n",
              "      <th>4</th>\n",
              "      <td>Male</td>\n",
              "      <td>22.0</td>\n",
              "      <td>1.78</td>\n",
              "      <td>89.8</td>\n",
              "      <td>no</td>\n",
              "      <td>no</td>\n",
              "      <td>2.0</td>\n",
              "      <td>1.0</td>\n",
              "      <td>Sometimes</td>\n",
              "      <td>no</td>\n",
              "      <td>2.0</td>\n",
              "      <td>no</td>\n",
              "      <td>0.0</td>\n",
              "      <td>0.0</td>\n",
              "      <td>Sometimes</td>\n",
              "      <td>Public_Transportation</td>\n",
              "      <td>Overweight_Level_II</td>\n",
              "    </tr>\n",
              "  </tbody>\n",
              "</table>\n",
              "</div>\n",
              "    <div class=\"colab-df-buttons\">\n",
              "\n",
              "  <div class=\"colab-df-container\">\n",
              "    <button class=\"colab-df-convert\" onclick=\"convertToInteractive('df-d9945cd4-e1a1-47af-9ca1-26fc38a5c697')\"\n",
              "            title=\"Convert this dataframe to an interactive table.\"\n",
              "            style=\"display:none;\">\n",
              "\n",
              "  <svg xmlns=\"http://www.w3.org/2000/svg\" height=\"24px\" viewBox=\"0 -960 960 960\">\n",
              "    <path d=\"M120-120v-720h720v720H120Zm60-500h600v-160H180v160Zm220 220h160v-160H400v160Zm0 220h160v-160H400v160ZM180-400h160v-160H180v160Zm440 0h160v-160H620v160ZM180-180h160v-160H180v160Zm440 0h160v-160H620v160Z\"/>\n",
              "  </svg>\n",
              "    </button>\n",
              "\n",
              "  <style>\n",
              "    .colab-df-container {\n",
              "      display:flex;\n",
              "      gap: 12px;\n",
              "    }\n",
              "\n",
              "    .colab-df-convert {\n",
              "      background-color: #E8F0FE;\n",
              "      border: none;\n",
              "      border-radius: 50%;\n",
              "      cursor: pointer;\n",
              "      display: none;\n",
              "      fill: #1967D2;\n",
              "      height: 32px;\n",
              "      padding: 0 0 0 0;\n",
              "      width: 32px;\n",
              "    }\n",
              "\n",
              "    .colab-df-convert:hover {\n",
              "      background-color: #E2EBFA;\n",
              "      box-shadow: 0px 1px 2px rgba(60, 64, 67, 0.3), 0px 1px 3px 1px rgba(60, 64, 67, 0.15);\n",
              "      fill: #174EA6;\n",
              "    }\n",
              "\n",
              "    .colab-df-buttons div {\n",
              "      margin-bottom: 4px;\n",
              "    }\n",
              "\n",
              "    [theme=dark] .colab-df-convert {\n",
              "      background-color: #3B4455;\n",
              "      fill: #D2E3FC;\n",
              "    }\n",
              "\n",
              "    [theme=dark] .colab-df-convert:hover {\n",
              "      background-color: #434B5C;\n",
              "      box-shadow: 0px 1px 3px 1px rgba(0, 0, 0, 0.15);\n",
              "      filter: drop-shadow(0px 1px 2px rgba(0, 0, 0, 0.3));\n",
              "      fill: #FFFFFF;\n",
              "    }\n",
              "  </style>\n",
              "\n",
              "    <script>\n",
              "      const buttonEl =\n",
              "        document.querySelector('#df-d9945cd4-e1a1-47af-9ca1-26fc38a5c697 button.colab-df-convert');\n",
              "      buttonEl.style.display =\n",
              "        google.colab.kernel.accessAllowed ? 'block' : 'none';\n",
              "\n",
              "      async function convertToInteractive(key) {\n",
              "        const element = document.querySelector('#df-d9945cd4-e1a1-47af-9ca1-26fc38a5c697');\n",
              "        const dataTable =\n",
              "          await google.colab.kernel.invokeFunction('convertToInteractive',\n",
              "                                                    [key], {});\n",
              "        if (!dataTable) return;\n",
              "\n",
              "        const docLinkHtml = 'Like what you see? Visit the ' +\n",
              "          '<a target=\"_blank\" href=https://colab.research.google.com/notebooks/data_table.ipynb>data table notebook</a>'\n",
              "          + ' to learn more about interactive tables.';\n",
              "        element.innerHTML = '';\n",
              "        dataTable['output_type'] = 'display_data';\n",
              "        await google.colab.output.renderOutput(dataTable, element);\n",
              "        const docLink = document.createElement('div');\n",
              "        docLink.innerHTML = docLinkHtml;\n",
              "        element.appendChild(docLink);\n",
              "      }\n",
              "    </script>\n",
              "  </div>\n",
              "\n",
              "\n",
              "    <div id=\"df-e8e9646c-5263-4e40-825d-f108f2602eb2\">\n",
              "      <button class=\"colab-df-quickchart\" onclick=\"quickchart('df-e8e9646c-5263-4e40-825d-f108f2602eb2')\"\n",
              "                title=\"Suggest charts\"\n",
              "                style=\"display:none;\">\n",
              "\n",
              "<svg xmlns=\"http://www.w3.org/2000/svg\" height=\"24px\"viewBox=\"0 0 24 24\"\n",
              "     width=\"24px\">\n",
              "    <g>\n",
              "        <path d=\"M19 3H5c-1.1 0-2 .9-2 2v14c0 1.1.9 2 2 2h14c1.1 0 2-.9 2-2V5c0-1.1-.9-2-2-2zM9 17H7v-7h2v7zm4 0h-2V7h2v10zm4 0h-2v-4h2v4z\"/>\n",
              "    </g>\n",
              "</svg>\n",
              "      </button>\n",
              "\n",
              "<style>\n",
              "  .colab-df-quickchart {\n",
              "      --bg-color: #E8F0FE;\n",
              "      --fill-color: #1967D2;\n",
              "      --hover-bg-color: #E2EBFA;\n",
              "      --hover-fill-color: #174EA6;\n",
              "      --disabled-fill-color: #AAA;\n",
              "      --disabled-bg-color: #DDD;\n",
              "  }\n",
              "\n",
              "  [theme=dark] .colab-df-quickchart {\n",
              "      --bg-color: #3B4455;\n",
              "      --fill-color: #D2E3FC;\n",
              "      --hover-bg-color: #434B5C;\n",
              "      --hover-fill-color: #FFFFFF;\n",
              "      --disabled-bg-color: #3B4455;\n",
              "      --disabled-fill-color: #666;\n",
              "  }\n",
              "\n",
              "  .colab-df-quickchart {\n",
              "    background-color: var(--bg-color);\n",
              "    border: none;\n",
              "    border-radius: 50%;\n",
              "    cursor: pointer;\n",
              "    display: none;\n",
              "    fill: var(--fill-color);\n",
              "    height: 32px;\n",
              "    padding: 0;\n",
              "    width: 32px;\n",
              "  }\n",
              "\n",
              "  .colab-df-quickchart:hover {\n",
              "    background-color: var(--hover-bg-color);\n",
              "    box-shadow: 0 1px 2px rgba(60, 64, 67, 0.3), 0 1px 3px 1px rgba(60, 64, 67, 0.15);\n",
              "    fill: var(--button-hover-fill-color);\n",
              "  }\n",
              "\n",
              "  .colab-df-quickchart-complete:disabled,\n",
              "  .colab-df-quickchart-complete:disabled:hover {\n",
              "    background-color: var(--disabled-bg-color);\n",
              "    fill: var(--disabled-fill-color);\n",
              "    box-shadow: none;\n",
              "  }\n",
              "\n",
              "  .colab-df-spinner {\n",
              "    border: 2px solid var(--fill-color);\n",
              "    border-color: transparent;\n",
              "    border-bottom-color: var(--fill-color);\n",
              "    animation:\n",
              "      spin 1s steps(1) infinite;\n",
              "  }\n",
              "\n",
              "  @keyframes spin {\n",
              "    0% {\n",
              "      border-color: transparent;\n",
              "      border-bottom-color: var(--fill-color);\n",
              "      border-left-color: var(--fill-color);\n",
              "    }\n",
              "    20% {\n",
              "      border-color: transparent;\n",
              "      border-left-color: var(--fill-color);\n",
              "      border-top-color: var(--fill-color);\n",
              "    }\n",
              "    30% {\n",
              "      border-color: transparent;\n",
              "      border-left-color: var(--fill-color);\n",
              "      border-top-color: var(--fill-color);\n",
              "      border-right-color: var(--fill-color);\n",
              "    }\n",
              "    40% {\n",
              "      border-color: transparent;\n",
              "      border-right-color: var(--fill-color);\n",
              "      border-top-color: var(--fill-color);\n",
              "    }\n",
              "    60% {\n",
              "      border-color: transparent;\n",
              "      border-right-color: var(--fill-color);\n",
              "    }\n",
              "    80% {\n",
              "      border-color: transparent;\n",
              "      border-right-color: var(--fill-color);\n",
              "      border-bottom-color: var(--fill-color);\n",
              "    }\n",
              "    90% {\n",
              "      border-color: transparent;\n",
              "      border-bottom-color: var(--fill-color);\n",
              "    }\n",
              "  }\n",
              "</style>\n",
              "\n",
              "      <script>\n",
              "        async function quickchart(key) {\n",
              "          const quickchartButtonEl =\n",
              "            document.querySelector('#' + key + ' button');\n",
              "          quickchartButtonEl.disabled = true;  // To prevent multiple clicks.\n",
              "          quickchartButtonEl.classList.add('colab-df-spinner');\n",
              "          try {\n",
              "            const charts = await google.colab.kernel.invokeFunction(\n",
              "                'suggestCharts', [key], {});\n",
              "          } catch (error) {\n",
              "            console.error('Error during call to suggestCharts:', error);\n",
              "          }\n",
              "          quickchartButtonEl.classList.remove('colab-df-spinner');\n",
              "          quickchartButtonEl.classList.add('colab-df-quickchart-complete');\n",
              "        }\n",
              "        (() => {\n",
              "          let quickchartButtonEl =\n",
              "            document.querySelector('#df-e8e9646c-5263-4e40-825d-f108f2602eb2 button');\n",
              "          quickchartButtonEl.style.display =\n",
              "            google.colab.kernel.accessAllowed ? 'block' : 'none';\n",
              "        })();\n",
              "      </script>\n",
              "    </div>\n",
              "\n",
              "    </div>\n",
              "  </div>\n"
            ],
            "application/vnd.google.colaboratory.intrinsic+json": {
              "type": "dataframe",
              "variable_name": "df",
              "summary": "{\n  \"name\": \"df\",\n  \"rows\": 2111,\n  \"fields\": [\n    {\n      \"column\": \"Gender\",\n      \"properties\": {\n        \"dtype\": \"category\",\n        \"num_unique_values\": 2,\n        \"samples\": [\n          \"Male\",\n          \"Female\"\n        ],\n        \"semantic_type\": \"\",\n        \"description\": \"\"\n      }\n    },\n    {\n      \"column\": \"Age\",\n      \"properties\": {\n        \"dtype\": \"number\",\n        \"std\": 6.3459682737322405,\n        \"min\": 14.0,\n        \"max\": 61.0,\n        \"num_unique_values\": 1402,\n        \"samples\": [\n          25.526746,\n          26.740655\n        ],\n        \"semantic_type\": \"\",\n        \"description\": \"\"\n      }\n    },\n    {\n      \"column\": \"Height\",\n      \"properties\": {\n        \"dtype\": \"number\",\n        \"std\": 0.09330481986792,\n        \"min\": 1.45,\n        \"max\": 1.98,\n        \"num_unique_values\": 1574,\n        \"samples\": [\n          1.760175,\n          1.688436\n        ],\n        \"semantic_type\": \"\",\n        \"description\": \"\"\n      }\n    },\n    {\n      \"column\": \"Weight\",\n      \"properties\": {\n        \"dtype\": \"number\",\n        \"std\": 26.191171745204688,\n        \"min\": 39.0,\n        \"max\": 173.0,\n        \"num_unique_values\": 1525,\n        \"samples\": [\n          120.702935,\n          64.4\n        ],\n        \"semantic_type\": \"\",\n        \"description\": \"\"\n      }\n    },\n    {\n      \"column\": \"family_history\",\n      \"properties\": {\n        \"dtype\": \"category\",\n        \"num_unique_values\": 2,\n        \"samples\": [\n          \"no\",\n          \"yes\"\n        ],\n        \"semantic_type\": \"\",\n        \"description\": \"\"\n      }\n    },\n    {\n      \"column\": \"FAVC\",\n      \"properties\": {\n        \"dtype\": \"category\",\n        \"num_unique_values\": 2,\n        \"samples\": [\n          \"yes\",\n          \"no\"\n        ],\n        \"semantic_type\": \"\",\n        \"description\": \"\"\n      }\n    },\n    {\n      \"column\": \"FCVC\",\n      \"properties\": {\n        \"dtype\": \"number\",\n        \"std\": 0.5339265785033023,\n        \"min\": 1.0,\n        \"max\": 3.0,\n        \"num_unique_values\": 810,\n        \"samples\": [\n          2.987148,\n          2.939727\n        ],\n        \"semantic_type\": \"\",\n        \"description\": \"\"\n      }\n    },\n    {\n      \"column\": \"NCP\",\n      \"properties\": {\n        \"dtype\": \"number\",\n        \"std\": 0.7780386488418594,\n        \"min\": 1.0,\n        \"max\": 4.0,\n        \"num_unique_values\": 635,\n        \"samples\": [\n          1.468948,\n          2.9948\n        ],\n        \"semantic_type\": \"\",\n        \"description\": \"\"\n      }\n    },\n    {\n      \"column\": \"CAEC\",\n      \"properties\": {\n        \"dtype\": \"category\",\n        \"num_unique_values\": 4,\n        \"samples\": [\n          \"Frequently\",\n          \"no\"\n        ],\n        \"semantic_type\": \"\",\n        \"description\": \"\"\n      }\n    },\n    {\n      \"column\": \"SMOKE\",\n      \"properties\": {\n        \"dtype\": \"category\",\n        \"num_unique_values\": 2,\n        \"samples\": [\n          \"yes\",\n          \"no\"\n        ],\n        \"semantic_type\": \"\",\n        \"description\": \"\"\n      }\n    },\n    {\n      \"column\": \"CH2O\",\n      \"properties\": {\n        \"dtype\": \"number\",\n        \"std\": 0.6129534517968702,\n        \"min\": 1.0,\n        \"max\": 3.0,\n        \"num_unique_values\": 1268,\n        \"samples\": [\n          2.395387,\n          1.983973\n        ],\n        \"semantic_type\": \"\",\n        \"description\": \"\"\n      }\n    },\n    {\n      \"column\": \"SCC\",\n      \"properties\": {\n        \"dtype\": \"category\",\n        \"num_unique_values\": 2,\n        \"samples\": [\n          \"yes\",\n          \"no\"\n        ],\n        \"semantic_type\": \"\",\n        \"description\": \"\"\n      }\n    },\n    {\n      \"column\": \"FAF\",\n      \"properties\": {\n        \"dtype\": \"number\",\n        \"std\": 0.8505924308367011,\n        \"min\": 0.0,\n        \"max\": 3.0,\n        \"num_unique_values\": 1190,\n        \"samples\": [\n          1.655488,\n          2.433918\n        ],\n        \"semantic_type\": \"\",\n        \"description\": \"\"\n      }\n    },\n    {\n      \"column\": \"TUE\",\n      \"properties\": {\n        \"dtype\": \"number\",\n        \"std\": 0.6089272596763761,\n        \"min\": 0.0,\n        \"max\": 2.0,\n        \"num_unique_values\": 1129,\n        \"samples\": [\n          1.416353,\n          0.878258\n        ],\n        \"semantic_type\": \"\",\n        \"description\": \"\"\n      }\n    },\n    {\n      \"column\": \"CALC\",\n      \"properties\": {\n        \"dtype\": \"category\",\n        \"num_unique_values\": 4,\n        \"samples\": [\n          \"Sometimes\",\n          \"Always\"\n        ],\n        \"semantic_type\": \"\",\n        \"description\": \"\"\n      }\n    },\n    {\n      \"column\": \"MTRANS\",\n      \"properties\": {\n        \"dtype\": \"category\",\n        \"num_unique_values\": 5,\n        \"samples\": [\n          \"Walking\",\n          \"Bike\"\n        ],\n        \"semantic_type\": \"\",\n        \"description\": \"\"\n      }\n    },\n    {\n      \"column\": \"Obesity\",\n      \"properties\": {\n        \"dtype\": \"category\",\n        \"num_unique_values\": 7,\n        \"samples\": [\n          \"Normal_Weight\",\n          \"Overweight_Level_I\"\n        ],\n        \"semantic_type\": \"\",\n        \"description\": \"\"\n      }\n    }\n  ]\n}"
            }
          },
          "metadata": {},
          "execution_count": 313
        }
      ]
    },
    {
      "cell_type": "code",
      "source": [
        "df.info()"
      ],
      "metadata": {
        "colab": {
          "base_uri": "https://localhost:8080/"
        },
        "id": "dF6iAARVfHcg",
        "outputId": "0bcb9eae-8536-4946-f575-81b0f429746d"
      },
      "execution_count": 314,
      "outputs": [
        {
          "output_type": "stream",
          "name": "stdout",
          "text": [
            "<class 'pandas.core.frame.DataFrame'>\n",
            "RangeIndex: 2111 entries, 0 to 2110\n",
            "Data columns (total 17 columns):\n",
            " #   Column          Non-Null Count  Dtype  \n",
            "---  ------          --------------  -----  \n",
            " 0   Gender          2111 non-null   object \n",
            " 1   Age             2111 non-null   float64\n",
            " 2   Height          2111 non-null   float64\n",
            " 3   Weight          2111 non-null   float64\n",
            " 4   family_history  2111 non-null   object \n",
            " 5   FAVC            2111 non-null   object \n",
            " 6   FCVC            2111 non-null   float64\n",
            " 7   NCP             2111 non-null   float64\n",
            " 8   CAEC            2111 non-null   object \n",
            " 9   SMOKE           2111 non-null   object \n",
            " 10  CH2O            2111 non-null   float64\n",
            " 11  SCC             2111 non-null   object \n",
            " 12  FAF             2111 non-null   float64\n",
            " 13  TUE             2111 non-null   float64\n",
            " 14  CALC            2111 non-null   object \n",
            " 15  MTRANS          2111 non-null   object \n",
            " 16  Obesity         2111 non-null   object \n",
            "dtypes: float64(8), object(9)\n",
            "memory usage: 280.5+ KB\n"
          ]
        }
      ]
    },
    {
      "cell_type": "markdown",
      "source": [
        "## **Alteração Nomes Colunas**"
      ],
      "metadata": {
        "id": "YtDuYaKOOhOR"
      }
    },
    {
      "cell_type": "markdown",
      "source": [
        "Utilizada a função `renomear_colunas()` para aplicar o novo padrão de nomes contido no arquivo `/content/mapa_colunas.json`. Essa função tamb;em atualiza o dicionário de dados."
      ],
      "metadata": {
        "id": "66LMIdlTy9vO"
      }
    },
    {
      "cell_type": "code",
      "metadata": {
        "colab": {
          "base_uri": "https://localhost:8080/"
        },
        "id": "ds6UmTrJ6ynQ",
        "outputId": "56ca31e4-43b4-4dfc-e15e-a8354df078c6"
      },
      "source": [
        "mapa_colunas = ler_json_de_url('https://raw.githubusercontent.com/fiapdatanalytics/tech-challenge4/refs/heads/main/data/mapa_colunas.json')\n",
        "#renomea colunas\n",
        "#atualiza dicionario de dados\n",
        "renomear_colunas(df, mapa_colunas,dicionario_dados_nivel_obesidade)"
      ],
      "execution_count": 315,
      "outputs": [
        {
          "output_type": "stream",
          "name": "stdout",
          "text": [
            "Leitura com sucesso do caminho https://raw.githubusercontent.com/fiapdatanalytics/tech-challenge4/refs/heads/main/data/mapa_colunas.json\n",
            "Número de linhas e colunas antes da transformação:\n",
            "Linhas: 2111, Colunas: 17\n",
            "\n",
            "Nomes das colunas originais:\n",
            "['Gender', 'Age', 'Height', 'Weight', 'family_history', 'FAVC', 'FCVC', 'NCP', 'CAEC', 'SMOKE', 'CH2O', 'SCC', 'FAF', 'TUE', 'CALC', 'MTRANS', 'Obesity']\n",
            "\n",
            "Utilizado dicionário de renomeação fornecido.\n",
            "\n",
            "Nomes das colunas modificadas:\n",
            "['genero', 'idade', 'altura', 'peso', 'historico_familiar', 'favc', 'fcvc', 'ncp', 'caec', 'fumante', 'ch20', 'scc', 'faf', 'tue', 'calc', 'mtrans', 'classificacao_peso_corporal']\n",
            "\n",
            "Número de linhas e colunas após a transformação:\n",
            "Linhas: 2111, Colunas: 17\n",
            "Iniciando a atualização do dicionário de dados com renomeações...\n",
            "Dicionário de dados atualizado com renomeações.\n"
          ]
        }
      ]
    },
    {
      "cell_type": "markdown",
      "source": [
        "# **Exploração**"
      ],
      "metadata": {
        "id": "eF7cwpclDRXJ"
      }
    },
    {
      "cell_type": "markdown",
      "source": [
        "## **Estatística básica**"
      ],
      "metadata": {
        "id": "WLiA7tt1DWBK"
      }
    },
    {
      "cell_type": "markdown",
      "source": [
        "### **Descritivo Geral da base**"
      ],
      "metadata": {
        "id": "W7tzkaHjJYLc"
      }
    },
    {
      "cell_type": "code",
      "source": [
        "df.describe()"
      ],
      "metadata": {
        "colab": {
          "base_uri": "https://localhost:8080/",
          "height": 300
        },
        "id": "EwH9FefpDVGz",
        "outputId": "a93940c0-ac3b-4af2-e67b-d9231114e241"
      },
      "execution_count": 316,
      "outputs": [
        {
          "output_type": "execute_result",
          "data": {
            "text/plain": [
              "             idade       altura         peso         fcvc          ncp  \\\n",
              "count  2111.000000  2111.000000  2111.000000  2111.000000  2111.000000   \n",
              "mean     24.312600     1.701677    86.586058     2.419043     2.685628   \n",
              "std       6.345968     0.093305    26.191172     0.533927     0.778039   \n",
              "min      14.000000     1.450000    39.000000     1.000000     1.000000   \n",
              "25%      19.947192     1.630000    65.473343     2.000000     2.658738   \n",
              "50%      22.777890     1.700499    83.000000     2.385502     3.000000   \n",
              "75%      26.000000     1.768464   107.430682     3.000000     3.000000   \n",
              "max      61.000000     1.980000   173.000000     3.000000     4.000000   \n",
              "\n",
              "              ch20          faf          tue  \n",
              "count  2111.000000  2111.000000  2111.000000  \n",
              "mean      2.008011     1.010298     0.657866  \n",
              "std       0.612953     0.850592     0.608927  \n",
              "min       1.000000     0.000000     0.000000  \n",
              "25%       1.584812     0.124505     0.000000  \n",
              "50%       2.000000     1.000000     0.625350  \n",
              "75%       2.477420     1.666678     1.000000  \n",
              "max       3.000000     3.000000     2.000000  "
            ],
            "text/html": [
              "\n",
              "  <div id=\"df-b987b7b0-461e-4ca8-9f91-7fe64684043f\" class=\"colab-df-container\">\n",
              "    <div>\n",
              "<style scoped>\n",
              "    .dataframe tbody tr th:only-of-type {\n",
              "        vertical-align: middle;\n",
              "    }\n",
              "\n",
              "    .dataframe tbody tr th {\n",
              "        vertical-align: top;\n",
              "    }\n",
              "\n",
              "    .dataframe thead th {\n",
              "        text-align: right;\n",
              "    }\n",
              "</style>\n",
              "<table border=\"1\" class=\"dataframe\">\n",
              "  <thead>\n",
              "    <tr style=\"text-align: right;\">\n",
              "      <th></th>\n",
              "      <th>idade</th>\n",
              "      <th>altura</th>\n",
              "      <th>peso</th>\n",
              "      <th>fcvc</th>\n",
              "      <th>ncp</th>\n",
              "      <th>ch20</th>\n",
              "      <th>faf</th>\n",
              "      <th>tue</th>\n",
              "    </tr>\n",
              "  </thead>\n",
              "  <tbody>\n",
              "    <tr>\n",
              "      <th>count</th>\n",
              "      <td>2111.000000</td>\n",
              "      <td>2111.000000</td>\n",
              "      <td>2111.000000</td>\n",
              "      <td>2111.000000</td>\n",
              "      <td>2111.000000</td>\n",
              "      <td>2111.000000</td>\n",
              "      <td>2111.000000</td>\n",
              "      <td>2111.000000</td>\n",
              "    </tr>\n",
              "    <tr>\n",
              "      <th>mean</th>\n",
              "      <td>24.312600</td>\n",
              "      <td>1.701677</td>\n",
              "      <td>86.586058</td>\n",
              "      <td>2.419043</td>\n",
              "      <td>2.685628</td>\n",
              "      <td>2.008011</td>\n",
              "      <td>1.010298</td>\n",
              "      <td>0.657866</td>\n",
              "    </tr>\n",
              "    <tr>\n",
              "      <th>std</th>\n",
              "      <td>6.345968</td>\n",
              "      <td>0.093305</td>\n",
              "      <td>26.191172</td>\n",
              "      <td>0.533927</td>\n",
              "      <td>0.778039</td>\n",
              "      <td>0.612953</td>\n",
              "      <td>0.850592</td>\n",
              "      <td>0.608927</td>\n",
              "    </tr>\n",
              "    <tr>\n",
              "      <th>min</th>\n",
              "      <td>14.000000</td>\n",
              "      <td>1.450000</td>\n",
              "      <td>39.000000</td>\n",
              "      <td>1.000000</td>\n",
              "      <td>1.000000</td>\n",
              "      <td>1.000000</td>\n",
              "      <td>0.000000</td>\n",
              "      <td>0.000000</td>\n",
              "    </tr>\n",
              "    <tr>\n",
              "      <th>25%</th>\n",
              "      <td>19.947192</td>\n",
              "      <td>1.630000</td>\n",
              "      <td>65.473343</td>\n",
              "      <td>2.000000</td>\n",
              "      <td>2.658738</td>\n",
              "      <td>1.584812</td>\n",
              "      <td>0.124505</td>\n",
              "      <td>0.000000</td>\n",
              "    </tr>\n",
              "    <tr>\n",
              "      <th>50%</th>\n",
              "      <td>22.777890</td>\n",
              "      <td>1.700499</td>\n",
              "      <td>83.000000</td>\n",
              "      <td>2.385502</td>\n",
              "      <td>3.000000</td>\n",
              "      <td>2.000000</td>\n",
              "      <td>1.000000</td>\n",
              "      <td>0.625350</td>\n",
              "    </tr>\n",
              "    <tr>\n",
              "      <th>75%</th>\n",
              "      <td>26.000000</td>\n",
              "      <td>1.768464</td>\n",
              "      <td>107.430682</td>\n",
              "      <td>3.000000</td>\n",
              "      <td>3.000000</td>\n",
              "      <td>2.477420</td>\n",
              "      <td>1.666678</td>\n",
              "      <td>1.000000</td>\n",
              "    </tr>\n",
              "    <tr>\n",
              "      <th>max</th>\n",
              "      <td>61.000000</td>\n",
              "      <td>1.980000</td>\n",
              "      <td>173.000000</td>\n",
              "      <td>3.000000</td>\n",
              "      <td>4.000000</td>\n",
              "      <td>3.000000</td>\n",
              "      <td>3.000000</td>\n",
              "      <td>2.000000</td>\n",
              "    </tr>\n",
              "  </tbody>\n",
              "</table>\n",
              "</div>\n",
              "    <div class=\"colab-df-buttons\">\n",
              "\n",
              "  <div class=\"colab-df-container\">\n",
              "    <button class=\"colab-df-convert\" onclick=\"convertToInteractive('df-b987b7b0-461e-4ca8-9f91-7fe64684043f')\"\n",
              "            title=\"Convert this dataframe to an interactive table.\"\n",
              "            style=\"display:none;\">\n",
              "\n",
              "  <svg xmlns=\"http://www.w3.org/2000/svg\" height=\"24px\" viewBox=\"0 -960 960 960\">\n",
              "    <path d=\"M120-120v-720h720v720H120Zm60-500h600v-160H180v160Zm220 220h160v-160H400v160Zm0 220h160v-160H400v160ZM180-400h160v-160H180v160Zm440 0h160v-160H620v160ZM180-180h160v-160H180v160Zm440 0h160v-160H620v160Z\"/>\n",
              "  </svg>\n",
              "    </button>\n",
              "\n",
              "  <style>\n",
              "    .colab-df-container {\n",
              "      display:flex;\n",
              "      gap: 12px;\n",
              "    }\n",
              "\n",
              "    .colab-df-convert {\n",
              "      background-color: #E8F0FE;\n",
              "      border: none;\n",
              "      border-radius: 50%;\n",
              "      cursor: pointer;\n",
              "      display: none;\n",
              "      fill: #1967D2;\n",
              "      height: 32px;\n",
              "      padding: 0 0 0 0;\n",
              "      width: 32px;\n",
              "    }\n",
              "\n",
              "    .colab-df-convert:hover {\n",
              "      background-color: #E2EBFA;\n",
              "      box-shadow: 0px 1px 2px rgba(60, 64, 67, 0.3), 0px 1px 3px 1px rgba(60, 64, 67, 0.15);\n",
              "      fill: #174EA6;\n",
              "    }\n",
              "\n",
              "    .colab-df-buttons div {\n",
              "      margin-bottom: 4px;\n",
              "    }\n",
              "\n",
              "    [theme=dark] .colab-df-convert {\n",
              "      background-color: #3B4455;\n",
              "      fill: #D2E3FC;\n",
              "    }\n",
              "\n",
              "    [theme=dark] .colab-df-convert:hover {\n",
              "      background-color: #434B5C;\n",
              "      box-shadow: 0px 1px 3px 1px rgba(0, 0, 0, 0.15);\n",
              "      filter: drop-shadow(0px 1px 2px rgba(0, 0, 0, 0.3));\n",
              "      fill: #FFFFFF;\n",
              "    }\n",
              "  </style>\n",
              "\n",
              "    <script>\n",
              "      const buttonEl =\n",
              "        document.querySelector('#df-b987b7b0-461e-4ca8-9f91-7fe64684043f button.colab-df-convert');\n",
              "      buttonEl.style.display =\n",
              "        google.colab.kernel.accessAllowed ? 'block' : 'none';\n",
              "\n",
              "      async function convertToInteractive(key) {\n",
              "        const element = document.querySelector('#df-b987b7b0-461e-4ca8-9f91-7fe64684043f');\n",
              "        const dataTable =\n",
              "          await google.colab.kernel.invokeFunction('convertToInteractive',\n",
              "                                                    [key], {});\n",
              "        if (!dataTable) return;\n",
              "\n",
              "        const docLinkHtml = 'Like what you see? Visit the ' +\n",
              "          '<a target=\"_blank\" href=https://colab.research.google.com/notebooks/data_table.ipynb>data table notebook</a>'\n",
              "          + ' to learn more about interactive tables.';\n",
              "        element.innerHTML = '';\n",
              "        dataTable['output_type'] = 'display_data';\n",
              "        await google.colab.output.renderOutput(dataTable, element);\n",
              "        const docLink = document.createElement('div');\n",
              "        docLink.innerHTML = docLinkHtml;\n",
              "        element.appendChild(docLink);\n",
              "      }\n",
              "    </script>\n",
              "  </div>\n",
              "\n",
              "\n",
              "    <div id=\"df-01e93ed3-5533-4676-b98d-ab65ceda29de\">\n",
              "      <button class=\"colab-df-quickchart\" onclick=\"quickchart('df-01e93ed3-5533-4676-b98d-ab65ceda29de')\"\n",
              "                title=\"Suggest charts\"\n",
              "                style=\"display:none;\">\n",
              "\n",
              "<svg xmlns=\"http://www.w3.org/2000/svg\" height=\"24px\"viewBox=\"0 0 24 24\"\n",
              "     width=\"24px\">\n",
              "    <g>\n",
              "        <path d=\"M19 3H5c-1.1 0-2 .9-2 2v14c0 1.1.9 2 2 2h14c1.1 0 2-.9 2-2V5c0-1.1-.9-2-2-2zM9 17H7v-7h2v7zm4 0h-2V7h2v10zm4 0h-2v-4h2v4z\"/>\n",
              "    </g>\n",
              "</svg>\n",
              "      </button>\n",
              "\n",
              "<style>\n",
              "  .colab-df-quickchart {\n",
              "      --bg-color: #E8F0FE;\n",
              "      --fill-color: #1967D2;\n",
              "      --hover-bg-color: #E2EBFA;\n",
              "      --hover-fill-color: #174EA6;\n",
              "      --disabled-fill-color: #AAA;\n",
              "      --disabled-bg-color: #DDD;\n",
              "  }\n",
              "\n",
              "  [theme=dark] .colab-df-quickchart {\n",
              "      --bg-color: #3B4455;\n",
              "      --fill-color: #D2E3FC;\n",
              "      --hover-bg-color: #434B5C;\n",
              "      --hover-fill-color: #FFFFFF;\n",
              "      --disabled-bg-color: #3B4455;\n",
              "      --disabled-fill-color: #666;\n",
              "  }\n",
              "\n",
              "  .colab-df-quickchart {\n",
              "    background-color: var(--bg-color);\n",
              "    border: none;\n",
              "    border-radius: 50%;\n",
              "    cursor: pointer;\n",
              "    display: none;\n",
              "    fill: var(--fill-color);\n",
              "    height: 32px;\n",
              "    padding: 0;\n",
              "    width: 32px;\n",
              "  }\n",
              "\n",
              "  .colab-df-quickchart:hover {\n",
              "    background-color: var(--hover-bg-color);\n",
              "    box-shadow: 0 1px 2px rgba(60, 64, 67, 0.3), 0 1px 3px 1px rgba(60, 64, 67, 0.15);\n",
              "    fill: var(--button-hover-fill-color);\n",
              "  }\n",
              "\n",
              "  .colab-df-quickchart-complete:disabled,\n",
              "  .colab-df-quickchart-complete:disabled:hover {\n",
              "    background-color: var(--disabled-bg-color);\n",
              "    fill: var(--disabled-fill-color);\n",
              "    box-shadow: none;\n",
              "  }\n",
              "\n",
              "  .colab-df-spinner {\n",
              "    border: 2px solid var(--fill-color);\n",
              "    border-color: transparent;\n",
              "    border-bottom-color: var(--fill-color);\n",
              "    animation:\n",
              "      spin 1s steps(1) infinite;\n",
              "  }\n",
              "\n",
              "  @keyframes spin {\n",
              "    0% {\n",
              "      border-color: transparent;\n",
              "      border-bottom-color: var(--fill-color);\n",
              "      border-left-color: var(--fill-color);\n",
              "    }\n",
              "    20% {\n",
              "      border-color: transparent;\n",
              "      border-left-color: var(--fill-color);\n",
              "      border-top-color: var(--fill-color);\n",
              "    }\n",
              "    30% {\n",
              "      border-color: transparent;\n",
              "      border-left-color: var(--fill-color);\n",
              "      border-top-color: var(--fill-color);\n",
              "      border-right-color: var(--fill-color);\n",
              "    }\n",
              "    40% {\n",
              "      border-color: transparent;\n",
              "      border-right-color: var(--fill-color);\n",
              "      border-top-color: var(--fill-color);\n",
              "    }\n",
              "    60% {\n",
              "      border-color: transparent;\n",
              "      border-right-color: var(--fill-color);\n",
              "    }\n",
              "    80% {\n",
              "      border-color: transparent;\n",
              "      border-right-color: var(--fill-color);\n",
              "      border-bottom-color: var(--fill-color);\n",
              "    }\n",
              "    90% {\n",
              "      border-color: transparent;\n",
              "      border-bottom-color: var(--fill-color);\n",
              "    }\n",
              "  }\n",
              "</style>\n",
              "\n",
              "      <script>\n",
              "        async function quickchart(key) {\n",
              "          const quickchartButtonEl =\n",
              "            document.querySelector('#' + key + ' button');\n",
              "          quickchartButtonEl.disabled = true;  // To prevent multiple clicks.\n",
              "          quickchartButtonEl.classList.add('colab-df-spinner');\n",
              "          try {\n",
              "            const charts = await google.colab.kernel.invokeFunction(\n",
              "                'suggestCharts', [key], {});\n",
              "          } catch (error) {\n",
              "            console.error('Error during call to suggestCharts:', error);\n",
              "          }\n",
              "          quickchartButtonEl.classList.remove('colab-df-spinner');\n",
              "          quickchartButtonEl.classList.add('colab-df-quickchart-complete');\n",
              "        }\n",
              "        (() => {\n",
              "          let quickchartButtonEl =\n",
              "            document.querySelector('#df-01e93ed3-5533-4676-b98d-ab65ceda29de button');\n",
              "          quickchartButtonEl.style.display =\n",
              "            google.colab.kernel.accessAllowed ? 'block' : 'none';\n",
              "        })();\n",
              "      </script>\n",
              "    </div>\n",
              "\n",
              "    </div>\n",
              "  </div>\n"
            ],
            "application/vnd.google.colaboratory.intrinsic+json": {
              "type": "dataframe",
              "summary": "{\n  \"name\": \"df\",\n  \"rows\": 8,\n  \"fields\": [\n    {\n      \"column\": \"idade\",\n      \"properties\": {\n        \"dtype\": \"number\",\n        \"std\": 737.7175023586611,\n        \"min\": 6.3459682737322405,\n        \"max\": 2111.0,\n        \"num_unique_values\": 8,\n        \"samples\": [\n          24.312599908574136,\n          22.77789,\n          2111.0\n        ],\n        \"semantic_type\": \"\",\n        \"description\": \"\"\n      }\n    },\n    {\n      \"column\": \"altura\",\n      \"properties\": {\n        \"dtype\": \"number\",\n        \"std\": 745.8299972253056,\n        \"min\": 0.09330481986792,\n        \"max\": 2111.0,\n        \"num_unique_values\": 8,\n        \"samples\": [\n          1.7016773533870204,\n          1.700499,\n          2111.0\n        ],\n        \"semantic_type\": \"\",\n        \"description\": \"\"\n      }\n    },\n    {\n      \"column\": \"peso\",\n      \"properties\": {\n        \"dtype\": \"number\",\n        \"std\": 718.4335873262646,\n        \"min\": 26.191171745204688,\n        \"max\": 2111.0,\n        \"num_unique_values\": 8,\n        \"samples\": [\n          86.58605812648035,\n          83.0,\n          2111.0\n        ],\n        \"semantic_type\": \"\",\n        \"description\": \"\"\n      }\n    },\n    {\n      \"column\": \"fcvc\",\n      \"properties\": {\n        \"dtype\": \"number\",\n        \"std\": 745.6275281444425,\n        \"min\": 0.5339265785033023,\n        \"max\": 2111.0,\n        \"num_unique_values\": 7,\n        \"samples\": [\n          2111.0,\n          2.4190430615821885,\n          2.385502\n        ],\n        \"semantic_type\": \"\",\n        \"description\": \"\"\n      }\n    },\n    {\n      \"column\": \"ncp\",\n      \"properties\": {\n        \"dtype\": \"number\",\n        \"std\": 745.4871624512587,\n        \"min\": 0.7780386488418594,\n        \"max\": 2111.0,\n        \"num_unique_values\": 7,\n        \"samples\": [\n          2111.0,\n          2.6856280497394596,\n          3.0\n        ],\n        \"semantic_type\": \"\",\n        \"description\": \"\"\n      }\n    },\n    {\n      \"column\": \"ch20\",\n      \"properties\": {\n        \"dtype\": \"number\",\n        \"std\": 745.7109998154965,\n        \"min\": 0.6129534517968702,\n        \"max\": 2111.0,\n        \"num_unique_values\": 8,\n        \"samples\": [\n          2.0080114040738986,\n          2.0,\n          2111.0\n        ],\n        \"semantic_type\": \"\",\n        \"description\": \"\"\n      }\n    },\n    {\n      \"column\": \"faf\",\n      \"properties\": {\n        \"dtype\": \"number\",\n        \"std\": 745.9653105606202,\n        \"min\": 0.0,\n        \"max\": 2111.0,\n        \"num_unique_values\": 8,\n        \"samples\": [\n          1.0102976958787304,\n          1.0,\n          2111.0\n        ],\n        \"semantic_type\": \"\",\n        \"description\": \"\"\n      }\n    },\n    {\n      \"column\": \"tue\",\n      \"properties\": {\n        \"dtype\": \"number\",\n        \"std\": 746.1043827244515,\n        \"min\": 0.0,\n        \"max\": 2111.0,\n        \"num_unique_values\": 7,\n        \"samples\": [\n          2111.0,\n          0.657865923732828,\n          1.0\n        ],\n        \"semantic_type\": \"\",\n        \"description\": \"\"\n      }\n    }\n  ]\n}"
            }
          },
          "metadata": {},
          "execution_count": 316
        }
      ]
    },
    {
      "cell_type": "markdown",
      "source": [
        "## **Verificação/ análise colunas e valores**"
      ],
      "metadata": {
        "id": "XaK2en8Hm3H2"
      }
    },
    {
      "cell_type": "markdown",
      "source": [
        "**Análise**:\n",
        "\n",
        "- Necessário alterar as variáveis '`genero', 'historico_familiar', 'favc', 'caec', 'fumante', 'scc','calc', 'mtrans'` para valores inteiros a fim de preparar os dados para a criação do modelo de machine learning.\n",
        "\n",
        "- A variável alvo `classificacao_peso_corporal` em um primeiro momento vamos manter como string apenas traduzindo a mesma para o protuguês. Será feita uma tradução dos valores únicos dessa coluna.\n",
        "\n",
        "- Identificado oportunidade da criação de uma variável chama IMC calculando a partir das colunas peso e altura.\n",
        "\n",
        "- Para análise utilizamos a função `analisar_colunas_objeto()`\n",
        "\n",
        "- Não temos valores nulos na base.\n"
      ],
      "metadata": {
        "id": "TyQ1QsdGxPx3"
      }
    },
    {
      "cell_type": "code",
      "source": [
        "display(HTML(df.head().to_html(index = False)))"
      ],
      "metadata": {
        "colab": {
          "base_uri": "https://localhost:8080/",
          "height": 226
        },
        "id": "aKo_ePvwTfyL",
        "outputId": "6b1e71a2-6dd9-4f66-9321-e3e3caeea106"
      },
      "execution_count": 344,
      "outputs": [
        {
          "output_type": "display_data",
          "data": {
            "text/plain": [
              "<IPython.core.display.HTML object>"
            ],
            "text/html": [
              "<table border=\"1\" class=\"dataframe\">\n",
              "  <thead>\n",
              "    <tr style=\"text-align: right;\">\n",
              "      <th>genero</th>\n",
              "      <th>idade</th>\n",
              "      <th>altura</th>\n",
              "      <th>peso</th>\n",
              "      <th>historico_familiar</th>\n",
              "      <th>favc</th>\n",
              "      <th>fcvc</th>\n",
              "      <th>ncp</th>\n",
              "      <th>caec</th>\n",
              "      <th>fumante</th>\n",
              "      <th>ch20</th>\n",
              "      <th>scc</th>\n",
              "      <th>faf</th>\n",
              "      <th>tue</th>\n",
              "      <th>calc</th>\n",
              "      <th>mtrans</th>\n",
              "      <th>classificacao_peso_corporal</th>\n",
              "      <th>imc</th>\n",
              "      <th>classificacao_imc</th>\n",
              "    </tr>\n",
              "  </thead>\n",
              "  <tbody>\n",
              "    <tr>\n",
              "      <td>0</td>\n",
              "      <td>21.0</td>\n",
              "      <td>1.62</td>\n",
              "      <td>64.0</td>\n",
              "      <td>1</td>\n",
              "      <td>0</td>\n",
              "      <td>2.0</td>\n",
              "      <td>3.0</td>\n",
              "      <td>1</td>\n",
              "      <td>0</td>\n",
              "      <td>2.0</td>\n",
              "      <td>0</td>\n",
              "      <td>0.0</td>\n",
              "      <td>1.0</td>\n",
              "      <td>0</td>\n",
              "      <td>3</td>\n",
              "      <td>peso_normal</td>\n",
              "      <td>24.39</td>\n",
              "      <td>peso_normal</td>\n",
              "    </tr>\n",
              "    <tr>\n",
              "      <td>0</td>\n",
              "      <td>21.0</td>\n",
              "      <td>1.52</td>\n",
              "      <td>56.0</td>\n",
              "      <td>1</td>\n",
              "      <td>0</td>\n",
              "      <td>3.0</td>\n",
              "      <td>3.0</td>\n",
              "      <td>1</td>\n",
              "      <td>1</td>\n",
              "      <td>3.0</td>\n",
              "      <td>1</td>\n",
              "      <td>3.0</td>\n",
              "      <td>0.0</td>\n",
              "      <td>1</td>\n",
              "      <td>3</td>\n",
              "      <td>peso_normal</td>\n",
              "      <td>24.24</td>\n",
              "      <td>peso_normal</td>\n",
              "    </tr>\n",
              "    <tr>\n",
              "      <td>1</td>\n",
              "      <td>23.0</td>\n",
              "      <td>1.80</td>\n",
              "      <td>77.0</td>\n",
              "      <td>1</td>\n",
              "      <td>0</td>\n",
              "      <td>2.0</td>\n",
              "      <td>3.0</td>\n",
              "      <td>1</td>\n",
              "      <td>0</td>\n",
              "      <td>2.0</td>\n",
              "      <td>0</td>\n",
              "      <td>2.0</td>\n",
              "      <td>1.0</td>\n",
              "      <td>2</td>\n",
              "      <td>3</td>\n",
              "      <td>peso_normal</td>\n",
              "      <td>23.77</td>\n",
              "      <td>peso_normal</td>\n",
              "    </tr>\n",
              "    <tr>\n",
              "      <td>1</td>\n",
              "      <td>27.0</td>\n",
              "      <td>1.80</td>\n",
              "      <td>87.0</td>\n",
              "      <td>0</td>\n",
              "      <td>0</td>\n",
              "      <td>3.0</td>\n",
              "      <td>3.0</td>\n",
              "      <td>1</td>\n",
              "      <td>0</td>\n",
              "      <td>2.0</td>\n",
              "      <td>0</td>\n",
              "      <td>2.0</td>\n",
              "      <td>0.0</td>\n",
              "      <td>2</td>\n",
              "      <td>4</td>\n",
              "      <td>sobrepeso_tipo_1</td>\n",
              "      <td>26.85</td>\n",
              "      <td>sobrepeso</td>\n",
              "    </tr>\n",
              "    <tr>\n",
              "      <td>1</td>\n",
              "      <td>22.0</td>\n",
              "      <td>1.78</td>\n",
              "      <td>89.8</td>\n",
              "      <td>0</td>\n",
              "      <td>0</td>\n",
              "      <td>2.0</td>\n",
              "      <td>1.0</td>\n",
              "      <td>1</td>\n",
              "      <td>0</td>\n",
              "      <td>2.0</td>\n",
              "      <td>0</td>\n",
              "      <td>0.0</td>\n",
              "      <td>0.0</td>\n",
              "      <td>1</td>\n",
              "      <td>3</td>\n",
              "      <td>sobrepeso_tipo_2</td>\n",
              "      <td>28.34</td>\n",
              "      <td>sobrepeso</td>\n",
              "    </tr>\n",
              "  </tbody>\n",
              "</table>"
            ]
          },
          "metadata": {}
        }
      ]
    },
    {
      "cell_type": "code",
      "source": [
        "verificar_nulos_por_coluna(df)"
      ],
      "metadata": {
        "colab": {
          "base_uri": "https://localhost:8080/"
        },
        "id": "xzF9IJPiv9Nm",
        "outputId": "4008650b-6eaf-4776-887a-6b23f07e0e4e"
      },
      "execution_count": 317,
      "outputs": [
        {
          "output_type": "stream",
          "name": "stdout",
          "text": [
            "Verificando valores nulos por coluna:\n",
            "Nenhuma coluna possui valores nulos.\n"
          ]
        }
      ]
    },
    {
      "cell_type": "code",
      "source": [
        "df.info()"
      ],
      "metadata": {
        "colab": {
          "base_uri": "https://localhost:8080/"
        },
        "id": "rXIY6e_aSLLW",
        "outputId": "10d72682-d929-42f2-9b26-39cd75795e7d"
      },
      "execution_count": 337,
      "outputs": [
        {
          "output_type": "stream",
          "name": "stdout",
          "text": [
            "<class 'pandas.core.frame.DataFrame'>\n",
            "RangeIndex: 2111 entries, 0 to 2110\n",
            "Data columns (total 19 columns):\n",
            " #   Column                       Non-Null Count  Dtype   \n",
            "---  ------                       --------------  -----   \n",
            " 0   genero                       2111 non-null   int64   \n",
            " 1   idade                        2111 non-null   float64 \n",
            " 2   altura                       2111 non-null   float64 \n",
            " 3   peso                         2111 non-null   float64 \n",
            " 4   historico_familiar           2111 non-null   int64   \n",
            " 5   favc                         2111 non-null   int64   \n",
            " 6   fcvc                         2111 non-null   float64 \n",
            " 7   ncp                          2111 non-null   float64 \n",
            " 8   caec                         2111 non-null   int64   \n",
            " 9   fumante                      2111 non-null   int64   \n",
            " 10  ch20                         2111 non-null   float64 \n",
            " 11  scc                          2111 non-null   int64   \n",
            " 12  faf                          2111 non-null   float64 \n",
            " 13  tue                          2111 non-null   float64 \n",
            " 14  calc                         2111 non-null   int64   \n",
            " 15  mtrans                       2111 non-null   int64   \n",
            " 16  classificacao_peso_corporal  2111 non-null   object  \n",
            " 17  imc                          2111 non-null   float64 \n",
            " 18  classificacao_imc            2111 non-null   category\n",
            "dtypes: category(1), float64(9), int64(8), object(1)\n",
            "memory usage: 299.3+ KB\n"
          ]
        }
      ]
    },
    {
      "cell_type": "code",
      "source": [
        "analisar_colunas_objeto(df)"
      ],
      "metadata": {
        "colab": {
          "base_uri": "https://localhost:8080/",
          "height": 1000
        },
        "id": "bxOhJ43TnA3b",
        "outputId": "e93a7260-d1f6-401b-ccad-746c1c078ae3"
      },
      "execution_count": 318,
      "outputs": [
        {
          "output_type": "stream",
          "name": "stdout",
          "text": [
            "Colunas do tipo 'object' restantes:\n",
            "Index(['genero', 'historico_familiar', 'favc', 'caec', 'fumante', 'scc',\n",
            "       'calc', 'mtrans', 'classificacao_peso_corporal'],\n",
            "      dtype='object')\n",
            "\n",
            "Valores únicos para a coluna 'genero':\n"
          ]
        },
        {
          "output_type": "display_data",
          "data": {
            "text/plain": [
              "array(['Female', 'Male'], dtype=object)"
            ]
          },
          "metadata": {}
        },
        {
          "output_type": "stream",
          "name": "stdout",
          "text": [
            "Contagem de valores para a coluna 'genero':\n"
          ]
        },
        {
          "output_type": "display_data",
          "data": {
            "text/plain": [
              "genero\n",
              "Female    1043\n",
              "Male      1068\n",
              "dtype: int64"
            ],
            "text/html": [
              "<div>\n",
              "<style scoped>\n",
              "    .dataframe tbody tr th:only-of-type {\n",
              "        vertical-align: middle;\n",
              "    }\n",
              "\n",
              "    .dataframe tbody tr th {\n",
              "        vertical-align: top;\n",
              "    }\n",
              "\n",
              "    .dataframe thead th {\n",
              "        text-align: right;\n",
              "    }\n",
              "</style>\n",
              "<table border=\"1\" class=\"dataframe\">\n",
              "  <thead>\n",
              "    <tr style=\"text-align: right;\">\n",
              "      <th></th>\n",
              "      <th>0</th>\n",
              "    </tr>\n",
              "    <tr>\n",
              "      <th>genero</th>\n",
              "      <th></th>\n",
              "    </tr>\n",
              "  </thead>\n",
              "  <tbody>\n",
              "    <tr>\n",
              "      <th>Female</th>\n",
              "      <td>1043</td>\n",
              "    </tr>\n",
              "    <tr>\n",
              "      <th>Male</th>\n",
              "      <td>1068</td>\n",
              "    </tr>\n",
              "  </tbody>\n",
              "</table>\n",
              "</div><br><label><b>dtype:</b> int64</label>"
            ]
          },
          "metadata": {}
        },
        {
          "output_type": "stream",
          "name": "stdout",
          "text": [
            "\n",
            "Valores únicos para a coluna 'historico_familiar':\n"
          ]
        },
        {
          "output_type": "display_data",
          "data": {
            "text/plain": [
              "array(['yes', 'no'], dtype=object)"
            ]
          },
          "metadata": {}
        },
        {
          "output_type": "stream",
          "name": "stdout",
          "text": [
            "Contagem de valores para a coluna 'historico_familiar':\n"
          ]
        },
        {
          "output_type": "display_data",
          "data": {
            "text/plain": [
              "historico_familiar\n",
              "no      385\n",
              "yes    1726\n",
              "dtype: int64"
            ],
            "text/html": [
              "<div>\n",
              "<style scoped>\n",
              "    .dataframe tbody tr th:only-of-type {\n",
              "        vertical-align: middle;\n",
              "    }\n",
              "\n",
              "    .dataframe tbody tr th {\n",
              "        vertical-align: top;\n",
              "    }\n",
              "\n",
              "    .dataframe thead th {\n",
              "        text-align: right;\n",
              "    }\n",
              "</style>\n",
              "<table border=\"1\" class=\"dataframe\">\n",
              "  <thead>\n",
              "    <tr style=\"text-align: right;\">\n",
              "      <th></th>\n",
              "      <th>0</th>\n",
              "    </tr>\n",
              "    <tr>\n",
              "      <th>historico_familiar</th>\n",
              "      <th></th>\n",
              "    </tr>\n",
              "  </thead>\n",
              "  <tbody>\n",
              "    <tr>\n",
              "      <th>no</th>\n",
              "      <td>385</td>\n",
              "    </tr>\n",
              "    <tr>\n",
              "      <th>yes</th>\n",
              "      <td>1726</td>\n",
              "    </tr>\n",
              "  </tbody>\n",
              "</table>\n",
              "</div><br><label><b>dtype:</b> int64</label>"
            ]
          },
          "metadata": {}
        },
        {
          "output_type": "stream",
          "name": "stdout",
          "text": [
            "\n",
            "Valores únicos para a coluna 'favc':\n"
          ]
        },
        {
          "output_type": "display_data",
          "data": {
            "text/plain": [
              "array(['no', 'yes'], dtype=object)"
            ]
          },
          "metadata": {}
        },
        {
          "output_type": "stream",
          "name": "stdout",
          "text": [
            "Contagem de valores para a coluna 'favc':\n"
          ]
        },
        {
          "output_type": "display_data",
          "data": {
            "text/plain": [
              "favc\n",
              "no      245\n",
              "yes    1866\n",
              "dtype: int64"
            ],
            "text/html": [
              "<div>\n",
              "<style scoped>\n",
              "    .dataframe tbody tr th:only-of-type {\n",
              "        vertical-align: middle;\n",
              "    }\n",
              "\n",
              "    .dataframe tbody tr th {\n",
              "        vertical-align: top;\n",
              "    }\n",
              "\n",
              "    .dataframe thead th {\n",
              "        text-align: right;\n",
              "    }\n",
              "</style>\n",
              "<table border=\"1\" class=\"dataframe\">\n",
              "  <thead>\n",
              "    <tr style=\"text-align: right;\">\n",
              "      <th></th>\n",
              "      <th>0</th>\n",
              "    </tr>\n",
              "    <tr>\n",
              "      <th>favc</th>\n",
              "      <th></th>\n",
              "    </tr>\n",
              "  </thead>\n",
              "  <tbody>\n",
              "    <tr>\n",
              "      <th>no</th>\n",
              "      <td>245</td>\n",
              "    </tr>\n",
              "    <tr>\n",
              "      <th>yes</th>\n",
              "      <td>1866</td>\n",
              "    </tr>\n",
              "  </tbody>\n",
              "</table>\n",
              "</div><br><label><b>dtype:</b> int64</label>"
            ]
          },
          "metadata": {}
        },
        {
          "output_type": "stream",
          "name": "stdout",
          "text": [
            "\n",
            "Valores únicos para a coluna 'caec':\n"
          ]
        },
        {
          "output_type": "display_data",
          "data": {
            "text/plain": [
              "array(['Sometimes', 'Frequently', 'Always', 'no'], dtype=object)"
            ]
          },
          "metadata": {}
        },
        {
          "output_type": "stream",
          "name": "stdout",
          "text": [
            "Contagem de valores para a coluna 'caec':\n"
          ]
        },
        {
          "output_type": "display_data",
          "data": {
            "text/plain": [
              "caec\n",
              "Always          53\n",
              "Frequently     242\n",
              "Sometimes     1765\n",
              "no              51\n",
              "dtype: int64"
            ],
            "text/html": [
              "<div>\n",
              "<style scoped>\n",
              "    .dataframe tbody tr th:only-of-type {\n",
              "        vertical-align: middle;\n",
              "    }\n",
              "\n",
              "    .dataframe tbody tr th {\n",
              "        vertical-align: top;\n",
              "    }\n",
              "\n",
              "    .dataframe thead th {\n",
              "        text-align: right;\n",
              "    }\n",
              "</style>\n",
              "<table border=\"1\" class=\"dataframe\">\n",
              "  <thead>\n",
              "    <tr style=\"text-align: right;\">\n",
              "      <th></th>\n",
              "      <th>0</th>\n",
              "    </tr>\n",
              "    <tr>\n",
              "      <th>caec</th>\n",
              "      <th></th>\n",
              "    </tr>\n",
              "  </thead>\n",
              "  <tbody>\n",
              "    <tr>\n",
              "      <th>Always</th>\n",
              "      <td>53</td>\n",
              "    </tr>\n",
              "    <tr>\n",
              "      <th>Frequently</th>\n",
              "      <td>242</td>\n",
              "    </tr>\n",
              "    <tr>\n",
              "      <th>Sometimes</th>\n",
              "      <td>1765</td>\n",
              "    </tr>\n",
              "    <tr>\n",
              "      <th>no</th>\n",
              "      <td>51</td>\n",
              "    </tr>\n",
              "  </tbody>\n",
              "</table>\n",
              "</div><br><label><b>dtype:</b> int64</label>"
            ]
          },
          "metadata": {}
        },
        {
          "output_type": "stream",
          "name": "stdout",
          "text": [
            "\n",
            "Valores únicos para a coluna 'fumante':\n"
          ]
        },
        {
          "output_type": "display_data",
          "data": {
            "text/plain": [
              "array(['no', 'yes'], dtype=object)"
            ]
          },
          "metadata": {}
        },
        {
          "output_type": "stream",
          "name": "stdout",
          "text": [
            "Contagem de valores para a coluna 'fumante':\n"
          ]
        },
        {
          "output_type": "display_data",
          "data": {
            "text/plain": [
              "fumante\n",
              "no     2067\n",
              "yes      44\n",
              "dtype: int64"
            ],
            "text/html": [
              "<div>\n",
              "<style scoped>\n",
              "    .dataframe tbody tr th:only-of-type {\n",
              "        vertical-align: middle;\n",
              "    }\n",
              "\n",
              "    .dataframe tbody tr th {\n",
              "        vertical-align: top;\n",
              "    }\n",
              "\n",
              "    .dataframe thead th {\n",
              "        text-align: right;\n",
              "    }\n",
              "</style>\n",
              "<table border=\"1\" class=\"dataframe\">\n",
              "  <thead>\n",
              "    <tr style=\"text-align: right;\">\n",
              "      <th></th>\n",
              "      <th>0</th>\n",
              "    </tr>\n",
              "    <tr>\n",
              "      <th>fumante</th>\n",
              "      <th></th>\n",
              "    </tr>\n",
              "  </thead>\n",
              "  <tbody>\n",
              "    <tr>\n",
              "      <th>no</th>\n",
              "      <td>2067</td>\n",
              "    </tr>\n",
              "    <tr>\n",
              "      <th>yes</th>\n",
              "      <td>44</td>\n",
              "    </tr>\n",
              "  </tbody>\n",
              "</table>\n",
              "</div><br><label><b>dtype:</b> int64</label>"
            ]
          },
          "metadata": {}
        },
        {
          "output_type": "stream",
          "name": "stdout",
          "text": [
            "\n",
            "Valores únicos para a coluna 'scc':\n"
          ]
        },
        {
          "output_type": "display_data",
          "data": {
            "text/plain": [
              "array(['no', 'yes'], dtype=object)"
            ]
          },
          "metadata": {}
        },
        {
          "output_type": "stream",
          "name": "stdout",
          "text": [
            "Contagem de valores para a coluna 'scc':\n"
          ]
        },
        {
          "output_type": "display_data",
          "data": {
            "text/plain": [
              "scc\n",
              "no     2015\n",
              "yes      96\n",
              "dtype: int64"
            ],
            "text/html": [
              "<div>\n",
              "<style scoped>\n",
              "    .dataframe tbody tr th:only-of-type {\n",
              "        vertical-align: middle;\n",
              "    }\n",
              "\n",
              "    .dataframe tbody tr th {\n",
              "        vertical-align: top;\n",
              "    }\n",
              "\n",
              "    .dataframe thead th {\n",
              "        text-align: right;\n",
              "    }\n",
              "</style>\n",
              "<table border=\"1\" class=\"dataframe\">\n",
              "  <thead>\n",
              "    <tr style=\"text-align: right;\">\n",
              "      <th></th>\n",
              "      <th>0</th>\n",
              "    </tr>\n",
              "    <tr>\n",
              "      <th>scc</th>\n",
              "      <th></th>\n",
              "    </tr>\n",
              "  </thead>\n",
              "  <tbody>\n",
              "    <tr>\n",
              "      <th>no</th>\n",
              "      <td>2015</td>\n",
              "    </tr>\n",
              "    <tr>\n",
              "      <th>yes</th>\n",
              "      <td>96</td>\n",
              "    </tr>\n",
              "  </tbody>\n",
              "</table>\n",
              "</div><br><label><b>dtype:</b> int64</label>"
            ]
          },
          "metadata": {}
        },
        {
          "output_type": "stream",
          "name": "stdout",
          "text": [
            "\n",
            "Valores únicos para a coluna 'calc':\n"
          ]
        },
        {
          "output_type": "display_data",
          "data": {
            "text/plain": [
              "array(['no', 'Sometimes', 'Frequently', 'Always'], dtype=object)"
            ]
          },
          "metadata": {}
        },
        {
          "output_type": "stream",
          "name": "stdout",
          "text": [
            "Contagem de valores para a coluna 'calc':\n"
          ]
        },
        {
          "output_type": "display_data",
          "data": {
            "text/plain": [
              "calc\n",
              "Always           1\n",
              "Frequently      70\n",
              "Sometimes     1401\n",
              "no             639\n",
              "dtype: int64"
            ],
            "text/html": [
              "<div>\n",
              "<style scoped>\n",
              "    .dataframe tbody tr th:only-of-type {\n",
              "        vertical-align: middle;\n",
              "    }\n",
              "\n",
              "    .dataframe tbody tr th {\n",
              "        vertical-align: top;\n",
              "    }\n",
              "\n",
              "    .dataframe thead th {\n",
              "        text-align: right;\n",
              "    }\n",
              "</style>\n",
              "<table border=\"1\" class=\"dataframe\">\n",
              "  <thead>\n",
              "    <tr style=\"text-align: right;\">\n",
              "      <th></th>\n",
              "      <th>0</th>\n",
              "    </tr>\n",
              "    <tr>\n",
              "      <th>calc</th>\n",
              "      <th></th>\n",
              "    </tr>\n",
              "  </thead>\n",
              "  <tbody>\n",
              "    <tr>\n",
              "      <th>Always</th>\n",
              "      <td>1</td>\n",
              "    </tr>\n",
              "    <tr>\n",
              "      <th>Frequently</th>\n",
              "      <td>70</td>\n",
              "    </tr>\n",
              "    <tr>\n",
              "      <th>Sometimes</th>\n",
              "      <td>1401</td>\n",
              "    </tr>\n",
              "    <tr>\n",
              "      <th>no</th>\n",
              "      <td>639</td>\n",
              "    </tr>\n",
              "  </tbody>\n",
              "</table>\n",
              "</div><br><label><b>dtype:</b> int64</label>"
            ]
          },
          "metadata": {}
        },
        {
          "output_type": "stream",
          "name": "stdout",
          "text": [
            "\n",
            "Valores únicos para a coluna 'mtrans':\n"
          ]
        },
        {
          "output_type": "display_data",
          "data": {
            "text/plain": [
              "array(['Public_Transportation', 'Walking', 'Automobile', 'Motorbike',\n",
              "       'Bike'], dtype=object)"
            ]
          },
          "metadata": {}
        },
        {
          "output_type": "stream",
          "name": "stdout",
          "text": [
            "Contagem de valores para a coluna 'mtrans':\n"
          ]
        },
        {
          "output_type": "display_data",
          "data": {
            "text/plain": [
              "mtrans\n",
              "Automobile                457\n",
              "Bike                        7\n",
              "Motorbike                  11\n",
              "Public_Transportation    1580\n",
              "Walking                    56\n",
              "dtype: int64"
            ],
            "text/html": [
              "<div>\n",
              "<style scoped>\n",
              "    .dataframe tbody tr th:only-of-type {\n",
              "        vertical-align: middle;\n",
              "    }\n",
              "\n",
              "    .dataframe tbody tr th {\n",
              "        vertical-align: top;\n",
              "    }\n",
              "\n",
              "    .dataframe thead th {\n",
              "        text-align: right;\n",
              "    }\n",
              "</style>\n",
              "<table border=\"1\" class=\"dataframe\">\n",
              "  <thead>\n",
              "    <tr style=\"text-align: right;\">\n",
              "      <th></th>\n",
              "      <th>0</th>\n",
              "    </tr>\n",
              "    <tr>\n",
              "      <th>mtrans</th>\n",
              "      <th></th>\n",
              "    </tr>\n",
              "  </thead>\n",
              "  <tbody>\n",
              "    <tr>\n",
              "      <th>Automobile</th>\n",
              "      <td>457</td>\n",
              "    </tr>\n",
              "    <tr>\n",
              "      <th>Bike</th>\n",
              "      <td>7</td>\n",
              "    </tr>\n",
              "    <tr>\n",
              "      <th>Motorbike</th>\n",
              "      <td>11</td>\n",
              "    </tr>\n",
              "    <tr>\n",
              "      <th>Public_Transportation</th>\n",
              "      <td>1580</td>\n",
              "    </tr>\n",
              "    <tr>\n",
              "      <th>Walking</th>\n",
              "      <td>56</td>\n",
              "    </tr>\n",
              "  </tbody>\n",
              "</table>\n",
              "</div><br><label><b>dtype:</b> int64</label>"
            ]
          },
          "metadata": {}
        },
        {
          "output_type": "stream",
          "name": "stdout",
          "text": [
            "\n",
            "Valores únicos para a coluna 'classificacao_peso_corporal':\n"
          ]
        },
        {
          "output_type": "display_data",
          "data": {
            "text/plain": [
              "array(['Normal_Weight', 'Overweight_Level_I', 'Overweight_Level_II',\n",
              "       'Obesity_Type_I', 'Insufficient_Weight', 'Obesity_Type_II',\n",
              "       'Obesity_Type_III'], dtype=object)"
            ]
          },
          "metadata": {}
        },
        {
          "output_type": "stream",
          "name": "stdout",
          "text": [
            "Contagem de valores para a coluna 'classificacao_peso_corporal':\n"
          ]
        },
        {
          "output_type": "display_data",
          "data": {
            "text/plain": [
              "classificacao_peso_corporal\n",
              "Insufficient_Weight    272\n",
              "Normal_Weight          287\n",
              "Obesity_Type_I         351\n",
              "Obesity_Type_II        297\n",
              "Obesity_Type_III       324\n",
              "Overweight_Level_I     290\n",
              "Overweight_Level_II    290\n",
              "dtype: int64"
            ],
            "text/html": [
              "<div>\n",
              "<style scoped>\n",
              "    .dataframe tbody tr th:only-of-type {\n",
              "        vertical-align: middle;\n",
              "    }\n",
              "\n",
              "    .dataframe tbody tr th {\n",
              "        vertical-align: top;\n",
              "    }\n",
              "\n",
              "    .dataframe thead th {\n",
              "        text-align: right;\n",
              "    }\n",
              "</style>\n",
              "<table border=\"1\" class=\"dataframe\">\n",
              "  <thead>\n",
              "    <tr style=\"text-align: right;\">\n",
              "      <th></th>\n",
              "      <th>0</th>\n",
              "    </tr>\n",
              "    <tr>\n",
              "      <th>classificacao_peso_corporal</th>\n",
              "      <th></th>\n",
              "    </tr>\n",
              "  </thead>\n",
              "  <tbody>\n",
              "    <tr>\n",
              "      <th>Insufficient_Weight</th>\n",
              "      <td>272</td>\n",
              "    </tr>\n",
              "    <tr>\n",
              "      <th>Normal_Weight</th>\n",
              "      <td>287</td>\n",
              "    </tr>\n",
              "    <tr>\n",
              "      <th>Obesity_Type_I</th>\n",
              "      <td>351</td>\n",
              "    </tr>\n",
              "    <tr>\n",
              "      <th>Obesity_Type_II</th>\n",
              "      <td>297</td>\n",
              "    </tr>\n",
              "    <tr>\n",
              "      <th>Obesity_Type_III</th>\n",
              "      <td>324</td>\n",
              "    </tr>\n",
              "    <tr>\n",
              "      <th>Overweight_Level_I</th>\n",
              "      <td>290</td>\n",
              "    </tr>\n",
              "    <tr>\n",
              "      <th>Overweight_Level_II</th>\n",
              "      <td>290</td>\n",
              "    </tr>\n",
              "  </tbody>\n",
              "</table>\n",
              "</div><br><label><b>dtype:</b> int64</label>"
            ]
          },
          "metadata": {}
        }
      ]
    },
    {
      "cell_type": "markdown",
      "source": [
        "# **Engenharia de Features**"
      ],
      "metadata": {
        "id": "IL-v7mfuOhOR"
      }
    },
    {
      "cell_type": "markdown",
      "source": [
        "## **Transformação das Variáveis de String para inteiro**"
      ],
      "metadata": {
        "id": "cjGH8axENFF1"
      }
    },
    {
      "cell_type": "markdown",
      "source": [
        "Alteração das variáveis  `['genero', 'historico_familiar', 'favc', 'caec', 'fumante', 'scc','calc', 'mtrans']` para inteiro.\n",
        "\n",
        "  -Estamos usando a função `codificar_coluna_categorica`para realizar a alteração e fazer a atualização no dicionário de dados.\n",
        "\n",
        "  -Usamos o arquivo `transformacao_categorica_obesidade.json` como padrão para as transformações.\n",
        "\n",
        "\n",
        "\n",
        "\n"
      ],
      "metadata": {
        "id": "KMQjDHF3yPzh"
      }
    },
    {
      "cell_type": "code",
      "source": [
        "transformacoes_categoricas = ler_json_de_url('https://raw.githubusercontent.com/fiapdatanalytics/tech-challenge4/refs/heads/main/data/transformacao_categorica_obesidade.json')\n",
        "colunas_para_codificar = ['genero', 'historico_familiar', 'favc', 'caec', 'fumante', 'scc','calc', 'mtrans']\n",
        "\n",
        "for coluna in colunas_para_codificar:\n",
        "    codificar_coluna_categorica(df, coluna, transformacoes_categoricas, dicionario_dados_nivel_obesidade)"
      ],
      "metadata": {
        "colab": {
          "base_uri": "https://localhost:8080/",
          "height": 0
        },
        "id": "dSLbyFtdpHzZ",
        "outputId": "675793db-baf5-47ee-c694-fd07a8b69ba2"
      },
      "execution_count": 319,
      "outputs": [
        {
          "output_type": "stream",
          "name": "stdout",
          "text": [
            "Leitura com sucesso do caminho https://raw.githubusercontent.com/fiapdatanalytics/tech-challenge4/refs/heads/main/data/transformacao_categorica_obesidade.json\n",
            "Valores únicos e contagem antes da codificação para a coluna 'genero':\n"
          ]
        },
        {
          "output_type": "display_data",
          "data": {
            "text/plain": [
              "genero\n",
              "Male      1068\n",
              "Female    1043\n",
              "Name: count, dtype: int64"
            ],
            "text/html": [
              "<div>\n",
              "<style scoped>\n",
              "    .dataframe tbody tr th:only-of-type {\n",
              "        vertical-align: middle;\n",
              "    }\n",
              "\n",
              "    .dataframe tbody tr th {\n",
              "        vertical-align: top;\n",
              "    }\n",
              "\n",
              "    .dataframe thead th {\n",
              "        text-align: right;\n",
              "    }\n",
              "</style>\n",
              "<table border=\"1\" class=\"dataframe\">\n",
              "  <thead>\n",
              "    <tr style=\"text-align: right;\">\n",
              "      <th></th>\n",
              "      <th>count</th>\n",
              "    </tr>\n",
              "    <tr>\n",
              "      <th>genero</th>\n",
              "      <th></th>\n",
              "    </tr>\n",
              "  </thead>\n",
              "  <tbody>\n",
              "    <tr>\n",
              "      <th>Male</th>\n",
              "      <td>1068</td>\n",
              "    </tr>\n",
              "    <tr>\n",
              "      <th>Female</th>\n",
              "      <td>1043</td>\n",
              "    </tr>\n",
              "  </tbody>\n",
              "</table>\n",
              "</div><br><label><b>dtype:</b> int64</label>"
            ]
          },
          "metadata": {}
        },
        {
          "output_type": "stream",
          "name": "stdout",
          "text": [
            "Utilizando mapeamento existente para a coluna 'genero'.\n",
            "\n",
            "Mapeamento aplicado para a coluna 'genero':\n",
            "{'Female': 0, 'Male': 1}\n",
            "\n",
            "Coluna 'genero' codificada com sucesso.\n",
            "Tipo de alteração: Mapeamento de valores únicos para inteiros.\n",
            "Número de linhas processadas: 2111\n",
            "\n",
            "Valores únicos e contagem depois da codificação para a coluna 'genero':\n"
          ]
        },
        {
          "output_type": "display_data",
          "data": {
            "text/plain": [
              "genero\n",
              "1    1068\n",
              "0    1043\n",
              "Name: count, dtype: int64"
            ],
            "text/html": [
              "<div>\n",
              "<style scoped>\n",
              "    .dataframe tbody tr th:only-of-type {\n",
              "        vertical-align: middle;\n",
              "    }\n",
              "\n",
              "    .dataframe tbody tr th {\n",
              "        vertical-align: top;\n",
              "    }\n",
              "\n",
              "    .dataframe thead th {\n",
              "        text-align: right;\n",
              "    }\n",
              "</style>\n",
              "<table border=\"1\" class=\"dataframe\">\n",
              "  <thead>\n",
              "    <tr style=\"text-align: right;\">\n",
              "      <th></th>\n",
              "      <th>count</th>\n",
              "    </tr>\n",
              "    <tr>\n",
              "      <th>genero</th>\n",
              "      <th></th>\n",
              "    </tr>\n",
              "  </thead>\n",
              "  <tbody>\n",
              "    <tr>\n",
              "      <th>1</th>\n",
              "      <td>1068</td>\n",
              "    </tr>\n",
              "    <tr>\n",
              "      <th>0</th>\n",
              "      <td>1043</td>\n",
              "    </tr>\n",
              "  </tbody>\n",
              "</table>\n",
              "</div><br><label><b>dtype:</b> int64</label>"
            ]
          },
          "metadata": {}
        },
        {
          "output_type": "stream",
          "name": "stdout",
          "text": [
            "Campo 'transformacao' da coluna 'genero' atualizado com novos itens.\n",
            "Dicionário de dados atualizado para a coluna 'genero'.\n",
            "Valores únicos e contagem antes da codificação para a coluna 'historico_familiar':\n"
          ]
        },
        {
          "output_type": "display_data",
          "data": {
            "text/plain": [
              "historico_familiar\n",
              "yes    1726\n",
              "no      385\n",
              "Name: count, dtype: int64"
            ],
            "text/html": [
              "<div>\n",
              "<style scoped>\n",
              "    .dataframe tbody tr th:only-of-type {\n",
              "        vertical-align: middle;\n",
              "    }\n",
              "\n",
              "    .dataframe tbody tr th {\n",
              "        vertical-align: top;\n",
              "    }\n",
              "\n",
              "    .dataframe thead th {\n",
              "        text-align: right;\n",
              "    }\n",
              "</style>\n",
              "<table border=\"1\" class=\"dataframe\">\n",
              "  <thead>\n",
              "    <tr style=\"text-align: right;\">\n",
              "      <th></th>\n",
              "      <th>count</th>\n",
              "    </tr>\n",
              "    <tr>\n",
              "      <th>historico_familiar</th>\n",
              "      <th></th>\n",
              "    </tr>\n",
              "  </thead>\n",
              "  <tbody>\n",
              "    <tr>\n",
              "      <th>yes</th>\n",
              "      <td>1726</td>\n",
              "    </tr>\n",
              "    <tr>\n",
              "      <th>no</th>\n",
              "      <td>385</td>\n",
              "    </tr>\n",
              "  </tbody>\n",
              "</table>\n",
              "</div><br><label><b>dtype:</b> int64</label>"
            ]
          },
          "metadata": {}
        },
        {
          "output_type": "stream",
          "name": "stdout",
          "text": [
            "Utilizando mapeamento existente para a coluna 'historico_familiar'.\n",
            "\n",
            "Mapeamento aplicado para a coluna 'historico_familiar':\n",
            "{'no': 0, 'yes': 1}\n",
            "\n",
            "Coluna 'historico_familiar' codificada com sucesso.\n",
            "Tipo de alteração: Mapeamento de valores únicos para inteiros.\n",
            "Número de linhas processadas: 2111\n",
            "\n",
            "Valores únicos e contagem depois da codificação para a coluna 'historico_familiar':\n"
          ]
        },
        {
          "output_type": "display_data",
          "data": {
            "text/plain": [
              "historico_familiar\n",
              "1    1726\n",
              "0     385\n",
              "Name: count, dtype: int64"
            ],
            "text/html": [
              "<div>\n",
              "<style scoped>\n",
              "    .dataframe tbody tr th:only-of-type {\n",
              "        vertical-align: middle;\n",
              "    }\n",
              "\n",
              "    .dataframe tbody tr th {\n",
              "        vertical-align: top;\n",
              "    }\n",
              "\n",
              "    .dataframe thead th {\n",
              "        text-align: right;\n",
              "    }\n",
              "</style>\n",
              "<table border=\"1\" class=\"dataframe\">\n",
              "  <thead>\n",
              "    <tr style=\"text-align: right;\">\n",
              "      <th></th>\n",
              "      <th>count</th>\n",
              "    </tr>\n",
              "    <tr>\n",
              "      <th>historico_familiar</th>\n",
              "      <th></th>\n",
              "    </tr>\n",
              "  </thead>\n",
              "  <tbody>\n",
              "    <tr>\n",
              "      <th>1</th>\n",
              "      <td>1726</td>\n",
              "    </tr>\n",
              "    <tr>\n",
              "      <th>0</th>\n",
              "      <td>385</td>\n",
              "    </tr>\n",
              "  </tbody>\n",
              "</table>\n",
              "</div><br><label><b>dtype:</b> int64</label>"
            ]
          },
          "metadata": {}
        },
        {
          "output_type": "stream",
          "name": "stdout",
          "text": [
            "Campo 'transformacao' da coluna 'historico_familiar' atualizado com novos itens.\n",
            "Dicionário de dados atualizado para a coluna 'historico_familiar'.\n",
            "Valores únicos e contagem antes da codificação para a coluna 'favc':\n"
          ]
        },
        {
          "output_type": "display_data",
          "data": {
            "text/plain": [
              "favc\n",
              "yes    1866\n",
              "no      245\n",
              "Name: count, dtype: int64"
            ],
            "text/html": [
              "<div>\n",
              "<style scoped>\n",
              "    .dataframe tbody tr th:only-of-type {\n",
              "        vertical-align: middle;\n",
              "    }\n",
              "\n",
              "    .dataframe tbody tr th {\n",
              "        vertical-align: top;\n",
              "    }\n",
              "\n",
              "    .dataframe thead th {\n",
              "        text-align: right;\n",
              "    }\n",
              "</style>\n",
              "<table border=\"1\" class=\"dataframe\">\n",
              "  <thead>\n",
              "    <tr style=\"text-align: right;\">\n",
              "      <th></th>\n",
              "      <th>count</th>\n",
              "    </tr>\n",
              "    <tr>\n",
              "      <th>favc</th>\n",
              "      <th></th>\n",
              "    </tr>\n",
              "  </thead>\n",
              "  <tbody>\n",
              "    <tr>\n",
              "      <th>yes</th>\n",
              "      <td>1866</td>\n",
              "    </tr>\n",
              "    <tr>\n",
              "      <th>no</th>\n",
              "      <td>245</td>\n",
              "    </tr>\n",
              "  </tbody>\n",
              "</table>\n",
              "</div><br><label><b>dtype:</b> int64</label>"
            ]
          },
          "metadata": {}
        },
        {
          "output_type": "stream",
          "name": "stdout",
          "text": [
            "Utilizando mapeamento existente para a coluna 'favc'.\n",
            "\n",
            "Mapeamento aplicado para a coluna 'favc':\n",
            "{'no': 0, 'yes': 1}\n",
            "\n",
            "Coluna 'favc' codificada com sucesso.\n",
            "Tipo de alteração: Mapeamento de valores únicos para inteiros.\n",
            "Número de linhas processadas: 2111\n",
            "\n",
            "Valores únicos e contagem depois da codificação para a coluna 'favc':\n"
          ]
        },
        {
          "output_type": "display_data",
          "data": {
            "text/plain": [
              "favc\n",
              "1    1866\n",
              "0     245\n",
              "Name: count, dtype: int64"
            ],
            "text/html": [
              "<div>\n",
              "<style scoped>\n",
              "    .dataframe tbody tr th:only-of-type {\n",
              "        vertical-align: middle;\n",
              "    }\n",
              "\n",
              "    .dataframe tbody tr th {\n",
              "        vertical-align: top;\n",
              "    }\n",
              "\n",
              "    .dataframe thead th {\n",
              "        text-align: right;\n",
              "    }\n",
              "</style>\n",
              "<table border=\"1\" class=\"dataframe\">\n",
              "  <thead>\n",
              "    <tr style=\"text-align: right;\">\n",
              "      <th></th>\n",
              "      <th>count</th>\n",
              "    </tr>\n",
              "    <tr>\n",
              "      <th>favc</th>\n",
              "      <th></th>\n",
              "    </tr>\n",
              "  </thead>\n",
              "  <tbody>\n",
              "    <tr>\n",
              "      <th>1</th>\n",
              "      <td>1866</td>\n",
              "    </tr>\n",
              "    <tr>\n",
              "      <th>0</th>\n",
              "      <td>245</td>\n",
              "    </tr>\n",
              "  </tbody>\n",
              "</table>\n",
              "</div><br><label><b>dtype:</b> int64</label>"
            ]
          },
          "metadata": {}
        },
        {
          "output_type": "stream",
          "name": "stdout",
          "text": [
            "Campo 'transformacao' da coluna 'favc' atualizado com novos itens.\n",
            "Dicionário de dados atualizado para a coluna 'favc'.\n",
            "Valores únicos e contagem antes da codificação para a coluna 'caec':\n"
          ]
        },
        {
          "output_type": "display_data",
          "data": {
            "text/plain": [
              "caec\n",
              "Sometimes     1765\n",
              "Frequently     242\n",
              "Always          53\n",
              "no              51\n",
              "Name: count, dtype: int64"
            ],
            "text/html": [
              "<div>\n",
              "<style scoped>\n",
              "    .dataframe tbody tr th:only-of-type {\n",
              "        vertical-align: middle;\n",
              "    }\n",
              "\n",
              "    .dataframe tbody tr th {\n",
              "        vertical-align: top;\n",
              "    }\n",
              "\n",
              "    .dataframe thead th {\n",
              "        text-align: right;\n",
              "    }\n",
              "</style>\n",
              "<table border=\"1\" class=\"dataframe\">\n",
              "  <thead>\n",
              "    <tr style=\"text-align: right;\">\n",
              "      <th></th>\n",
              "      <th>count</th>\n",
              "    </tr>\n",
              "    <tr>\n",
              "      <th>caec</th>\n",
              "      <th></th>\n",
              "    </tr>\n",
              "  </thead>\n",
              "  <tbody>\n",
              "    <tr>\n",
              "      <th>Sometimes</th>\n",
              "      <td>1765</td>\n",
              "    </tr>\n",
              "    <tr>\n",
              "      <th>Frequently</th>\n",
              "      <td>242</td>\n",
              "    </tr>\n",
              "    <tr>\n",
              "      <th>Always</th>\n",
              "      <td>53</td>\n",
              "    </tr>\n",
              "    <tr>\n",
              "      <th>no</th>\n",
              "      <td>51</td>\n",
              "    </tr>\n",
              "  </tbody>\n",
              "</table>\n",
              "</div><br><label><b>dtype:</b> int64</label>"
            ]
          },
          "metadata": {}
        },
        {
          "output_type": "stream",
          "name": "stdout",
          "text": [
            "Utilizando mapeamento existente para a coluna 'caec'.\n",
            "\n",
            "Mapeamento aplicado para a coluna 'caec':\n",
            "{'Always': 3, 'Frequently': 2, 'Sometimes': 1, 'no': 0}\n",
            "\n",
            "Coluna 'caec' codificada com sucesso.\n",
            "Tipo de alteração: Mapeamento de valores únicos para inteiros.\n",
            "Número de linhas processadas: 2111\n",
            "\n",
            "Valores únicos e contagem depois da codificação para a coluna 'caec':\n"
          ]
        },
        {
          "output_type": "display_data",
          "data": {
            "text/plain": [
              "caec\n",
              "1    1765\n",
              "2     242\n",
              "3      53\n",
              "0      51\n",
              "Name: count, dtype: int64"
            ],
            "text/html": [
              "<div>\n",
              "<style scoped>\n",
              "    .dataframe tbody tr th:only-of-type {\n",
              "        vertical-align: middle;\n",
              "    }\n",
              "\n",
              "    .dataframe tbody tr th {\n",
              "        vertical-align: top;\n",
              "    }\n",
              "\n",
              "    .dataframe thead th {\n",
              "        text-align: right;\n",
              "    }\n",
              "</style>\n",
              "<table border=\"1\" class=\"dataframe\">\n",
              "  <thead>\n",
              "    <tr style=\"text-align: right;\">\n",
              "      <th></th>\n",
              "      <th>count</th>\n",
              "    </tr>\n",
              "    <tr>\n",
              "      <th>caec</th>\n",
              "      <th></th>\n",
              "    </tr>\n",
              "  </thead>\n",
              "  <tbody>\n",
              "    <tr>\n",
              "      <th>1</th>\n",
              "      <td>1765</td>\n",
              "    </tr>\n",
              "    <tr>\n",
              "      <th>2</th>\n",
              "      <td>242</td>\n",
              "    </tr>\n",
              "    <tr>\n",
              "      <th>3</th>\n",
              "      <td>53</td>\n",
              "    </tr>\n",
              "    <tr>\n",
              "      <th>0</th>\n",
              "      <td>51</td>\n",
              "    </tr>\n",
              "  </tbody>\n",
              "</table>\n",
              "</div><br><label><b>dtype:</b> int64</label>"
            ]
          },
          "metadata": {}
        },
        {
          "output_type": "stream",
          "name": "stdout",
          "text": [
            "Campo 'transformacao' da coluna 'caec' atualizado com novos itens.\n",
            "Dicionário de dados atualizado para a coluna 'caec'.\n",
            "Valores únicos e contagem antes da codificação para a coluna 'fumante':\n"
          ]
        },
        {
          "output_type": "display_data",
          "data": {
            "text/plain": [
              "fumante\n",
              "no     2067\n",
              "yes      44\n",
              "Name: count, dtype: int64"
            ],
            "text/html": [
              "<div>\n",
              "<style scoped>\n",
              "    .dataframe tbody tr th:only-of-type {\n",
              "        vertical-align: middle;\n",
              "    }\n",
              "\n",
              "    .dataframe tbody tr th {\n",
              "        vertical-align: top;\n",
              "    }\n",
              "\n",
              "    .dataframe thead th {\n",
              "        text-align: right;\n",
              "    }\n",
              "</style>\n",
              "<table border=\"1\" class=\"dataframe\">\n",
              "  <thead>\n",
              "    <tr style=\"text-align: right;\">\n",
              "      <th></th>\n",
              "      <th>count</th>\n",
              "    </tr>\n",
              "    <tr>\n",
              "      <th>fumante</th>\n",
              "      <th></th>\n",
              "    </tr>\n",
              "  </thead>\n",
              "  <tbody>\n",
              "    <tr>\n",
              "      <th>no</th>\n",
              "      <td>2067</td>\n",
              "    </tr>\n",
              "    <tr>\n",
              "      <th>yes</th>\n",
              "      <td>44</td>\n",
              "    </tr>\n",
              "  </tbody>\n",
              "</table>\n",
              "</div><br><label><b>dtype:</b> int64</label>"
            ]
          },
          "metadata": {}
        },
        {
          "output_type": "stream",
          "name": "stdout",
          "text": [
            "Utilizando mapeamento existente para a coluna 'fumante'.\n",
            "\n",
            "Mapeamento aplicado para a coluna 'fumante':\n",
            "{'no': 0, 'yes': 1}\n",
            "\n",
            "Coluna 'fumante' codificada com sucesso.\n",
            "Tipo de alteração: Mapeamento de valores únicos para inteiros.\n",
            "Número de linhas processadas: 2111\n",
            "\n",
            "Valores únicos e contagem depois da codificação para a coluna 'fumante':\n"
          ]
        },
        {
          "output_type": "display_data",
          "data": {
            "text/plain": [
              "fumante\n",
              "0    2067\n",
              "1      44\n",
              "Name: count, dtype: int64"
            ],
            "text/html": [
              "<div>\n",
              "<style scoped>\n",
              "    .dataframe tbody tr th:only-of-type {\n",
              "        vertical-align: middle;\n",
              "    }\n",
              "\n",
              "    .dataframe tbody tr th {\n",
              "        vertical-align: top;\n",
              "    }\n",
              "\n",
              "    .dataframe thead th {\n",
              "        text-align: right;\n",
              "    }\n",
              "</style>\n",
              "<table border=\"1\" class=\"dataframe\">\n",
              "  <thead>\n",
              "    <tr style=\"text-align: right;\">\n",
              "      <th></th>\n",
              "      <th>count</th>\n",
              "    </tr>\n",
              "    <tr>\n",
              "      <th>fumante</th>\n",
              "      <th></th>\n",
              "    </tr>\n",
              "  </thead>\n",
              "  <tbody>\n",
              "    <tr>\n",
              "      <th>0</th>\n",
              "      <td>2067</td>\n",
              "    </tr>\n",
              "    <tr>\n",
              "      <th>1</th>\n",
              "      <td>44</td>\n",
              "    </tr>\n",
              "  </tbody>\n",
              "</table>\n",
              "</div><br><label><b>dtype:</b> int64</label>"
            ]
          },
          "metadata": {}
        },
        {
          "output_type": "stream",
          "name": "stdout",
          "text": [
            "Campo 'transformacao' da coluna 'fumante' atualizado com novos itens.\n",
            "Dicionário de dados atualizado para a coluna 'fumante'.\n",
            "Valores únicos e contagem antes da codificação para a coluna 'scc':\n"
          ]
        },
        {
          "output_type": "display_data",
          "data": {
            "text/plain": [
              "scc\n",
              "no     2015\n",
              "yes      96\n",
              "Name: count, dtype: int64"
            ],
            "text/html": [
              "<div>\n",
              "<style scoped>\n",
              "    .dataframe tbody tr th:only-of-type {\n",
              "        vertical-align: middle;\n",
              "    }\n",
              "\n",
              "    .dataframe tbody tr th {\n",
              "        vertical-align: top;\n",
              "    }\n",
              "\n",
              "    .dataframe thead th {\n",
              "        text-align: right;\n",
              "    }\n",
              "</style>\n",
              "<table border=\"1\" class=\"dataframe\">\n",
              "  <thead>\n",
              "    <tr style=\"text-align: right;\">\n",
              "      <th></th>\n",
              "      <th>count</th>\n",
              "    </tr>\n",
              "    <tr>\n",
              "      <th>scc</th>\n",
              "      <th></th>\n",
              "    </tr>\n",
              "  </thead>\n",
              "  <tbody>\n",
              "    <tr>\n",
              "      <th>no</th>\n",
              "      <td>2015</td>\n",
              "    </tr>\n",
              "    <tr>\n",
              "      <th>yes</th>\n",
              "      <td>96</td>\n",
              "    </tr>\n",
              "  </tbody>\n",
              "</table>\n",
              "</div><br><label><b>dtype:</b> int64</label>"
            ]
          },
          "metadata": {}
        },
        {
          "output_type": "stream",
          "name": "stdout",
          "text": [
            "Utilizando mapeamento existente para a coluna 'scc'.\n",
            "\n",
            "Mapeamento aplicado para a coluna 'scc':\n",
            "{'no': 0, 'yes': 1}\n",
            "\n",
            "Coluna 'scc' codificada com sucesso.\n",
            "Tipo de alteração: Mapeamento de valores únicos para inteiros.\n",
            "Número de linhas processadas: 2111\n",
            "\n",
            "Valores únicos e contagem depois da codificação para a coluna 'scc':\n"
          ]
        },
        {
          "output_type": "display_data",
          "data": {
            "text/plain": [
              "scc\n",
              "0    2015\n",
              "1      96\n",
              "Name: count, dtype: int64"
            ],
            "text/html": [
              "<div>\n",
              "<style scoped>\n",
              "    .dataframe tbody tr th:only-of-type {\n",
              "        vertical-align: middle;\n",
              "    }\n",
              "\n",
              "    .dataframe tbody tr th {\n",
              "        vertical-align: top;\n",
              "    }\n",
              "\n",
              "    .dataframe thead th {\n",
              "        text-align: right;\n",
              "    }\n",
              "</style>\n",
              "<table border=\"1\" class=\"dataframe\">\n",
              "  <thead>\n",
              "    <tr style=\"text-align: right;\">\n",
              "      <th></th>\n",
              "      <th>count</th>\n",
              "    </tr>\n",
              "    <tr>\n",
              "      <th>scc</th>\n",
              "      <th></th>\n",
              "    </tr>\n",
              "  </thead>\n",
              "  <tbody>\n",
              "    <tr>\n",
              "      <th>0</th>\n",
              "      <td>2015</td>\n",
              "    </tr>\n",
              "    <tr>\n",
              "      <th>1</th>\n",
              "      <td>96</td>\n",
              "    </tr>\n",
              "  </tbody>\n",
              "</table>\n",
              "</div><br><label><b>dtype:</b> int64</label>"
            ]
          },
          "metadata": {}
        },
        {
          "output_type": "stream",
          "name": "stdout",
          "text": [
            "Campo 'transformacao' da coluna 'scc' atualizado com novos itens.\n",
            "Dicionário de dados atualizado para a coluna 'scc'.\n",
            "Valores únicos e contagem antes da codificação para a coluna 'calc':\n"
          ]
        },
        {
          "output_type": "display_data",
          "data": {
            "text/plain": [
              "calc\n",
              "Sometimes     1401\n",
              "no             639\n",
              "Frequently      70\n",
              "Always           1\n",
              "Name: count, dtype: int64"
            ],
            "text/html": [
              "<div>\n",
              "<style scoped>\n",
              "    .dataframe tbody tr th:only-of-type {\n",
              "        vertical-align: middle;\n",
              "    }\n",
              "\n",
              "    .dataframe tbody tr th {\n",
              "        vertical-align: top;\n",
              "    }\n",
              "\n",
              "    .dataframe thead th {\n",
              "        text-align: right;\n",
              "    }\n",
              "</style>\n",
              "<table border=\"1\" class=\"dataframe\">\n",
              "  <thead>\n",
              "    <tr style=\"text-align: right;\">\n",
              "      <th></th>\n",
              "      <th>count</th>\n",
              "    </tr>\n",
              "    <tr>\n",
              "      <th>calc</th>\n",
              "      <th></th>\n",
              "    </tr>\n",
              "  </thead>\n",
              "  <tbody>\n",
              "    <tr>\n",
              "      <th>Sometimes</th>\n",
              "      <td>1401</td>\n",
              "    </tr>\n",
              "    <tr>\n",
              "      <th>no</th>\n",
              "      <td>639</td>\n",
              "    </tr>\n",
              "    <tr>\n",
              "      <th>Frequently</th>\n",
              "      <td>70</td>\n",
              "    </tr>\n",
              "    <tr>\n",
              "      <th>Always</th>\n",
              "      <td>1</td>\n",
              "    </tr>\n",
              "  </tbody>\n",
              "</table>\n",
              "</div><br><label><b>dtype:</b> int64</label>"
            ]
          },
          "metadata": {}
        },
        {
          "output_type": "stream",
          "name": "stdout",
          "text": [
            "Utilizando mapeamento existente para a coluna 'calc'.\n",
            "\n",
            "Mapeamento aplicado para a coluna 'calc':\n",
            "{'Always': 3, 'Frequently': 2, 'Sometimes': 1, 'no': 0}\n",
            "\n",
            "Coluna 'calc' codificada com sucesso.\n",
            "Tipo de alteração: Mapeamento de valores únicos para inteiros.\n",
            "Número de linhas processadas: 2111\n",
            "\n",
            "Valores únicos e contagem depois da codificação para a coluna 'calc':\n"
          ]
        },
        {
          "output_type": "display_data",
          "data": {
            "text/plain": [
              "calc\n",
              "1    1401\n",
              "0     639\n",
              "2      70\n",
              "3       1\n",
              "Name: count, dtype: int64"
            ],
            "text/html": [
              "<div>\n",
              "<style scoped>\n",
              "    .dataframe tbody tr th:only-of-type {\n",
              "        vertical-align: middle;\n",
              "    }\n",
              "\n",
              "    .dataframe tbody tr th {\n",
              "        vertical-align: top;\n",
              "    }\n",
              "\n",
              "    .dataframe thead th {\n",
              "        text-align: right;\n",
              "    }\n",
              "</style>\n",
              "<table border=\"1\" class=\"dataframe\">\n",
              "  <thead>\n",
              "    <tr style=\"text-align: right;\">\n",
              "      <th></th>\n",
              "      <th>count</th>\n",
              "    </tr>\n",
              "    <tr>\n",
              "      <th>calc</th>\n",
              "      <th></th>\n",
              "    </tr>\n",
              "  </thead>\n",
              "  <tbody>\n",
              "    <tr>\n",
              "      <th>1</th>\n",
              "      <td>1401</td>\n",
              "    </tr>\n",
              "    <tr>\n",
              "      <th>0</th>\n",
              "      <td>639</td>\n",
              "    </tr>\n",
              "    <tr>\n",
              "      <th>2</th>\n",
              "      <td>70</td>\n",
              "    </tr>\n",
              "    <tr>\n",
              "      <th>3</th>\n",
              "      <td>1</td>\n",
              "    </tr>\n",
              "  </tbody>\n",
              "</table>\n",
              "</div><br><label><b>dtype:</b> int64</label>"
            ]
          },
          "metadata": {}
        },
        {
          "output_type": "stream",
          "name": "stdout",
          "text": [
            "Campo 'transformacao' da coluna 'calc' atualizado com novos itens.\n",
            "Dicionário de dados atualizado para a coluna 'calc'.\n",
            "Valores únicos e contagem antes da codificação para a coluna 'mtrans':\n"
          ]
        },
        {
          "output_type": "display_data",
          "data": {
            "text/plain": [
              "mtrans\n",
              "Public_Transportation    1580\n",
              "Automobile                457\n",
              "Walking                    56\n",
              "Motorbike                  11\n",
              "Bike                        7\n",
              "Name: count, dtype: int64"
            ],
            "text/html": [
              "<div>\n",
              "<style scoped>\n",
              "    .dataframe tbody tr th:only-of-type {\n",
              "        vertical-align: middle;\n",
              "    }\n",
              "\n",
              "    .dataframe tbody tr th {\n",
              "        vertical-align: top;\n",
              "    }\n",
              "\n",
              "    .dataframe thead th {\n",
              "        text-align: right;\n",
              "    }\n",
              "</style>\n",
              "<table border=\"1\" class=\"dataframe\">\n",
              "  <thead>\n",
              "    <tr style=\"text-align: right;\">\n",
              "      <th></th>\n",
              "      <th>count</th>\n",
              "    </tr>\n",
              "    <tr>\n",
              "      <th>mtrans</th>\n",
              "      <th></th>\n",
              "    </tr>\n",
              "  </thead>\n",
              "  <tbody>\n",
              "    <tr>\n",
              "      <th>Public_Transportation</th>\n",
              "      <td>1580</td>\n",
              "    </tr>\n",
              "    <tr>\n",
              "      <th>Automobile</th>\n",
              "      <td>457</td>\n",
              "    </tr>\n",
              "    <tr>\n",
              "      <th>Walking</th>\n",
              "      <td>56</td>\n",
              "    </tr>\n",
              "    <tr>\n",
              "      <th>Motorbike</th>\n",
              "      <td>11</td>\n",
              "    </tr>\n",
              "    <tr>\n",
              "      <th>Bike</th>\n",
              "      <td>7</td>\n",
              "    </tr>\n",
              "  </tbody>\n",
              "</table>\n",
              "</div><br><label><b>dtype:</b> int64</label>"
            ]
          },
          "metadata": {}
        },
        {
          "output_type": "stream",
          "name": "stdout",
          "text": [
            "Utilizando mapeamento existente para a coluna 'mtrans'.\n",
            "\n",
            "Mapeamento aplicado para a coluna 'mtrans':\n",
            "{'Automobile': 0, 'Bike': 1, 'Motorbike': 2, 'Public_Transportation': 3, 'Walking': 4}\n",
            "\n",
            "Coluna 'mtrans' codificada com sucesso.\n",
            "Tipo de alteração: Mapeamento de valores únicos para inteiros.\n",
            "Número de linhas processadas: 2111\n",
            "\n",
            "Valores únicos e contagem depois da codificação para a coluna 'mtrans':\n"
          ]
        },
        {
          "output_type": "display_data",
          "data": {
            "text/plain": [
              "mtrans\n",
              "3    1580\n",
              "0     457\n",
              "4      56\n",
              "2      11\n",
              "1       7\n",
              "Name: count, dtype: int64"
            ],
            "text/html": [
              "<div>\n",
              "<style scoped>\n",
              "    .dataframe tbody tr th:only-of-type {\n",
              "        vertical-align: middle;\n",
              "    }\n",
              "\n",
              "    .dataframe tbody tr th {\n",
              "        vertical-align: top;\n",
              "    }\n",
              "\n",
              "    .dataframe thead th {\n",
              "        text-align: right;\n",
              "    }\n",
              "</style>\n",
              "<table border=\"1\" class=\"dataframe\">\n",
              "  <thead>\n",
              "    <tr style=\"text-align: right;\">\n",
              "      <th></th>\n",
              "      <th>count</th>\n",
              "    </tr>\n",
              "    <tr>\n",
              "      <th>mtrans</th>\n",
              "      <th></th>\n",
              "    </tr>\n",
              "  </thead>\n",
              "  <tbody>\n",
              "    <tr>\n",
              "      <th>3</th>\n",
              "      <td>1580</td>\n",
              "    </tr>\n",
              "    <tr>\n",
              "      <th>0</th>\n",
              "      <td>457</td>\n",
              "    </tr>\n",
              "    <tr>\n",
              "      <th>4</th>\n",
              "      <td>56</td>\n",
              "    </tr>\n",
              "    <tr>\n",
              "      <th>2</th>\n",
              "      <td>11</td>\n",
              "    </tr>\n",
              "    <tr>\n",
              "      <th>1</th>\n",
              "      <td>7</td>\n",
              "    </tr>\n",
              "  </tbody>\n",
              "</table>\n",
              "</div><br><label><b>dtype:</b> int64</label>"
            ]
          },
          "metadata": {}
        },
        {
          "output_type": "stream",
          "name": "stdout",
          "text": [
            "Campo 'transformacao' da coluna 'mtrans' atualizado com novos itens.\n",
            "Dicionário de dados atualizado para a coluna 'mtrans'.\n"
          ]
        }
      ]
    },
    {
      "cell_type": "code",
      "source": [
        "print(json.dumps(dicionario_dados_nivel_obesidade, indent=4))"
      ],
      "metadata": {
        "colab": {
          "base_uri": "https://localhost:8080/"
        },
        "id": "ZWCN9veEuoXg",
        "outputId": "05ebd731-5796-4bb6-e298-2f9b6d698a7f"
      },
      "execution_count": 320,
      "outputs": [
        {
          "output_type": "stream",
          "name": "stdout",
          "text": [
            "{\n",
            "    \"genero\": {\n",
            "        \"nome_original\": \"Gender\",\n",
            "        \"tipo_coluna\": \"original\",\n",
            "        \"novo_nome\": \"genero\",\n",
            "        \"descricao\": \"genero\",\n",
            "        \"transformacao\": {\n",
            "            \"transformacao_1\": \"Renomeada de 'Gender' para 'genero'.\",\n",
            "            \"transformacao_2\": \"Mapeado para inteiros usando o mapa: {'Female': 0, 'Male': 1}\"\n",
            "        }\n",
            "    },\n",
            "    \"idade\": {\n",
            "        \"nome_original\": \"Age\",\n",
            "        \"tipo_coluna\": \"original\",\n",
            "        \"novo_nome\": \"idade\",\n",
            "        \"descricao\": \"idade\",\n",
            "        \"transformacao\": {\n",
            "            \"transformacao_1\": \"Renomeada de 'Age' para 'idade'.\"\n",
            "        }\n",
            "    },\n",
            "    \"altura\": {\n",
            "        \"nome_original\": \"Height\",\n",
            "        \"tipo_coluna\": \"original\",\n",
            "        \"novo_nome\": \"altura\",\n",
            "        \"descricao\": \"altura\",\n",
            "        \"transformacao\": {\n",
            "            \"transformacao_1\": \"Renomeada de 'Height' para 'altura'.\"\n",
            "        }\n",
            "    },\n",
            "    \"peso\": {\n",
            "        \"nome_original\": \"Weight\",\n",
            "        \"tipo_coluna\": \"original\",\n",
            "        \"novo_nome\": \"peso\",\n",
            "        \"descricao\": \"peso\",\n",
            "        \"transformacao\": {\n",
            "            \"transformacao_1\": \"Renomeada de 'Weight' para 'peso'.\"\n",
            "        }\n",
            "    },\n",
            "    \"historico_familiar\": {\n",
            "        \"nome_original\": \"family_history\",\n",
            "        \"tipo_coluna\": \"original\",\n",
            "        \"novo_nome\": \"historico_familiar\",\n",
            "        \"descricao\": \"historico_familiar\",\n",
            "        \"transformacao\": {\n",
            "            \"transformacao_1\": \"Renomeada de 'family_history' para 'historico_familiar'.\",\n",
            "            \"transformacao_2\": \"Mapeado para inteiros usando o mapa: {'no': 0, 'yes': 1}\"\n",
            "        }\n",
            "    },\n",
            "    \"favc\": {\n",
            "        \"nome_original\": \"FAVC\",\n",
            "        \"tipo_coluna\": \"original\",\n",
            "        \"novo_nome\": \"favc\",\n",
            "        \"descricao\": \"favc\",\n",
            "        \"transformacao\": {\n",
            "            \"transformacao_1\": \"Renomeada de 'FAVC' para 'favc'.\",\n",
            "            \"transformacao_2\": \"Mapeado para inteiros usando o mapa: {'no': 0, 'yes': 1}\"\n",
            "        }\n",
            "    },\n",
            "    \"fcvc\": {\n",
            "        \"nome_original\": \"FCVC\",\n",
            "        \"tipo_coluna\": \"original\",\n",
            "        \"novo_nome\": \"fcvc\",\n",
            "        \"descricao\": \"fcvc\",\n",
            "        \"transformacao\": {\n",
            "            \"transformacao_1\": \"Renomeada de 'FCVC' para 'fcvc'.\"\n",
            "        }\n",
            "    },\n",
            "    \"ncp\": {\n",
            "        \"nome_original\": \"NCP\",\n",
            "        \"tipo_coluna\": \"original\",\n",
            "        \"novo_nome\": \"ncp\",\n",
            "        \"descricao\": \"ncp\",\n",
            "        \"transformacao\": {\n",
            "            \"transformacao_1\": \"Renomeada de 'NCP' para 'ncp'.\"\n",
            "        }\n",
            "    },\n",
            "    \"caec\": {\n",
            "        \"nome_original\": \"CAEC\",\n",
            "        \"tipo_coluna\": \"original\",\n",
            "        \"novo_nome\": \"caec\",\n",
            "        \"descricao\": \"caec\",\n",
            "        \"transformacao\": {\n",
            "            \"transformacao_1\": \"Renomeada de 'CAEC' para 'caec'.\",\n",
            "            \"transformacao_2\": \"Mapeado para inteiros usando o mapa: {'Always': 3, 'Frequently': 2, 'Sometimes': 1, 'no': 0}\"\n",
            "        }\n",
            "    },\n",
            "    \"fumante\": {\n",
            "        \"nome_original\": \"SMOKE\",\n",
            "        \"tipo_coluna\": \"original\",\n",
            "        \"novo_nome\": \"fumante\",\n",
            "        \"descricao\": \"fumante\",\n",
            "        \"transformacao\": {\n",
            "            \"transformacao_1\": \"Renomeada de 'SMOKE' para 'fumante'.\",\n",
            "            \"transformacao_2\": \"Mapeado para inteiros usando o mapa: {'no': 0, 'yes': 1}\"\n",
            "        }\n",
            "    },\n",
            "    \"ch20\": {\n",
            "        \"nome_original\": \"CH2O\",\n",
            "        \"tipo_coluna\": \"original\",\n",
            "        \"novo_nome\": \"ch20\",\n",
            "        \"descricao\": \"ch20\",\n",
            "        \"transformacao\": {\n",
            "            \"transformacao_1\": \"Renomeada de 'CH2O' para 'ch20'.\"\n",
            "        }\n",
            "    },\n",
            "    \"scc\": {\n",
            "        \"nome_original\": \"SCC\",\n",
            "        \"tipo_coluna\": \"original\",\n",
            "        \"novo_nome\": \"scc\",\n",
            "        \"descricao\": \"scc\",\n",
            "        \"transformacao\": {\n",
            "            \"transformacao_1\": \"Renomeada de 'SCC' para 'scc'.\",\n",
            "            \"transformacao_2\": \"Mapeado para inteiros usando o mapa: {'no': 0, 'yes': 1}\"\n",
            "        }\n",
            "    },\n",
            "    \"faf\": {\n",
            "        \"nome_original\": \"FAF\",\n",
            "        \"tipo_coluna\": \"original\",\n",
            "        \"novo_nome\": \"faf\",\n",
            "        \"descricao\": \"faf\",\n",
            "        \"transformacao\": {\n",
            "            \"transformacao_1\": \"Renomeada de 'FAF' para 'faf'.\"\n",
            "        }\n",
            "    },\n",
            "    \"tue\": {\n",
            "        \"nome_original\": \"TUE\",\n",
            "        \"tipo_coluna\": \"original\",\n",
            "        \"novo_nome\": \"tue\",\n",
            "        \"descricao\": \"tue\",\n",
            "        \"transformacao\": {\n",
            "            \"transformacao_1\": \"Renomeada de 'TUE' para 'tue'.\"\n",
            "        }\n",
            "    },\n",
            "    \"calc\": {\n",
            "        \"nome_original\": \"CALC\",\n",
            "        \"tipo_coluna\": \"original\",\n",
            "        \"novo_nome\": \"calc\",\n",
            "        \"descricao\": \"calc\",\n",
            "        \"transformacao\": {\n",
            "            \"transformacao_1\": \"Renomeada de 'CALC' para 'calc'.\",\n",
            "            \"transformacao_2\": \"Mapeado para inteiros usando o mapa: {'Always': 3, 'Frequently': 2, 'Sometimes': 1, 'no': 0}\"\n",
            "        }\n",
            "    },\n",
            "    \"mtrans\": {\n",
            "        \"nome_original\": \"MTRANS\",\n",
            "        \"tipo_coluna\": \"original\",\n",
            "        \"novo_nome\": \"mtrans\",\n",
            "        \"descricao\": \"mtrans\",\n",
            "        \"transformacao\": {\n",
            "            \"transformacao_1\": \"Renomeada de 'MTRANS' para 'mtrans'.\",\n",
            "            \"transformacao_2\": \"Mapeado para inteiros usando o mapa: {'Automobile': 0, 'Bike': 1, 'Motorbike': 2, 'Public_Transportation': 3, 'Walking': 4}\"\n",
            "        }\n",
            "    },\n",
            "    \"classificacao_peso_corporal\": {\n",
            "        \"nome_original\": \"Obesity\",\n",
            "        \"tipo_coluna\": \"original\",\n",
            "        \"novo_nome\": \"classificacao_peso_corporal\",\n",
            "        \"descricao\": \"classificacao_peso_corporal\",\n",
            "        \"transformacao\": {\n",
            "            \"transformacao_1\": \"Renomeada de 'Obesity' para 'classificacao_peso_corporal'.\"\n",
            "        }\n",
            "    }\n",
            "}\n"
          ]
        }
      ]
    },
    {
      "cell_type": "markdown",
      "source": [
        "## **Alteração variavel classificacao_peso_corporal**"
      ],
      "metadata": {
        "id": "nd2RK1Y8UKNN"
      }
    },
    {
      "cell_type": "markdown",
      "source": [
        "A variável `classificacao_peso_corporal` é a varíavel alvo do presente estudo e no momento apenas foi realizada uma tradução dos valores que estavam em ingles."
      ],
      "metadata": {
        "id": "Obhdt3UP0nMC"
      }
    },
    {
      "cell_type": "code",
      "source": [
        "mapa_coluna_classificacao_peso_corporal = ler_json_de_url('https://raw.githubusercontent.com/fiapdatanalytics/tech-challenge4/refs/heads/main/data/mapa_coluna_classificacao_peso_corporal.json')\n",
        "transformar_valores_string(df,'classificacao_peso_corporal' , mapa_coluna_classificacao_peso_corporal, dicionario_dados_nivel_obesidade)"
      ],
      "metadata": {
        "colab": {
          "base_uri": "https://localhost:8080/",
          "height": 0
        },
        "id": "xaMcQK2qUO3o",
        "outputId": "b5647343-a3b0-405b-bea5-7e5f4ecb619d"
      },
      "execution_count": 321,
      "outputs": [
        {
          "output_type": "stream",
          "name": "stdout",
          "text": [
            "Leitura com sucesso do caminho https://raw.githubusercontent.com/fiapdatanalytics/tech-challenge4/refs/heads/main/data/mapa_coluna_classificacao_peso_corporal.json\n",
            "Coluna 'classificacao_peso_corporal' transformada com sucesso.\n",
            "Tipo de alteração: Mapeamento de valores string para string.\n",
            "Número de linhas processadas: 2111\n",
            "\n",
            "Valores únicos e contagem depois da transformação para a coluna 'classificacao_peso_corporal':\n"
          ]
        },
        {
          "output_type": "display_data",
          "data": {
            "text/plain": [
              "classificacao_peso_corporal\n",
              "obesidade_tipo_1     351\n",
              "obesidade_tipo_3     324\n",
              "obesidade_tipo_2     297\n",
              "sobrepeso_tipo_1     290\n",
              "sobrepeso_tipo_2     290\n",
              "peso_normal          287\n",
              "peso_insuficiente    272\n",
              "Name: count, dtype: int64"
            ],
            "text/html": [
              "<div>\n",
              "<style scoped>\n",
              "    .dataframe tbody tr th:only-of-type {\n",
              "        vertical-align: middle;\n",
              "    }\n",
              "\n",
              "    .dataframe tbody tr th {\n",
              "        vertical-align: top;\n",
              "    }\n",
              "\n",
              "    .dataframe thead th {\n",
              "        text-align: right;\n",
              "    }\n",
              "</style>\n",
              "<table border=\"1\" class=\"dataframe\">\n",
              "  <thead>\n",
              "    <tr style=\"text-align: right;\">\n",
              "      <th></th>\n",
              "      <th>count</th>\n",
              "    </tr>\n",
              "    <tr>\n",
              "      <th>classificacao_peso_corporal</th>\n",
              "      <th></th>\n",
              "    </tr>\n",
              "  </thead>\n",
              "  <tbody>\n",
              "    <tr>\n",
              "      <th>obesidade_tipo_1</th>\n",
              "      <td>351</td>\n",
              "    </tr>\n",
              "    <tr>\n",
              "      <th>obesidade_tipo_3</th>\n",
              "      <td>324</td>\n",
              "    </tr>\n",
              "    <tr>\n",
              "      <th>obesidade_tipo_2</th>\n",
              "      <td>297</td>\n",
              "    </tr>\n",
              "    <tr>\n",
              "      <th>sobrepeso_tipo_1</th>\n",
              "      <td>290</td>\n",
              "    </tr>\n",
              "    <tr>\n",
              "      <th>sobrepeso_tipo_2</th>\n",
              "      <td>290</td>\n",
              "    </tr>\n",
              "    <tr>\n",
              "      <th>peso_normal</th>\n",
              "      <td>287</td>\n",
              "    </tr>\n",
              "    <tr>\n",
              "      <th>peso_insuficiente</th>\n",
              "      <td>272</td>\n",
              "    </tr>\n",
              "  </tbody>\n",
              "</table>\n",
              "</div><br><label><b>dtype:</b> int64</label>"
            ]
          },
          "metadata": {}
        },
        {
          "output_type": "stream",
          "name": "stdout",
          "text": [
            "Campo 'transformacao' da coluna 'classificacao_peso_corporal' atualizado com novos itens.\n"
          ]
        }
      ]
    },
    {
      "cell_type": "markdown",
      "source": [
        "## **Criação coluna IMC**"
      ],
      "metadata": {
        "id": "IbUWy41yOhOZ"
      }
    },
    {
      "cell_type": "markdown",
      "source": [
        "Criada a coluna `imc` para comparacao para estudo do relacionamento com a variável alvo `classificacao_peso_corporal`."
      ],
      "metadata": {
        "id": "Rcek48ON0-31"
      }
    },
    {
      "cell_type": "code",
      "source": [
        "#criacao da coluna imc\n",
        "df['imc'] = round(df['peso'] / (df['altura'] * df['altura']),2)\n",
        "display(df.head())\n",
        "print(f'Total de linhas: {df.shape[0]}\\nTotal de colunas: {df.shape[1]} ')"
      ],
      "metadata": {
        "colab": {
          "base_uri": "https://localhost:8080/",
          "height": 0
        },
        "outputId": "74cbbd6b-7450-443c-8202-e9fce808f1c6",
        "id": "IpAyb5GdOhOZ"
      },
      "execution_count": 322,
      "outputs": [
        {
          "output_type": "display_data",
          "data": {
            "text/plain": [
              "   genero  idade  altura  peso  historico_familiar  favc  fcvc  ncp  caec  \\\n",
              "0       0   21.0    1.62  64.0                   1     0   2.0  3.0     1   \n",
              "1       0   21.0    1.52  56.0                   1     0   3.0  3.0     1   \n",
              "2       1   23.0    1.80  77.0                   1     0   2.0  3.0     1   \n",
              "3       1   27.0    1.80  87.0                   0     0   3.0  3.0     1   \n",
              "4       1   22.0    1.78  89.8                   0     0   2.0  1.0     1   \n",
              "\n",
              "   fumante  ch20  scc  faf  tue  calc  mtrans classificacao_peso_corporal  \\\n",
              "0        0   2.0    0  0.0  1.0     0       3                 peso_normal   \n",
              "1        1   3.0    1  3.0  0.0     1       3                 peso_normal   \n",
              "2        0   2.0    0  2.0  1.0     2       3                 peso_normal   \n",
              "3        0   2.0    0  2.0  0.0     2       4            sobrepeso_tipo_1   \n",
              "4        0   2.0    0  0.0  0.0     1       3            sobrepeso_tipo_2   \n",
              "\n",
              "     imc  \n",
              "0  24.39  \n",
              "1  24.24  \n",
              "2  23.77  \n",
              "3  26.85  \n",
              "4  28.34  "
            ],
            "text/html": [
              "\n",
              "  <div id=\"df-469d2ed5-5c97-4044-ac63-9591b3a7107e\" class=\"colab-df-container\">\n",
              "    <div>\n",
              "<style scoped>\n",
              "    .dataframe tbody tr th:only-of-type {\n",
              "        vertical-align: middle;\n",
              "    }\n",
              "\n",
              "    .dataframe tbody tr th {\n",
              "        vertical-align: top;\n",
              "    }\n",
              "\n",
              "    .dataframe thead th {\n",
              "        text-align: right;\n",
              "    }\n",
              "</style>\n",
              "<table border=\"1\" class=\"dataframe\">\n",
              "  <thead>\n",
              "    <tr style=\"text-align: right;\">\n",
              "      <th></th>\n",
              "      <th>genero</th>\n",
              "      <th>idade</th>\n",
              "      <th>altura</th>\n",
              "      <th>peso</th>\n",
              "      <th>historico_familiar</th>\n",
              "      <th>favc</th>\n",
              "      <th>fcvc</th>\n",
              "      <th>ncp</th>\n",
              "      <th>caec</th>\n",
              "      <th>fumante</th>\n",
              "      <th>ch20</th>\n",
              "      <th>scc</th>\n",
              "      <th>faf</th>\n",
              "      <th>tue</th>\n",
              "      <th>calc</th>\n",
              "      <th>mtrans</th>\n",
              "      <th>classificacao_peso_corporal</th>\n",
              "      <th>imc</th>\n",
              "    </tr>\n",
              "  </thead>\n",
              "  <tbody>\n",
              "    <tr>\n",
              "      <th>0</th>\n",
              "      <td>0</td>\n",
              "      <td>21.0</td>\n",
              "      <td>1.62</td>\n",
              "      <td>64.0</td>\n",
              "      <td>1</td>\n",
              "      <td>0</td>\n",
              "      <td>2.0</td>\n",
              "      <td>3.0</td>\n",
              "      <td>1</td>\n",
              "      <td>0</td>\n",
              "      <td>2.0</td>\n",
              "      <td>0</td>\n",
              "      <td>0.0</td>\n",
              "      <td>1.0</td>\n",
              "      <td>0</td>\n",
              "      <td>3</td>\n",
              "      <td>peso_normal</td>\n",
              "      <td>24.39</td>\n",
              "    </tr>\n",
              "    <tr>\n",
              "      <th>1</th>\n",
              "      <td>0</td>\n",
              "      <td>21.0</td>\n",
              "      <td>1.52</td>\n",
              "      <td>56.0</td>\n",
              "      <td>1</td>\n",
              "      <td>0</td>\n",
              "      <td>3.0</td>\n",
              "      <td>3.0</td>\n",
              "      <td>1</td>\n",
              "      <td>1</td>\n",
              "      <td>3.0</td>\n",
              "      <td>1</td>\n",
              "      <td>3.0</td>\n",
              "      <td>0.0</td>\n",
              "      <td>1</td>\n",
              "      <td>3</td>\n",
              "      <td>peso_normal</td>\n",
              "      <td>24.24</td>\n",
              "    </tr>\n",
              "    <tr>\n",
              "      <th>2</th>\n",
              "      <td>1</td>\n",
              "      <td>23.0</td>\n",
              "      <td>1.80</td>\n",
              "      <td>77.0</td>\n",
              "      <td>1</td>\n",
              "      <td>0</td>\n",
              "      <td>2.0</td>\n",
              "      <td>3.0</td>\n",
              "      <td>1</td>\n",
              "      <td>0</td>\n",
              "      <td>2.0</td>\n",
              "      <td>0</td>\n",
              "      <td>2.0</td>\n",
              "      <td>1.0</td>\n",
              "      <td>2</td>\n",
              "      <td>3</td>\n",
              "      <td>peso_normal</td>\n",
              "      <td>23.77</td>\n",
              "    </tr>\n",
              "    <tr>\n",
              "      <th>3</th>\n",
              "      <td>1</td>\n",
              "      <td>27.0</td>\n",
              "      <td>1.80</td>\n",
              "      <td>87.0</td>\n",
              "      <td>0</td>\n",
              "      <td>0</td>\n",
              "      <td>3.0</td>\n",
              "      <td>3.0</td>\n",
              "      <td>1</td>\n",
              "      <td>0</td>\n",
              "      <td>2.0</td>\n",
              "      <td>0</td>\n",
              "      <td>2.0</td>\n",
              "      <td>0.0</td>\n",
              "      <td>2</td>\n",
              "      <td>4</td>\n",
              "      <td>sobrepeso_tipo_1</td>\n",
              "      <td>26.85</td>\n",
              "    </tr>\n",
              "    <tr>\n",
              "      <th>4</th>\n",
              "      <td>1</td>\n",
              "      <td>22.0</td>\n",
              "      <td>1.78</td>\n",
              "      <td>89.8</td>\n",
              "      <td>0</td>\n",
              "      <td>0</td>\n",
              "      <td>2.0</td>\n",
              "      <td>1.0</td>\n",
              "      <td>1</td>\n",
              "      <td>0</td>\n",
              "      <td>2.0</td>\n",
              "      <td>0</td>\n",
              "      <td>0.0</td>\n",
              "      <td>0.0</td>\n",
              "      <td>1</td>\n",
              "      <td>3</td>\n",
              "      <td>sobrepeso_tipo_2</td>\n",
              "      <td>28.34</td>\n",
              "    </tr>\n",
              "  </tbody>\n",
              "</table>\n",
              "</div>\n",
              "    <div class=\"colab-df-buttons\">\n",
              "\n",
              "  <div class=\"colab-df-container\">\n",
              "    <button class=\"colab-df-convert\" onclick=\"convertToInteractive('df-469d2ed5-5c97-4044-ac63-9591b3a7107e')\"\n",
              "            title=\"Convert this dataframe to an interactive table.\"\n",
              "            style=\"display:none;\">\n",
              "\n",
              "  <svg xmlns=\"http://www.w3.org/2000/svg\" height=\"24px\" viewBox=\"0 -960 960 960\">\n",
              "    <path d=\"M120-120v-720h720v720H120Zm60-500h600v-160H180v160Zm220 220h160v-160H400v160Zm0 220h160v-160H400v160ZM180-400h160v-160H180v160Zm440 0h160v-160H620v160ZM180-180h160v-160H180v160Zm440 0h160v-160H620v160Z\"/>\n",
              "  </svg>\n",
              "    </button>\n",
              "\n",
              "  <style>\n",
              "    .colab-df-container {\n",
              "      display:flex;\n",
              "      gap: 12px;\n",
              "    }\n",
              "\n",
              "    .colab-df-convert {\n",
              "      background-color: #E8F0FE;\n",
              "      border: none;\n",
              "      border-radius: 50%;\n",
              "      cursor: pointer;\n",
              "      display: none;\n",
              "      fill: #1967D2;\n",
              "      height: 32px;\n",
              "      padding: 0 0 0 0;\n",
              "      width: 32px;\n",
              "    }\n",
              "\n",
              "    .colab-df-convert:hover {\n",
              "      background-color: #E2EBFA;\n",
              "      box-shadow: 0px 1px 2px rgba(60, 64, 67, 0.3), 0px 1px 3px 1px rgba(60, 64, 67, 0.15);\n",
              "      fill: #174EA6;\n",
              "    }\n",
              "\n",
              "    .colab-df-buttons div {\n",
              "      margin-bottom: 4px;\n",
              "    }\n",
              "\n",
              "    [theme=dark] .colab-df-convert {\n",
              "      background-color: #3B4455;\n",
              "      fill: #D2E3FC;\n",
              "    }\n",
              "\n",
              "    [theme=dark] .colab-df-convert:hover {\n",
              "      background-color: #434B5C;\n",
              "      box-shadow: 0px 1px 3px 1px rgba(0, 0, 0, 0.15);\n",
              "      filter: drop-shadow(0px 1px 2px rgba(0, 0, 0, 0.3));\n",
              "      fill: #FFFFFF;\n",
              "    }\n",
              "  </style>\n",
              "\n",
              "    <script>\n",
              "      const buttonEl =\n",
              "        document.querySelector('#df-469d2ed5-5c97-4044-ac63-9591b3a7107e button.colab-df-convert');\n",
              "      buttonEl.style.display =\n",
              "        google.colab.kernel.accessAllowed ? 'block' : 'none';\n",
              "\n",
              "      async function convertToInteractive(key) {\n",
              "        const element = document.querySelector('#df-469d2ed5-5c97-4044-ac63-9591b3a7107e');\n",
              "        const dataTable =\n",
              "          await google.colab.kernel.invokeFunction('convertToInteractive',\n",
              "                                                    [key], {});\n",
              "        if (!dataTable) return;\n",
              "\n",
              "        const docLinkHtml = 'Like what you see? Visit the ' +\n",
              "          '<a target=\"_blank\" href=https://colab.research.google.com/notebooks/data_table.ipynb>data table notebook</a>'\n",
              "          + ' to learn more about interactive tables.';\n",
              "        element.innerHTML = '';\n",
              "        dataTable['output_type'] = 'display_data';\n",
              "        await google.colab.output.renderOutput(dataTable, element);\n",
              "        const docLink = document.createElement('div');\n",
              "        docLink.innerHTML = docLinkHtml;\n",
              "        element.appendChild(docLink);\n",
              "      }\n",
              "    </script>\n",
              "  </div>\n",
              "\n",
              "\n",
              "    <div id=\"df-f908f8be-730b-40e3-8461-73c6c71c688d\">\n",
              "      <button class=\"colab-df-quickchart\" onclick=\"quickchart('df-f908f8be-730b-40e3-8461-73c6c71c688d')\"\n",
              "                title=\"Suggest charts\"\n",
              "                style=\"display:none;\">\n",
              "\n",
              "<svg xmlns=\"http://www.w3.org/2000/svg\" height=\"24px\"viewBox=\"0 0 24 24\"\n",
              "     width=\"24px\">\n",
              "    <g>\n",
              "        <path d=\"M19 3H5c-1.1 0-2 .9-2 2v14c0 1.1.9 2 2 2h14c1.1 0 2-.9 2-2V5c0-1.1-.9-2-2-2zM9 17H7v-7h2v7zm4 0h-2V7h2v10zm4 0h-2v-4h2v4z\"/>\n",
              "    </g>\n",
              "</svg>\n",
              "      </button>\n",
              "\n",
              "<style>\n",
              "  .colab-df-quickchart {\n",
              "      --bg-color: #E8F0FE;\n",
              "      --fill-color: #1967D2;\n",
              "      --hover-bg-color: #E2EBFA;\n",
              "      --hover-fill-color: #174EA6;\n",
              "      --disabled-fill-color: #AAA;\n",
              "      --disabled-bg-color: #DDD;\n",
              "  }\n",
              "\n",
              "  [theme=dark] .colab-df-quickchart {\n",
              "      --bg-color: #3B4455;\n",
              "      --fill-color: #D2E3FC;\n",
              "      --hover-bg-color: #434B5C;\n",
              "      --hover-fill-color: #FFFFFF;\n",
              "      --disabled-bg-color: #3B4455;\n",
              "      --disabled-fill-color: #666;\n",
              "  }\n",
              "\n",
              "  .colab-df-quickchart {\n",
              "    background-color: var(--bg-color);\n",
              "    border: none;\n",
              "    border-radius: 50%;\n",
              "    cursor: pointer;\n",
              "    display: none;\n",
              "    fill: var(--fill-color);\n",
              "    height: 32px;\n",
              "    padding: 0;\n",
              "    width: 32px;\n",
              "  }\n",
              "\n",
              "  .colab-df-quickchart:hover {\n",
              "    background-color: var(--hover-bg-color);\n",
              "    box-shadow: 0 1px 2px rgba(60, 64, 67, 0.3), 0 1px 3px 1px rgba(60, 64, 67, 0.15);\n",
              "    fill: var(--button-hover-fill-color);\n",
              "  }\n",
              "\n",
              "  .colab-df-quickchart-complete:disabled,\n",
              "  .colab-df-quickchart-complete:disabled:hover {\n",
              "    background-color: var(--disabled-bg-color);\n",
              "    fill: var(--disabled-fill-color);\n",
              "    box-shadow: none;\n",
              "  }\n",
              "\n",
              "  .colab-df-spinner {\n",
              "    border: 2px solid var(--fill-color);\n",
              "    border-color: transparent;\n",
              "    border-bottom-color: var(--fill-color);\n",
              "    animation:\n",
              "      spin 1s steps(1) infinite;\n",
              "  }\n",
              "\n",
              "  @keyframes spin {\n",
              "    0% {\n",
              "      border-color: transparent;\n",
              "      border-bottom-color: var(--fill-color);\n",
              "      border-left-color: var(--fill-color);\n",
              "    }\n",
              "    20% {\n",
              "      border-color: transparent;\n",
              "      border-left-color: var(--fill-color);\n",
              "      border-top-color: var(--fill-color);\n",
              "    }\n",
              "    30% {\n",
              "      border-color: transparent;\n",
              "      border-left-color: var(--fill-color);\n",
              "      border-top-color: var(--fill-color);\n",
              "      border-right-color: var(--fill-color);\n",
              "    }\n",
              "    40% {\n",
              "      border-color: transparent;\n",
              "      border-right-color: var(--fill-color);\n",
              "      border-top-color: var(--fill-color);\n",
              "    }\n",
              "    60% {\n",
              "      border-color: transparent;\n",
              "      border-right-color: var(--fill-color);\n",
              "    }\n",
              "    80% {\n",
              "      border-color: transparent;\n",
              "      border-right-color: var(--fill-color);\n",
              "      border-bottom-color: var(--fill-color);\n",
              "    }\n",
              "    90% {\n",
              "      border-color: transparent;\n",
              "      border-bottom-color: var(--fill-color);\n",
              "    }\n",
              "  }\n",
              "</style>\n",
              "\n",
              "      <script>\n",
              "        async function quickchart(key) {\n",
              "          const quickchartButtonEl =\n",
              "            document.querySelector('#' + key + ' button');\n",
              "          quickchartButtonEl.disabled = true;  // To prevent multiple clicks.\n",
              "          quickchartButtonEl.classList.add('colab-df-spinner');\n",
              "          try {\n",
              "            const charts = await google.colab.kernel.invokeFunction(\n",
              "                'suggestCharts', [key], {});\n",
              "          } catch (error) {\n",
              "            console.error('Error during call to suggestCharts:', error);\n",
              "          }\n",
              "          quickchartButtonEl.classList.remove('colab-df-spinner');\n",
              "          quickchartButtonEl.classList.add('colab-df-quickchart-complete');\n",
              "        }\n",
              "        (() => {\n",
              "          let quickchartButtonEl =\n",
              "            document.querySelector('#df-f908f8be-730b-40e3-8461-73c6c71c688d button');\n",
              "          quickchartButtonEl.style.display =\n",
              "            google.colab.kernel.accessAllowed ? 'block' : 'none';\n",
              "        })();\n",
              "      </script>\n",
              "    </div>\n",
              "\n",
              "    </div>\n",
              "  </div>\n"
            ],
            "application/vnd.google.colaboratory.intrinsic+json": {
              "type": "dataframe",
              "summary": "{\n  \"name\": \"print(f'Total de linhas: {df\",\n  \"rows\": 5,\n  \"fields\": [\n    {\n      \"column\": \"genero\",\n      \"properties\": {\n        \"dtype\": \"number\",\n        \"std\": 0,\n        \"min\": 0,\n        \"max\": 1,\n        \"num_unique_values\": 2,\n        \"samples\": [\n          1,\n          0\n        ],\n        \"semantic_type\": \"\",\n        \"description\": \"\"\n      }\n    },\n    {\n      \"column\": \"idade\",\n      \"properties\": {\n        \"dtype\": \"number\",\n        \"std\": 2.4899799195977463,\n        \"min\": 21.0,\n        \"max\": 27.0,\n        \"num_unique_values\": 4,\n        \"samples\": [\n          23.0,\n          22.0\n        ],\n        \"semantic_type\": \"\",\n        \"description\": \"\"\n      }\n    },\n    {\n      \"column\": \"altura\",\n      \"properties\": {\n        \"dtype\": \"number\",\n        \"std\": 0.12759310326189263,\n        \"min\": 1.52,\n        \"max\": 1.8,\n        \"num_unique_values\": 4,\n        \"samples\": [\n          1.52,\n          1.78\n        ],\n        \"semantic_type\": \"\",\n        \"description\": \"\"\n      }\n    },\n    {\n      \"column\": \"peso\",\n      \"properties\": {\n        \"dtype\": \"number\",\n        \"std\": 14.566674294429735,\n        \"min\": 56.0,\n        \"max\": 89.8,\n        \"num_unique_values\": 5,\n        \"samples\": [\n          56.0,\n          89.8\n        ],\n        \"semantic_type\": \"\",\n        \"description\": \"\"\n      }\n    },\n    {\n      \"column\": \"historico_familiar\",\n      \"properties\": {\n        \"dtype\": \"number\",\n        \"std\": 0,\n        \"min\": 0,\n        \"max\": 1,\n        \"num_unique_values\": 2,\n        \"samples\": [\n          0,\n          1\n        ],\n        \"semantic_type\": \"\",\n        \"description\": \"\"\n      }\n    },\n    {\n      \"column\": \"favc\",\n      \"properties\": {\n        \"dtype\": \"number\",\n        \"std\": 0,\n        \"min\": 0,\n        \"max\": 0,\n        \"num_unique_values\": 1,\n        \"samples\": [\n          0\n        ],\n        \"semantic_type\": \"\",\n        \"description\": \"\"\n      }\n    },\n    {\n      \"column\": \"fcvc\",\n      \"properties\": {\n        \"dtype\": \"number\",\n        \"std\": 0.5477225575051661,\n        \"min\": 2.0,\n        \"max\": 3.0,\n        \"num_unique_values\": 2,\n        \"samples\": [\n          3.0\n        ],\n        \"semantic_type\": \"\",\n        \"description\": \"\"\n      }\n    },\n    {\n      \"column\": \"ncp\",\n      \"properties\": {\n        \"dtype\": \"number\",\n        \"std\": 0.8944271909999159,\n        \"min\": 1.0,\n        \"max\": 3.0,\n        \"num_unique_values\": 2,\n        \"samples\": [\n          1.0\n        ],\n        \"semantic_type\": \"\",\n        \"description\": \"\"\n      }\n    },\n    {\n      \"column\": \"caec\",\n      \"properties\": {\n        \"dtype\": \"number\",\n        \"std\": 0,\n        \"min\": 1,\n        \"max\": 1,\n        \"num_unique_values\": 1,\n        \"samples\": [\n          1\n        ],\n        \"semantic_type\": \"\",\n        \"description\": \"\"\n      }\n    },\n    {\n      \"column\": \"fumante\",\n      \"properties\": {\n        \"dtype\": \"number\",\n        \"std\": 0,\n        \"min\": 0,\n        \"max\": 1,\n        \"num_unique_values\": 2,\n        \"samples\": [\n          1\n        ],\n        \"semantic_type\": \"\",\n        \"description\": \"\"\n      }\n    },\n    {\n      \"column\": \"ch20\",\n      \"properties\": {\n        \"dtype\": \"number\",\n        \"std\": 0.44721359549995787,\n        \"min\": 2.0,\n        \"max\": 3.0,\n        \"num_unique_values\": 2,\n        \"samples\": [\n          3.0\n        ],\n        \"semantic_type\": \"\",\n        \"description\": \"\"\n      }\n    },\n    {\n      \"column\": \"scc\",\n      \"properties\": {\n        \"dtype\": \"number\",\n        \"std\": 0,\n        \"min\": 0,\n        \"max\": 1,\n        \"num_unique_values\": 2,\n        \"samples\": [\n          1\n        ],\n        \"semantic_type\": \"\",\n        \"description\": \"\"\n      }\n    },\n    {\n      \"column\": \"faf\",\n      \"properties\": {\n        \"dtype\": \"number\",\n        \"std\": 1.3416407864998738,\n        \"min\": 0.0,\n        \"max\": 3.0,\n        \"num_unique_values\": 3,\n        \"samples\": [\n          0.0\n        ],\n        \"semantic_type\": \"\",\n        \"description\": \"\"\n      }\n    },\n    {\n      \"column\": \"tue\",\n      \"properties\": {\n        \"dtype\": \"number\",\n        \"std\": 0.5477225575051662,\n        \"min\": 0.0,\n        \"max\": 1.0,\n        \"num_unique_values\": 2,\n        \"samples\": [\n          0.0\n        ],\n        \"semantic_type\": \"\",\n        \"description\": \"\"\n      }\n    },\n    {\n      \"column\": \"calc\",\n      \"properties\": {\n        \"dtype\": \"number\",\n        \"std\": 0,\n        \"min\": 0,\n        \"max\": 2,\n        \"num_unique_values\": 3,\n        \"samples\": [\n          0\n        ],\n        \"semantic_type\": \"\",\n        \"description\": \"\"\n      }\n    },\n    {\n      \"column\": \"mtrans\",\n      \"properties\": {\n        \"dtype\": \"number\",\n        \"std\": 0,\n        \"min\": 3,\n        \"max\": 4,\n        \"num_unique_values\": 2,\n        \"samples\": [\n          4\n        ],\n        \"semantic_type\": \"\",\n        \"description\": \"\"\n      }\n    },\n    {\n      \"column\": \"classificacao_peso_corporal\",\n      \"properties\": {\n        \"dtype\": \"string\",\n        \"num_unique_values\": 3,\n        \"samples\": [\n          \"peso_normal\"\n        ],\n        \"semantic_type\": \"\",\n        \"description\": \"\"\n      }\n    },\n    {\n      \"column\": \"imc\",\n      \"properties\": {\n        \"dtype\": \"number\",\n        \"std\": 1.9811032280020144,\n        \"min\": 23.77,\n        \"max\": 28.34,\n        \"num_unique_values\": 5,\n        \"samples\": [\n          24.24\n        ],\n        \"semantic_type\": \"\",\n        \"description\": \"\"\n      }\n    }\n  ]\n}"
            }
          },
          "metadata": {}
        },
        {
          "output_type": "stream",
          "name": "stdout",
          "text": [
            "Total de linhas: 2111\n",
            "Total de colunas: 18 \n"
          ]
        }
      ]
    },
    {
      "cell_type": "code",
      "source": [
        "#atualizacao da coluna imc no dicionario de dados\n",
        "atualizar_dicionario_novas_colunas(dicionario_dados_nivel_obesidade, df)\n",
        "\n",
        "descricao_imc = '''\n",
        "IMC(Indice de Massa Corporal)\n",
        "Medida internacional usada para avaliar se uma pessoa esta no seu peso ideal em relacao a sua altura.\n",
        "Indicador simples da OMS que ajuda a identificar quadros de magreza, peso normal,sobrepeso ou obesidade.\n",
        "Calculo: imc = peso/(altura*altura)\n",
        "'''\n",
        "\n",
        "atualizar_campo_dicionario(dicionario_dados_nivel_obesidade, 'imc', 'descricao', descricao_imc)"
      ],
      "metadata": {
        "colab": {
          "base_uri": "https://localhost:8080/"
        },
        "id": "Xmt4KW8y2G3P",
        "outputId": "10368f70-89ec-466d-c4dc-aba67377e98b"
      },
      "execution_count": 323,
      "outputs": [
        {
          "output_type": "stream",
          "name": "stdout",
          "text": [
            "Iniciando a atualização do dicionário de dados com novas colunas...\n",
            "Adicionada nova coluna 'imc' ao dicionário de dados.\n",
            "Dicionário de dados atualizado com novas colunas.\n",
            "Campo 'descricao' da coluna 'imc' atualizado para: '\n",
            "IMC(Indice de Massa Corporal)\n",
            "Medida internacional usada para avaliar se uma pessoa esta no seu peso ideal em relacao a sua altura.\n",
            "Indicador simples da OMS que ajuda a identificar quadros de magreza, peso normal,sobrepeso ou obesidade.\n",
            "Calculo: imc = peso/(altura*altura)\n",
            "'\n"
          ]
        }
      ]
    },
    {
      "cell_type": "markdown",
      "source": [
        "## **Criacão de coluna de classificação para IMC**"
      ],
      "metadata": {
        "id": "K1OVSY6ib-Uv"
      }
    },
    {
      "cell_type": "markdown",
      "source": [
        "O intuito dessa coluna é verificar se existe diferença entre o padrao de classificação da OMS e da variável classificação peso corporal."
      ],
      "metadata": {
        "id": "6SYZls92Q-4q"
      }
    },
    {
      "cell_type": "code",
      "source": [
        "config_classificacao_imc = {\n",
        "    \"bins\": [0, 18.50, 25, 30, 35, 40, np.inf],\n",
        "    \"labels\": ['abaixo_do_peso', 'peso_normal', 'sobrepeso', 'obesidade_grau_1', 'obesidade_grau_2', 'obesidade_grau_3'],\n",
        "    \"right\": False,  # Incluir o limite inferior, excluir o superior\n",
        "    \"include_lowest\": True # Incluir o menor valor\n",
        "}\n",
        "\n",
        "classificar_coluna_por_config(df, 'imc', 'classificacao_imc', config_classificacao_imc)\n",
        "\n",
        "# Atualizar o dicionario de dados com a nova coluna 'classificacao_imc'\n",
        "atualizar_dicionario_novas_colunas(dicionario_dados_nivel_obesidade, df)\n",
        "\n",
        "# Adicionar a descrição para a nova coluna no dicionário de dados\n",
        "descricao_classificacao_imc = '''\n",
        "Classificação do IMC baseada nas faixas de valores:\n",
        "- abaixo_do_peso: IMC < 18.50\n",
        "- peso_normal: IMC >= 18.50 e IMC < 25\n",
        "- sobrepeso: IMC >= 25 e IMC < 30\n",
        "- obesidade_grau_1: IMC >= 30 e IMC < 35\n",
        "- obesidade_grau_2: IMC >= 35 e IMC < 40\n",
        "- obesidade_grau_3: IMC >= 40\n",
        "'''\n",
        "atualizar_campo_dicionario(dicionario_dados_nivel_obesidade, 'classificacao_imc', 'descricao', descricao_classificacao_imc)\n",
        "\n"
      ],
      "metadata": {
        "colab": {
          "base_uri": "https://localhost:8080/",
          "height": 0
        },
        "id": "cSmSqHa6ppVg",
        "outputId": "47982f37-8795-497b-d75a-e95d71ae2c01"
      },
      "execution_count": 324,
      "outputs": [
        {
          "output_type": "stream",
          "name": "stdout",
          "text": [
            "Coluna 'imc' classificada com sucesso na nova coluna 'classificacao_imc'.\n",
            "\n",
            "Contagem de valores para a nova coluna 'classificacao_imc':\n"
          ]
        },
        {
          "output_type": "display_data",
          "data": {
            "text/plain": [
              "classificacao_imc\n",
              "sobrepeso           566\n",
              "obesidade_grau_1    368\n",
              "obesidade_grau_2    338\n",
              "peso_normal         301\n",
              "abaixo_do_peso      270\n",
              "obesidade_grau_3    268\n",
              "Name: count, dtype: int64"
            ],
            "text/html": [
              "<div>\n",
              "<style scoped>\n",
              "    .dataframe tbody tr th:only-of-type {\n",
              "        vertical-align: middle;\n",
              "    }\n",
              "\n",
              "    .dataframe tbody tr th {\n",
              "        vertical-align: top;\n",
              "    }\n",
              "\n",
              "    .dataframe thead th {\n",
              "        text-align: right;\n",
              "    }\n",
              "</style>\n",
              "<table border=\"1\" class=\"dataframe\">\n",
              "  <thead>\n",
              "    <tr style=\"text-align: right;\">\n",
              "      <th></th>\n",
              "      <th>count</th>\n",
              "    </tr>\n",
              "    <tr>\n",
              "      <th>classificacao_imc</th>\n",
              "      <th></th>\n",
              "    </tr>\n",
              "  </thead>\n",
              "  <tbody>\n",
              "    <tr>\n",
              "      <th>sobrepeso</th>\n",
              "      <td>566</td>\n",
              "    </tr>\n",
              "    <tr>\n",
              "      <th>obesidade_grau_1</th>\n",
              "      <td>368</td>\n",
              "    </tr>\n",
              "    <tr>\n",
              "      <th>obesidade_grau_2</th>\n",
              "      <td>338</td>\n",
              "    </tr>\n",
              "    <tr>\n",
              "      <th>peso_normal</th>\n",
              "      <td>301</td>\n",
              "    </tr>\n",
              "    <tr>\n",
              "      <th>abaixo_do_peso</th>\n",
              "      <td>270</td>\n",
              "    </tr>\n",
              "    <tr>\n",
              "      <th>obesidade_grau_3</th>\n",
              "      <td>268</td>\n",
              "    </tr>\n",
              "  </tbody>\n",
              "</table>\n",
              "</div><br><label><b>dtype:</b> int64</label>"
            ]
          },
          "metadata": {}
        },
        {
          "output_type": "stream",
          "name": "stdout",
          "text": [
            "Iniciando a atualização do dicionário de dados com novas colunas...\n",
            "Coluna 'imc' já existe no dicionário de dados.\n",
            "Adicionada nova coluna 'classificacao_imc' ao dicionário de dados.\n",
            "Dicionário de dados atualizado com novas colunas.\n",
            "Campo 'descricao' da coluna 'classificacao_imc' atualizado para: '\n",
            "Classificação do IMC baseada nas faixas de valores:\n",
            "- abaixo_do_peso: IMC < 18.50\n",
            "- peso_normal: IMC >= 18.50 e IMC < 25\n",
            "- sobrepeso: IMC >= 25 e IMC < 30\n",
            "- obesidade_grau_1: IMC >= 30 e IMC < 35\n",
            "- obesidade_grau_2: IMC >= 35 e IMC < 40\n",
            "- obesidade_grau_3: IMC >= 40\n",
            "'\n"
          ]
        }
      ]
    },
    {
      "cell_type": "markdown",
      "source": [
        "# **Geracao de arquivos transformados**"
      ],
      "metadata": {
        "id": "pxFcxAY7Ys8d"
      }
    },
    {
      "cell_type": "markdown",
      "source": [
        "## **Arquivo CSV após transformção**"
      ],
      "metadata": {
        "id": "wNrw1016YyYJ"
      }
    },
    {
      "cell_type": "code",
      "source": [
        "criar_csv_de_dataframe(df, 'obesidade.csv')"
      ],
      "metadata": {
        "colab": {
          "base_uri": "https://localhost:8080/"
        },
        "id": "ryM3cekRY84A",
        "outputId": "0a731a3b-3310-4a88-8b7b-6904d9cbf434"
      },
      "execution_count": 325,
      "outputs": [
        {
          "output_type": "stream",
          "name": "stdout",
          "text": [
            "DataFrame salvo com sucesso em 'obesidade.csv'\n"
          ]
        }
      ]
    },
    {
      "cell_type": "markdown",
      "source": [
        "## **Arquivo de dicionário de dados**"
      ],
      "metadata": {
        "id": "YTn0gL0MZIps"
      }
    },
    {
      "cell_type": "code",
      "source": [
        "criar_json_de_dicionario(dicionario_dados_nivel_obesidade, 'dicionario_dados_tech_challenge_4.json')"
      ],
      "metadata": {
        "colab": {
          "base_uri": "https://localhost:8080/"
        },
        "id": "OojB7j9SZNjT",
        "outputId": "657fbb16-f97d-42b7-879f-e549ad7afa09"
      },
      "execution_count": 326,
      "outputs": [
        {
          "output_type": "stream",
          "name": "stdout",
          "text": [
            "Dicionário salvo com sucesso em 'dicionario_dados_tech_challenge_4.json'\n"
          ]
        }
      ]
    },
    {
      "cell_type": "markdown",
      "source": [
        "# **Análise exploratória**"
      ],
      "metadata": {
        "id": "n10BkLvOJ9Rp"
      }
    },
    {
      "cell_type": "code",
      "source": [
        "# Definir a ordem desejada para as categorias de classificacao_peso_corporal\n",
        "ordem_classificao_peso_corporal = [\n",
        "    'peso_insuficiente',\n",
        "    'peso_normal',\n",
        "    'sobrepeso_tipo_1',\n",
        "    'sobrepeso_tipo_2',\n",
        "    'obesidade_tipo_1',\n",
        "    'obesidade_tipo_2',\n",
        "    'obesidade_tipo_3'\n",
        "]"
      ],
      "metadata": {
        "id": "IqvxVHze3VE-"
      },
      "execution_count": 327,
      "outputs": []
    },
    {
      "cell_type": "markdown",
      "source": [
        "### **Quantidade de ocorrências variável classificacao_peso_corporal**"
      ],
      "metadata": {
        "id": "RHzxeuPGKDxb"
      }
    },
    {
      "cell_type": "code",
      "source": [
        "# Calcular a contagem de cada nível de obesidade\n",
        "nivel_obesidade_contagem = df['classificacao_peso_corporal'].value_counts().reset_index()\n",
        "nivel_obesidade_contagem.columns = ['classificacao_peso_corporal', 'quantidade']\n",
        "\n",
        "# Reordenar o DataFrame de contagem de acordo com a ordem definida\n",
        "nivel_obesidade_contagem['classificacao_peso_corporal'] = pd.Categorical(\n",
        "    nivel_obesidade_contagem['classificacao_peso_corporal'],\n",
        "    categories=ordem_classificao_peso_corporal,\n",
        "    ordered=True\n",
        ")\n",
        "nivel_obesidade_counts = nivel_obesidade_contagem.sort_values('classificacao_peso_corporal').reset_index(drop=True)\n",
        "\n",
        "# Calcular a porcentagem\n",
        "total_linhas = df.shape[0]\n",
        "nivel_obesidade_counts['porcentagem'] = round((nivel_obesidade_counts['quantidade'] / total_linhas) * 100, 2)\n",
        "\n",
        "# Exibir o novo DataFrame\n",
        "display(nivel_obesidade_counts)"
      ],
      "metadata": {
        "colab": {
          "base_uri": "https://localhost:8080/",
          "height": 0
        },
        "id": "p2fR_l1JSfk-",
        "outputId": "8f4d77be-5f98-49ed-e001-26435354efdc"
      },
      "execution_count": 328,
      "outputs": [
        {
          "output_type": "display_data",
          "data": {
            "text/plain": [
              "  classificacao_peso_corporal  quantidade  porcentagem\n",
              "0           peso_insuficiente         272        12.88\n",
              "1                 peso_normal         287        13.60\n",
              "2            sobrepeso_tipo_1         290        13.74\n",
              "3            sobrepeso_tipo_2         290        13.74\n",
              "4            obesidade_tipo_1         351        16.63\n",
              "5            obesidade_tipo_2         297        14.07\n",
              "6            obesidade_tipo_3         324        15.35"
            ],
            "text/html": [
              "\n",
              "  <div id=\"df-dbf7955b-6900-4371-9e62-8cefd5f383fb\" class=\"colab-df-container\">\n",
              "    <div>\n",
              "<style scoped>\n",
              "    .dataframe tbody tr th:only-of-type {\n",
              "        vertical-align: middle;\n",
              "    }\n",
              "\n",
              "    .dataframe tbody tr th {\n",
              "        vertical-align: top;\n",
              "    }\n",
              "\n",
              "    .dataframe thead th {\n",
              "        text-align: right;\n",
              "    }\n",
              "</style>\n",
              "<table border=\"1\" class=\"dataframe\">\n",
              "  <thead>\n",
              "    <tr style=\"text-align: right;\">\n",
              "      <th></th>\n",
              "      <th>classificacao_peso_corporal</th>\n",
              "      <th>quantidade</th>\n",
              "      <th>porcentagem</th>\n",
              "    </tr>\n",
              "  </thead>\n",
              "  <tbody>\n",
              "    <tr>\n",
              "      <th>0</th>\n",
              "      <td>peso_insuficiente</td>\n",
              "      <td>272</td>\n",
              "      <td>12.88</td>\n",
              "    </tr>\n",
              "    <tr>\n",
              "      <th>1</th>\n",
              "      <td>peso_normal</td>\n",
              "      <td>287</td>\n",
              "      <td>13.60</td>\n",
              "    </tr>\n",
              "    <tr>\n",
              "      <th>2</th>\n",
              "      <td>sobrepeso_tipo_1</td>\n",
              "      <td>290</td>\n",
              "      <td>13.74</td>\n",
              "    </tr>\n",
              "    <tr>\n",
              "      <th>3</th>\n",
              "      <td>sobrepeso_tipo_2</td>\n",
              "      <td>290</td>\n",
              "      <td>13.74</td>\n",
              "    </tr>\n",
              "    <tr>\n",
              "      <th>4</th>\n",
              "      <td>obesidade_tipo_1</td>\n",
              "      <td>351</td>\n",
              "      <td>16.63</td>\n",
              "    </tr>\n",
              "    <tr>\n",
              "      <th>5</th>\n",
              "      <td>obesidade_tipo_2</td>\n",
              "      <td>297</td>\n",
              "      <td>14.07</td>\n",
              "    </tr>\n",
              "    <tr>\n",
              "      <th>6</th>\n",
              "      <td>obesidade_tipo_3</td>\n",
              "      <td>324</td>\n",
              "      <td>15.35</td>\n",
              "    </tr>\n",
              "  </tbody>\n",
              "</table>\n",
              "</div>\n",
              "    <div class=\"colab-df-buttons\">\n",
              "\n",
              "  <div class=\"colab-df-container\">\n",
              "    <button class=\"colab-df-convert\" onclick=\"convertToInteractive('df-dbf7955b-6900-4371-9e62-8cefd5f383fb')\"\n",
              "            title=\"Convert this dataframe to an interactive table.\"\n",
              "            style=\"display:none;\">\n",
              "\n",
              "  <svg xmlns=\"http://www.w3.org/2000/svg\" height=\"24px\" viewBox=\"0 -960 960 960\">\n",
              "    <path d=\"M120-120v-720h720v720H120Zm60-500h600v-160H180v160Zm220 220h160v-160H400v160Zm0 220h160v-160H400v160ZM180-400h160v-160H180v160Zm440 0h160v-160H620v160ZM180-180h160v-160H180v160Zm440 0h160v-160H620v160Z\"/>\n",
              "  </svg>\n",
              "    </button>\n",
              "\n",
              "  <style>\n",
              "    .colab-df-container {\n",
              "      display:flex;\n",
              "      gap: 12px;\n",
              "    }\n",
              "\n",
              "    .colab-df-convert {\n",
              "      background-color: #E8F0FE;\n",
              "      border: none;\n",
              "      border-radius: 50%;\n",
              "      cursor: pointer;\n",
              "      display: none;\n",
              "      fill: #1967D2;\n",
              "      height: 32px;\n",
              "      padding: 0 0 0 0;\n",
              "      width: 32px;\n",
              "    }\n",
              "\n",
              "    .colab-df-convert:hover {\n",
              "      background-color: #E2EBFA;\n",
              "      box-shadow: 0px 1px 2px rgba(60, 64, 67, 0.3), 0px 1px 3px 1px rgba(60, 64, 67, 0.15);\n",
              "      fill: #174EA6;\n",
              "    }\n",
              "\n",
              "    .colab-df-buttons div {\n",
              "      margin-bottom: 4px;\n",
              "    }\n",
              "\n",
              "    [theme=dark] .colab-df-convert {\n",
              "      background-color: #3B4455;\n",
              "      fill: #D2E3FC;\n",
              "    }\n",
              "\n",
              "    [theme=dark] .colab-df-convert:hover {\n",
              "      background-color: #434B5C;\n",
              "      box-shadow: 0px 1px 3px 1px rgba(0, 0, 0, 0.15);\n",
              "      filter: drop-shadow(0px 1px 2px rgba(0, 0, 0, 0.3));\n",
              "      fill: #FFFFFF;\n",
              "    }\n",
              "  </style>\n",
              "\n",
              "    <script>\n",
              "      const buttonEl =\n",
              "        document.querySelector('#df-dbf7955b-6900-4371-9e62-8cefd5f383fb button.colab-df-convert');\n",
              "      buttonEl.style.display =\n",
              "        google.colab.kernel.accessAllowed ? 'block' : 'none';\n",
              "\n",
              "      async function convertToInteractive(key) {\n",
              "        const element = document.querySelector('#df-dbf7955b-6900-4371-9e62-8cefd5f383fb');\n",
              "        const dataTable =\n",
              "          await google.colab.kernel.invokeFunction('convertToInteractive',\n",
              "                                                    [key], {});\n",
              "        if (!dataTable) return;\n",
              "\n",
              "        const docLinkHtml = 'Like what you see? Visit the ' +\n",
              "          '<a target=\"_blank\" href=https://colab.research.google.com/notebooks/data_table.ipynb>data table notebook</a>'\n",
              "          + ' to learn more about interactive tables.';\n",
              "        element.innerHTML = '';\n",
              "        dataTable['output_type'] = 'display_data';\n",
              "        await google.colab.output.renderOutput(dataTable, element);\n",
              "        const docLink = document.createElement('div');\n",
              "        docLink.innerHTML = docLinkHtml;\n",
              "        element.appendChild(docLink);\n",
              "      }\n",
              "    </script>\n",
              "  </div>\n",
              "\n",
              "\n",
              "    <div id=\"df-09c69683-cb8a-4bcb-8667-74c6c380d0c9\">\n",
              "      <button class=\"colab-df-quickchart\" onclick=\"quickchart('df-09c69683-cb8a-4bcb-8667-74c6c380d0c9')\"\n",
              "                title=\"Suggest charts\"\n",
              "                style=\"display:none;\">\n",
              "\n",
              "<svg xmlns=\"http://www.w3.org/2000/svg\" height=\"24px\"viewBox=\"0 0 24 24\"\n",
              "     width=\"24px\">\n",
              "    <g>\n",
              "        <path d=\"M19 3H5c-1.1 0-2 .9-2 2v14c0 1.1.9 2 2 2h14c1.1 0 2-.9 2-2V5c0-1.1-.9-2-2-2zM9 17H7v-7h2v7zm4 0h-2V7h2v10zm4 0h-2v-4h2v4z\"/>\n",
              "    </g>\n",
              "</svg>\n",
              "      </button>\n",
              "\n",
              "<style>\n",
              "  .colab-df-quickchart {\n",
              "      --bg-color: #E8F0FE;\n",
              "      --fill-color: #1967D2;\n",
              "      --hover-bg-color: #E2EBFA;\n",
              "      --hover-fill-color: #174EA6;\n",
              "      --disabled-fill-color: #AAA;\n",
              "      --disabled-bg-color: #DDD;\n",
              "  }\n",
              "\n",
              "  [theme=dark] .colab-df-quickchart {\n",
              "      --bg-color: #3B4455;\n",
              "      --fill-color: #D2E3FC;\n",
              "      --hover-bg-color: #434B5C;\n",
              "      --hover-fill-color: #FFFFFF;\n",
              "      --disabled-bg-color: #3B4455;\n",
              "      --disabled-fill-color: #666;\n",
              "  }\n",
              "\n",
              "  .colab-df-quickchart {\n",
              "    background-color: var(--bg-color);\n",
              "    border: none;\n",
              "    border-radius: 50%;\n",
              "    cursor: pointer;\n",
              "    display: none;\n",
              "    fill: var(--fill-color);\n",
              "    height: 32px;\n",
              "    padding: 0;\n",
              "    width: 32px;\n",
              "  }\n",
              "\n",
              "  .colab-df-quickchart:hover {\n",
              "    background-color: var(--hover-bg-color);\n",
              "    box-shadow: 0 1px 2px rgba(60, 64, 67, 0.3), 0 1px 3px 1px rgba(60, 64, 67, 0.15);\n",
              "    fill: var(--button-hover-fill-color);\n",
              "  }\n",
              "\n",
              "  .colab-df-quickchart-complete:disabled,\n",
              "  .colab-df-quickchart-complete:disabled:hover {\n",
              "    background-color: var(--disabled-bg-color);\n",
              "    fill: var(--disabled-fill-color);\n",
              "    box-shadow: none;\n",
              "  }\n",
              "\n",
              "  .colab-df-spinner {\n",
              "    border: 2px solid var(--fill-color);\n",
              "    border-color: transparent;\n",
              "    border-bottom-color: var(--fill-color);\n",
              "    animation:\n",
              "      spin 1s steps(1) infinite;\n",
              "  }\n",
              "\n",
              "  @keyframes spin {\n",
              "    0% {\n",
              "      border-color: transparent;\n",
              "      border-bottom-color: var(--fill-color);\n",
              "      border-left-color: var(--fill-color);\n",
              "    }\n",
              "    20% {\n",
              "      border-color: transparent;\n",
              "      border-left-color: var(--fill-color);\n",
              "      border-top-color: var(--fill-color);\n",
              "    }\n",
              "    30% {\n",
              "      border-color: transparent;\n",
              "      border-left-color: var(--fill-color);\n",
              "      border-top-color: var(--fill-color);\n",
              "      border-right-color: var(--fill-color);\n",
              "    }\n",
              "    40% {\n",
              "      border-color: transparent;\n",
              "      border-right-color: var(--fill-color);\n",
              "      border-top-color: var(--fill-color);\n",
              "    }\n",
              "    60% {\n",
              "      border-color: transparent;\n",
              "      border-right-color: var(--fill-color);\n",
              "    }\n",
              "    80% {\n",
              "      border-color: transparent;\n",
              "      border-right-color: var(--fill-color);\n",
              "      border-bottom-color: var(--fill-color);\n",
              "    }\n",
              "    90% {\n",
              "      border-color: transparent;\n",
              "      border-bottom-color: var(--fill-color);\n",
              "    }\n",
              "  }\n",
              "</style>\n",
              "\n",
              "      <script>\n",
              "        async function quickchart(key) {\n",
              "          const quickchartButtonEl =\n",
              "            document.querySelector('#' + key + ' button');\n",
              "          quickchartButtonEl.disabled = true;  // To prevent multiple clicks.\n",
              "          quickchartButtonEl.classList.add('colab-df-spinner');\n",
              "          try {\n",
              "            const charts = await google.colab.kernel.invokeFunction(\n",
              "                'suggestCharts', [key], {});\n",
              "          } catch (error) {\n",
              "            console.error('Error during call to suggestCharts:', error);\n",
              "          }\n",
              "          quickchartButtonEl.classList.remove('colab-df-spinner');\n",
              "          quickchartButtonEl.classList.add('colab-df-quickchart-complete');\n",
              "        }\n",
              "        (() => {\n",
              "          let quickchartButtonEl =\n",
              "            document.querySelector('#df-09c69683-cb8a-4bcb-8667-74c6c380d0c9 button');\n",
              "          quickchartButtonEl.style.display =\n",
              "            google.colab.kernel.accessAllowed ? 'block' : 'none';\n",
              "        })();\n",
              "      </script>\n",
              "    </div>\n",
              "\n",
              "  <div id=\"id_04c05ec2-4051-4b9c-87cb-168468624cdc\">\n",
              "    <style>\n",
              "      .colab-df-generate {\n",
              "        background-color: #E8F0FE;\n",
              "        border: none;\n",
              "        border-radius: 50%;\n",
              "        cursor: pointer;\n",
              "        display: none;\n",
              "        fill: #1967D2;\n",
              "        height: 32px;\n",
              "        padding: 0 0 0 0;\n",
              "        width: 32px;\n",
              "      }\n",
              "\n",
              "      .colab-df-generate:hover {\n",
              "        background-color: #E2EBFA;\n",
              "        box-shadow: 0px 1px 2px rgba(60, 64, 67, 0.3), 0px 1px 3px 1px rgba(60, 64, 67, 0.15);\n",
              "        fill: #174EA6;\n",
              "      }\n",
              "\n",
              "      [theme=dark] .colab-df-generate {\n",
              "        background-color: #3B4455;\n",
              "        fill: #D2E3FC;\n",
              "      }\n",
              "\n",
              "      [theme=dark] .colab-df-generate:hover {\n",
              "        background-color: #434B5C;\n",
              "        box-shadow: 0px 1px 3px 1px rgba(0, 0, 0, 0.15);\n",
              "        filter: drop-shadow(0px 1px 2px rgba(0, 0, 0, 0.3));\n",
              "        fill: #FFFFFF;\n",
              "      }\n",
              "    </style>\n",
              "    <button class=\"colab-df-generate\" onclick=\"generateWithVariable('nivel_obesidade_counts')\"\n",
              "            title=\"Generate code using this dataframe.\"\n",
              "            style=\"display:none;\">\n",
              "\n",
              "  <svg xmlns=\"http://www.w3.org/2000/svg\" height=\"24px\"viewBox=\"0 0 24 24\"\n",
              "       width=\"24px\">\n",
              "    <path d=\"M7,19H8.4L18.45,9,17,7.55,7,17.6ZM5,21V16.75L18.45,3.32a2,2,0,0,1,2.83,0l1.4,1.43a1.91,1.91,0,0,1,.58,1.4,1.91,1.91,0,0,1-.58,1.4L9.25,21ZM18.45,9,17,7.55Zm-12,3A5.31,5.31,0,0,0,4.9,8.1,5.31,5.31,0,0,0,1,6.5,5.31,5.31,0,0,0,4.9,4.9,5.31,5.31,0,0,0,6.5,1,5.31,5.31,0,0,0,8.1,4.9,5.31,5.31,0,0,0,12,6.5,5.46,5.46,0,0,0,6.5,12Z\"/>\n",
              "  </svg>\n",
              "    </button>\n",
              "    <script>\n",
              "      (() => {\n",
              "      const buttonEl =\n",
              "        document.querySelector('#id_04c05ec2-4051-4b9c-87cb-168468624cdc button.colab-df-generate');\n",
              "      buttonEl.style.display =\n",
              "        google.colab.kernel.accessAllowed ? 'block' : 'none';\n",
              "\n",
              "      buttonEl.onclick = () => {\n",
              "        google.colab.notebook.generateWithVariable('nivel_obesidade_counts');\n",
              "      }\n",
              "      })();\n",
              "    </script>\n",
              "  </div>\n",
              "\n",
              "    </div>\n",
              "  </div>\n"
            ],
            "application/vnd.google.colaboratory.intrinsic+json": {
              "type": "dataframe",
              "variable_name": "nivel_obesidade_counts",
              "summary": "{\n  \"name\": \"nivel_obesidade_counts\",\n  \"rows\": 7,\n  \"fields\": [\n    {\n      \"column\": \"classificacao_peso_corporal\",\n      \"properties\": {\n        \"dtype\": \"category\",\n        \"num_unique_values\": 7,\n        \"samples\": [\n          \"peso_insuficiente\",\n          \"peso_normal\",\n          \"obesidade_tipo_2\"\n        ],\n        \"semantic_type\": \"\",\n        \"description\": \"\"\n      }\n    },\n    {\n      \"column\": \"quantidade\",\n      \"properties\": {\n        \"dtype\": \"number\",\n        \"std\": 26,\n        \"min\": 272,\n        \"max\": 351,\n        \"num_unique_values\": 6,\n        \"samples\": [\n          272,\n          287,\n          324\n        ],\n        \"semantic_type\": \"\",\n        \"description\": \"\"\n      }\n    },\n    {\n      \"column\": \"porcentagem\",\n      \"properties\": {\n        \"dtype\": \"number\",\n        \"std\": 1.2725789338414892,\n        \"min\": 12.88,\n        \"max\": 16.63,\n        \"num_unique_values\": 6,\n        \"samples\": [\n          12.88,\n          13.6,\n          15.35\n        ],\n        \"semantic_type\": \"\",\n        \"description\": \"\"\n      }\n    }\n  ]\n}"
            }
          },
          "metadata": {}
        }
      ]
    },
    {
      "cell_type": "code",
      "source": [
        "titulo_histograma_classificacao_peso_corporal = 'Distribuição da variável classificao_peso_corporal no dataset classificacao_peso_corporal'\n",
        "histograma_classificacao_peso_corporal = gera_histograma(df, 'classificacao_peso_corporal', titulo_histograma_classificacao_peso_corporal)"
      ],
      "metadata": {
        "colab": {
          "base_uri": "https://localhost:8080/",
          "height": 0
        },
        "id": "Ob9VMafbYFxy",
        "outputId": "98cda0e9-8fd6-4353-c3d2-37727a8c03ea"
      },
      "execution_count": 329,
      "outputs": [
        {
          "output_type": "display_data",
          "data": {
            "text/plain": [
              "<Figure size 1000x600 with 1 Axes>"
            ],
            "image/png": "[encoded data removed]"
          },
          "metadata": {}
        }
      ]
    },
    {
      "cell_type": "markdown",
      "source": [
        "### **nivel_obesidade por genero**"
      ],
      "metadata": {
        "id": "gH_eMFQTagNk"
      }
    },
    {
      "cell_type": "code",
      "source": [
        "# Agrupar por classificacao_peso_corporal e contar a ocorrência de cada gênero\n",
        "classificao_peso_corporal_genero_counts = round(df.groupby('classificacao_peso_corporal')['genero'].value_counts(normalize=True).mul(100).reset_index(name='porcentagem'),2)\n",
        "\n",
        "# Pivotar a tabela para ter as quantidades de feminino e masculino como colunas\n",
        "classificao_peso_corporal_genero_pivot = classificao_peso_corporal_genero_counts.pivot(index='classificacao_peso_corporal', columns='genero', values='porcentagem').reset_index()\n",
        "\n",
        "# Renomear as colunas 0 and 1 to 'qtde_feminino' and 'qtde_masculino'\n",
        "# based on the encoded gender values (assuming 0 is Female and 1 is Male)\n",
        "classificao_peso_corporal_genero_pivot.rename(columns={0: 'qtde_feminino', 1: 'qtde_masculino'}, inplace=True)\n",
        "\n",
        "\n",
        "# Converter a coluna 'classificacao_peso_corporal' para tipo categórico com a ordem definida\n",
        "classificao_peso_corporal_genero_pivot['classificacao_peso_corporal'] = pd.Categorical(\n",
        "    classificao_peso_corporal_genero_pivot['classificacao_peso_corporal'],\n",
        "    categories=ordem_classificao_peso_corporal,\n",
        "    ordered=True\n",
        ")\n",
        "\n",
        "# Ordenar o DataFrame pela ordem das categorias de classificacao_peso_corporal\n",
        "classificao_peso_corporal_genero_pivot = classificao_peso_corporal_genero_pivot.sort_values('classificacao_peso_corporal').reset_index(drop=True)\n",
        "\n",
        "# Exibir o novo DataFrame\n",
        "display(classificao_peso_corporal_genero_pivot)"
      ],
      "metadata": {
        "colab": {
          "base_uri": "https://localhost:8080/",
          "height": 0
        },
        "id": "wuA3dd51hF-a",
        "outputId": "8bd6aa2f-0144-4fab-c058-2de41273b363"
      },
      "execution_count": 330,
      "outputs": [
        {
          "output_type": "display_data",
          "data": {
            "text/plain": [
              "genero classificacao_peso_corporal  qtde_feminino  qtde_masculino\n",
              "0                peso_insuficiente          63.60           36.40\n",
              "1                      peso_normal          49.13           50.87\n",
              "2                 sobrepeso_tipo_1          50.00           50.00\n",
              "3                 sobrepeso_tipo_2          35.52           64.48\n",
              "4                 obesidade_tipo_1          44.44           55.56\n",
              "5                 obesidade_tipo_2           0.67           99.33\n",
              "6                 obesidade_tipo_3          99.69            0.31"
            ],
            "text/html": [
              "\n",
              "  <div id=\"df-051d8f18-f021-4018-943f-32eef8fb22fe\" class=\"colab-df-container\">\n",
              "    <div>\n",
              "<style scoped>\n",
              "    .dataframe tbody tr th:only-of-type {\n",
              "        vertical-align: middle;\n",
              "    }\n",
              "\n",
              "    .dataframe tbody tr th {\n",
              "        vertical-align: top;\n",
              "    }\n",
              "\n",
              "    .dataframe thead th {\n",
              "        text-align: right;\n",
              "    }\n",
              "</style>\n",
              "<table border=\"1\" class=\"dataframe\">\n",
              "  <thead>\n",
              "    <tr style=\"text-align: right;\">\n",
              "      <th>genero</th>\n",
              "      <th>classificacao_peso_corporal</th>\n",
              "      <th>qtde_feminino</th>\n",
              "      <th>qtde_masculino</th>\n",
              "    </tr>\n",
              "  </thead>\n",
              "  <tbody>\n",
              "    <tr>\n",
              "      <th>0</th>\n",
              "      <td>peso_insuficiente</td>\n",
              "      <td>63.60</td>\n",
              "      <td>36.40</td>\n",
              "    </tr>\n",
              "    <tr>\n",
              "      <th>1</th>\n",
              "      <td>peso_normal</td>\n",
              "      <td>49.13</td>\n",
              "      <td>50.87</td>\n",
              "    </tr>\n",
              "    <tr>\n",
              "      <th>2</th>\n",
              "      <td>sobrepeso_tipo_1</td>\n",
              "      <td>50.00</td>\n",
              "      <td>50.00</td>\n",
              "    </tr>\n",
              "    <tr>\n",
              "      <th>3</th>\n",
              "      <td>sobrepeso_tipo_2</td>\n",
              "      <td>35.52</td>\n",
              "      <td>64.48</td>\n",
              "    </tr>\n",
              "    <tr>\n",
              "      <th>4</th>\n",
              "      <td>obesidade_tipo_1</td>\n",
              "      <td>44.44</td>\n",
              "      <td>55.56</td>\n",
              "    </tr>\n",
              "    <tr>\n",
              "      <th>5</th>\n",
              "      <td>obesidade_tipo_2</td>\n",
              "      <td>0.67</td>\n",
              "      <td>99.33</td>\n",
              "    </tr>\n",
              "    <tr>\n",
              "      <th>6</th>\n",
              "      <td>obesidade_tipo_3</td>\n",
              "      <td>99.69</td>\n",
              "      <td>0.31</td>\n",
              "    </tr>\n",
              "  </tbody>\n",
              "</table>\n",
              "</div>\n",
              "    <div class=\"colab-df-buttons\">\n",
              "\n",
              "  <div class=\"colab-df-container\">\n",
              "    <button class=\"colab-df-convert\" onclick=\"convertToInteractive('df-051d8f18-f021-4018-943f-32eef8fb22fe')\"\n",
              "            title=\"Convert this dataframe to an interactive table.\"\n",
              "            style=\"display:none;\">\n",
              "\n",
              "  <svg xmlns=\"http://www.w3.org/2000/svg\" height=\"24px\" viewBox=\"0 -960 960 960\">\n",
              "    <path d=\"M120-120v-720h720v720H120Zm60-500h600v-160H180v160Zm220 220h160v-160H400v160Zm0 220h160v-160H400v160ZM180-400h160v-160H180v160Zm440 0h160v-160H620v160ZM180-180h160v-160H180v160Zm440 0h160v-160H620v160Z\"/>\n",
              "  </svg>\n",
              "    </button>\n",
              "\n",
              "  <style>\n",
              "    .colab-df-container {\n",
              "      display:flex;\n",
              "      gap: 12px;\n",
              "    }\n",
              "\n",
              "    .colab-df-convert {\n",
              "      background-color: #E8F0FE;\n",
              "      border: none;\n",
              "      border-radius: 50%;\n",
              "      cursor: pointer;\n",
              "      display: none;\n",
              "      fill: #1967D2;\n",
              "      height: 32px;\n",
              "      padding: 0 0 0 0;\n",
              "      width: 32px;\n",
              "    }\n",
              "\n",
              "    .colab-df-convert:hover {\n",
              "      background-color: #E2EBFA;\n",
              "      box-shadow: 0px 1px 2px rgba(60, 64, 67, 0.3), 0px 1px 3px 1px rgba(60, 64, 67, 0.15);\n",
              "      fill: #174EA6;\n",
              "    }\n",
              "\n",
              "    .colab-df-buttons div {\n",
              "      margin-bottom: 4px;\n",
              "    }\n",
              "\n",
              "    [theme=dark] .colab-df-convert {\n",
              "      background-color: #3B4455;\n",
              "      fill: #D2E3FC;\n",
              "    }\n",
              "\n",
              "    [theme=dark] .colab-df-convert:hover {\n",
              "      background-color: #434B5C;\n",
              "      box-shadow: 0px 1px 3px 1px rgba(0, 0, 0, 0.15);\n",
              "      filter: drop-shadow(0px 1px 2px rgba(0, 0, 0, 0.3));\n",
              "      fill: #FFFFFF;\n",
              "    }\n",
              "  </style>\n",
              "\n",
              "    <script>\n",
              "      const buttonEl =\n",
              "        document.querySelector('#df-051d8f18-f021-4018-943f-32eef8fb22fe button.colab-df-convert');\n",
              "      buttonEl.style.display =\n",
              "        google.colab.kernel.accessAllowed ? 'block' : 'none';\n",
              "\n",
              "      async function convertToInteractive(key) {\n",
              "        const element = document.querySelector('#df-051d8f18-f021-4018-943f-32eef8fb22fe');\n",
              "        const dataTable =\n",
              "          await google.colab.kernel.invokeFunction('convertToInteractive',\n",
              "                                                    [key], {});\n",
              "        if (!dataTable) return;\n",
              "\n",
              "        const docLinkHtml = 'Like what you see? Visit the ' +\n",
              "          '<a target=\"_blank\" href=https://colab.research.google.com/notebooks/data_table.ipynb>data table notebook</a>'\n",
              "          + ' to learn more about interactive tables.';\n",
              "        element.innerHTML = '';\n",
              "        dataTable['output_type'] = 'display_data';\n",
              "        await google.colab.output.renderOutput(dataTable, element);\n",
              "        const docLink = document.createElement('div');\n",
              "        docLink.innerHTML = docLinkHtml;\n",
              "        element.appendChild(docLink);\n",
              "      }\n",
              "    </script>\n",
              "  </div>\n",
              "\n",
              "\n",
              "    <div id=\"df-19de1fba-f981-4208-863b-76bddb563623\">\n",
              "      <button class=\"colab-df-quickchart\" onclick=\"quickchart('df-19de1fba-f981-4208-863b-76bddb563623')\"\n",
              "                title=\"Suggest charts\"\n",
              "                style=\"display:none;\">\n",
              "\n",
              "<svg xmlns=\"http://www.w3.org/2000/svg\" height=\"24px\"viewBox=\"0 0 24 24\"\n",
              "     width=\"24px\">\n",
              "    <g>\n",
              "        <path d=\"M19 3H5c-1.1 0-2 .9-2 2v14c0 1.1.9 2 2 2h14c1.1 0 2-.9 2-2V5c0-1.1-.9-2-2-2zM9 17H7v-7h2v7zm4 0h-2V7h2v10zm4 0h-2v-4h2v4z\"/>\n",
              "    </g>\n",
              "</svg>\n",
              "      </button>\n",
              "\n",
              "<style>\n",
              "  .colab-df-quickchart {\n",
              "      --bg-color: #E8F0FE;\n",
              "      --fill-color: #1967D2;\n",
              "      --hover-bg-color: #E2EBFA;\n",
              "      --hover-fill-color: #174EA6;\n",
              "      --disabled-fill-color: #AAA;\n",
              "      --disabled-bg-color: #DDD;\n",
              "  }\n",
              "\n",
              "  [theme=dark] .colab-df-quickchart {\n",
              "      --bg-color: #3B4455;\n",
              "      --fill-color: #D2E3FC;\n",
              "      --hover-bg-color: #434B5C;\n",
              "      --hover-fill-color: #FFFFFF;\n",
              "      --disabled-bg-color: #3B4455;\n",
              "      --disabled-fill-color: #666;\n",
              "  }\n",
              "\n",
              "  .colab-df-quickchart {\n",
              "    background-color: var(--bg-color);\n",
              "    border: none;\n",
              "    border-radius: 50%;\n",
              "    cursor: pointer;\n",
              "    display: none;\n",
              "    fill: var(--fill-color);\n",
              "    height: 32px;\n",
              "    padding: 0;\n",
              "    width: 32px;\n",
              "  }\n",
              "\n",
              "  .colab-df-quickchart:hover {\n",
              "    background-color: var(--hover-bg-color);\n",
              "    box-shadow: 0 1px 2px rgba(60, 64, 67, 0.3), 0 1px 3px 1px rgba(60, 64, 67, 0.15);\n",
              "    fill: var(--button-hover-fill-color);\n",
              "  }\n",
              "\n",
              "  .colab-df-quickchart-complete:disabled,\n",
              "  .colab-df-quickchart-complete:disabled:hover {\n",
              "    background-color: var(--disabled-bg-color);\n",
              "    fill: var(--disabled-fill-color);\n",
              "    box-shadow: none;\n",
              "  }\n",
              "\n",
              "  .colab-df-spinner {\n",
              "    border: 2px solid var(--fill-color);\n",
              "    border-color: transparent;\n",
              "    border-bottom-color: var(--fill-color);\n",
              "    animation:\n",
              "      spin 1s steps(1) infinite;\n",
              "  }\n",
              "\n",
              "  @keyframes spin {\n",
              "    0% {\n",
              "      border-color: transparent;\n",
              "      border-bottom-color: var(--fill-color);\n",
              "      border-left-color: var(--fill-color);\n",
              "    }\n",
              "    20% {\n",
              "      border-color: transparent;\n",
              "      border-left-color: var(--fill-color);\n",
              "      border-top-color: var(--fill-color);\n",
              "    }\n",
              "    30% {\n",
              "      border-color: transparent;\n",
              "      border-left-color: var(--fill-color);\n",
              "      border-top-color: var(--fill-color);\n",
              "      border-right-color: var(--fill-color);\n",
              "    }\n",
              "    40% {\n",
              "      border-color: transparent;\n",
              "      border-right-color: var(--fill-color);\n",
              "      border-top-color: var(--fill-color);\n",
              "    }\n",
              "    60% {\n",
              "      border-color: transparent;\n",
              "      border-right-color: var(--fill-color);\n",
              "    }\n",
              "    80% {\n",
              "      border-color: transparent;\n",
              "      border-right-color: var(--fill-color);\n",
              "      border-bottom-color: var(--fill-color);\n",
              "    }\n",
              "    90% {\n",
              "      border-color: transparent;\n",
              "      border-bottom-color: var(--fill-color);\n",
              "    }\n",
              "  }\n",
              "</style>\n",
              "\n",
              "      <script>\n",
              "        async function quickchart(key) {\n",
              "          const quickchartButtonEl =\n",
              "            document.querySelector('#' + key + ' button');\n",
              "          quickchartButtonEl.disabled = true;  // To prevent multiple clicks.\n",
              "          quickchartButtonEl.classList.add('colab-df-spinner');\n",
              "          try {\n",
              "            const charts = await google.colab.kernel.invokeFunction(\n",
              "                'suggestCharts', [key], {});\n",
              "          } catch (error) {\n",
              "            console.error('Error during call to suggestCharts:', error);\n",
              "          }\n",
              "          quickchartButtonEl.classList.remove('colab-df-spinner');\n",
              "          quickchartButtonEl.classList.add('colab-df-quickchart-complete');\n",
              "        }\n",
              "        (() => {\n",
              "          let quickchartButtonEl =\n",
              "            document.querySelector('#df-19de1fba-f981-4208-863b-76bddb563623 button');\n",
              "          quickchartButtonEl.style.display =\n",
              "            google.colab.kernel.accessAllowed ? 'block' : 'none';\n",
              "        })();\n",
              "      </script>\n",
              "    </div>\n",
              "\n",
              "  <div id=\"id_afea9f06-1050-418e-a84b-9d334f11f048\">\n",
              "    <style>\n",
              "      .colab-df-generate {\n",
              "        background-color: #E8F0FE;\n",
              "        border: none;\n",
              "        border-radius: 50%;\n",
              "        cursor: pointer;\n",
              "        display: none;\n",
              "        fill: #1967D2;\n",
              "        height: 32px;\n",
              "        padding: 0 0 0 0;\n",
              "        width: 32px;\n",
              "      }\n",
              "\n",
              "      .colab-df-generate:hover {\n",
              "        background-color: #E2EBFA;\n",
              "        box-shadow: 0px 1px 2px rgba(60, 64, 67, 0.3), 0px 1px 3px 1px rgba(60, 64, 67, 0.15);\n",
              "        fill: #174EA6;\n",
              "      }\n",
              "\n",
              "      [theme=dark] .colab-df-generate {\n",
              "        background-color: #3B4455;\n",
              "        fill: #D2E3FC;\n",
              "      }\n",
              "\n",
              "      [theme=dark] .colab-df-generate:hover {\n",
              "        background-color: #434B5C;\n",
              "        box-shadow: 0px 1px 3px 1px rgba(0, 0, 0, 0.15);\n",
              "        filter: drop-shadow(0px 1px 2px rgba(0, 0, 0, 0.3));\n",
              "        fill: #FFFFFF;\n",
              "      }\n",
              "    </style>\n",
              "    <button class=\"colab-df-generate\" onclick=\"generateWithVariable('classificao_peso_corporal_genero_pivot')\"\n",
              "            title=\"Generate code using this dataframe.\"\n",
              "            style=\"display:none;\">\n",
              "\n",
              "  <svg xmlns=\"http://www.w3.org/2000/svg\" height=\"24px\"viewBox=\"0 0 24 24\"\n",
              "       width=\"24px\">\n",
              "    <path d=\"M7,19H8.4L18.45,9,17,7.55,7,17.6ZM5,21V16.75L18.45,3.32a2,2,0,0,1,2.83,0l1.4,1.43a1.91,1.91,0,0,1,.58,1.4,1.91,1.91,0,0,1-.58,1.4L9.25,21ZM18.45,9,17,7.55Zm-12,3A5.31,5.31,0,0,0,4.9,8.1,5.31,5.31,0,0,0,1,6.5,5.31,5.31,0,0,0,4.9,4.9,5.31,5.31,0,0,0,6.5,1,5.31,5.31,0,0,0,8.1,4.9,5.31,5.31,0,0,0,12,6.5,5.46,5.46,0,0,0,6.5,12Z\"/>\n",
              "  </svg>\n",
              "    </button>\n",
              "    <script>\n",
              "      (() => {\n",
              "      const buttonEl =\n",
              "        document.querySelector('#id_afea9f06-1050-418e-a84b-9d334f11f048 button.colab-df-generate');\n",
              "      buttonEl.style.display =\n",
              "        google.colab.kernel.accessAllowed ? 'block' : 'none';\n",
              "\n",
              "      buttonEl.onclick = () => {\n",
              "        google.colab.notebook.generateWithVariable('classificao_peso_corporal_genero_pivot');\n",
              "      }\n",
              "      })();\n",
              "    </script>\n",
              "  </div>\n",
              "\n",
              "    </div>\n",
              "  </div>\n"
            ],
            "application/vnd.google.colaboratory.intrinsic+json": {
              "type": "dataframe",
              "variable_name": "classificao_peso_corporal_genero_pivot",
              "summary": "{\n  \"name\": \"classificao_peso_corporal_genero_pivot\",\n  \"rows\": 7,\n  \"fields\": [\n    {\n      \"column\": \"classificacao_peso_corporal\",\n      \"properties\": {\n        \"dtype\": \"category\",\n        \"num_unique_values\": 7,\n        \"samples\": [\n          \"peso_insuficiente\",\n          \"peso_normal\",\n          \"obesidade_tipo_2\"\n        ],\n        \"semantic_type\": \"\",\n        \"description\": \"\"\n      }\n    },\n    {\n      \"column\": \"qtde_feminino\",\n      \"properties\": {\n        \"dtype\": \"number\",\n        \"std\": 29.782392848955634,\n        \"min\": 0.67,\n        \"max\": 99.69,\n        \"num_unique_values\": 7,\n        \"samples\": [\n          63.6,\n          49.13,\n          0.67\n        ],\n        \"semantic_type\": \"\",\n        \"description\": \"\"\n      }\n    },\n    {\n      \"column\": \"qtde_masculino\",\n      \"properties\": {\n        \"dtype\": \"number\",\n        \"std\": 29.782392848955634,\n        \"min\": 0.31,\n        \"max\": 99.33,\n        \"num_unique_values\": 7,\n        \"samples\": [\n          36.4,\n          50.87,\n          99.33\n        ],\n        \"semantic_type\": \"\",\n        \"description\": \"\"\n      }\n    }\n  ]\n}"
            }
          },
          "metadata": {}
        }
      ]
    },
    {
      "cell_type": "code",
      "metadata": {
        "colab": {
          "base_uri": "https://localhost:8080/",
          "height": 0
        },
        "id": "d2442977",
        "outputId": "e5408453-8a1f-49ae-fd44-7144d857017e"
      },
      "source": [
        "plt.figure(figsize=(12, 7))\n",
        "# O 'obesidade' coluna no DataFrame df agora contem os valores em português devido a execução da celula wuA3dd51hF-a\n",
        "sns.countplot(data=df, x='classificacao_peso_corporal', hue='genero', palette='colorblind', order=ordem_classificao_peso_corporal)\n",
        "\n",
        "plt.xticks(ticks=range(len(ordem_classificao_peso_corporal)), labels=ordem_classificao_peso_corporal, rotation=45, ha='right')\n",
        "\n",
        "\n",
        "plt.title('Contagem de Pessoas por Nível de Obesidade e Gênero')\n",
        "plt.xlabel('Nível de Obesidade')\n",
        "plt.ylabel('Contagem')\n",
        "plt.legend(title='Gênero', labels=['Feminino', 'Masculino']) # Ajustar rótulos da legenda\n",
        "plt.tight_layout()\n",
        "plt.show()"
      ],
      "execution_count": 331,
      "outputs": [
        {
          "output_type": "display_data",
          "data": {
            "text/plain": [
              "<Figure size 1200x700 with 1 Axes>"
            ],
            "image/png": "[encoded data removed]"
          },
          "metadata": {}
        }
      ]
    },
    {
      "cell_type": "markdown",
      "source": [
        "### **Distribuição da variável IMC na base**"
      ],
      "metadata": {
        "id": "OA7xFEg3Gdov"
      }
    },
    {
      "cell_type": "code",
      "source": [
        "titulo_histograma_imc = 'Distribuição da variável IMC no dataset nivel_obesidade'\n",
        "histograma_imc = gera_histograma(df, 'imc', titulo_histograma_imc)"
      ],
      "metadata": {
        "colab": {
          "base_uri": "https://localhost:8080/",
          "height": 0
        },
        "id": "OZLHR9Z_EjKD",
        "outputId": "4e08f93b-abe4-42c0-bd7c-c8b59ad6c2f4"
      },
      "execution_count": 332,
      "outputs": [
        {
          "output_type": "display_data",
          "data": {
            "text/plain": [
              "<Figure size 1000x600 with 1 Axes>"
            ],
            "image/png": "[encoded data removed]"
          },
          "metadata": {}
        }
      ]
    },
    {
      "cell_type": "markdown",
      "source": [
        "### **Contagem de classicao  classificacao imc agrupado por classificacao_peso_corporal**"
      ],
      "metadata": {
        "id": "rG--1nIy4UAD"
      }
    },
    {
      "cell_type": "markdown",
      "source": [
        "O intuito foi validar se existiam casos se a coluna classificacao_peso_corporal era apenas uma variacao da classificação de IMC da OMS. Onservado certa variação mesmo que pequena entre as classes."
      ],
      "metadata": {
        "id": "8OZnWijv7RUZ"
      }
    },
    {
      "cell_type": "code",
      "source": [
        "# Agrupa por classificacao_imc e classificacao_peso_corporal e contar as ocorrências\n",
        "classificacao_agrupada = df.groupby(['classificacao_imc', 'classificacao_peso_corporal'], observed=True).size().reset_index(name='quantidade')\n",
        "\n",
        "# Calcula a porcentagem dentro de cada grupo classificacao_imc\n",
        "classificacao_agrupada['porcentagem'] = classificacao_agrupada.groupby('classificacao_imc', observed=True)['quantidade'].transform(lambda x: round((x / x.sum()) * 100, 2))\n",
        "\n",
        "# Criar um dicionário de DataFrames, um para cada valor único em 'classificacao_imc'\n",
        "dataframes_por_classificacao_imc = {}\n",
        "\n",
        "for imc_categoria in classificacao_agrupada['classificacao_imc'].unique():\n",
        "    # Filtra o DataFrame agrupado para a categoria de IMC atual\n",
        "    df_categoria = classificacao_agrupada[classificacao_agrupada['classificacao_imc'] == imc_categoria].copy()\n",
        "\n",
        "    # Remove a coluna 'classificacao_imc' do DataFrame específico da categoria\n",
        "    df_categoria = df_categoria[['classificacao_peso_corporal', 'quantidade', 'porcentagem']]\n",
        "\n",
        "    # Define 'classificacao_peso_corporal' como índice para melhor visualização\n",
        "    # df_categoria.set_index('classificacao_peso_corporal', inplace=True)\n",
        "\n",
        "    # Armazenar o DataFrame no dicionário\n",
        "    dataframes_por_classificacao_imc[imc_categoria] = df_categoria\n"
      ],
      "metadata": {
        "id": "040WpFlK8--J"
      },
      "execution_count": 333,
      "outputs": []
    },
    {
      "cell_type": "code",
      "source": [
        "for chave, valor in dataframes_por_classificacao_imc.items():\n",
        "  print(f'Tabela classificacao_peso_corporal por {chave}\\n')\n",
        "  display(HTML(valor.to_html(index=False)))\n",
        "  print('\\n')\n",
        "  gera_grafico_barras(df= valor, x_col= 'classificacao_peso_corporal', y_col = 'quantidade', title = f\"Quantidade por {chave}\")\n",
        "  print('\\n ' * 4)"
      ],
      "metadata": {
        "colab": {
          "base_uri": "https://localhost:8080/",
          "height": 0
        },
        "id": "HJa-5ZyGE1zJ",
        "outputId": "19442c58-3a0a-4f9e-b7ae-952354de9c8b"
      },
      "execution_count": 334,
      "outputs": [
        {
          "output_type": "stream",
          "name": "stdout",
          "text": [
            "Tabela classificacao_peso_corporal por abaixo_do_peso\n",
            "\n"
          ]
        },
        {
          "output_type": "display_data",
          "data": {
            "text/plain": [
              "<IPython.core.display.HTML object>"
            ],
            "text/html": [
              "<table border=\"1\" class=\"dataframe\">\n",
              "  <thead>\n",
              "    <tr style=\"text-align: right;\">\n",
              "      <th>classificacao_peso_corporal</th>\n",
              "      <th>quantidade</th>\n",
              "      <th>porcentagem</th>\n",
              "    </tr>\n",
              "  </thead>\n",
              "  <tbody>\n",
              "    <tr>\n",
              "      <td>peso_insuficiente</td>\n",
              "      <td>268</td>\n",
              "      <td>99.26</td>\n",
              "    </tr>\n",
              "    <tr>\n",
              "      <td>peso_normal</td>\n",
              "      <td>2</td>\n",
              "      <td>0.74</td>\n",
              "    </tr>\n",
              "  </tbody>\n",
              "</table>"
            ]
          },
          "metadata": {}
        },
        {
          "output_type": "stream",
          "name": "stdout",
          "text": [
            "\n",
            "\n"
          ]
        },
        {
          "output_type": "display_data",
          "data": {
            "text/plain": [
              "<Figure size 1200x600 with 1 Axes>"
            ],
            "image/png": "[encoded data removed]"
          },
          "metadata": {}
        },
        {
          "output_type": "stream",
          "name": "stdout",
          "text": [
            "\n",
            " \n",
            " \n",
            " \n",
            " \n",
            "Tabela classificacao_peso_corporal por peso_normal\n",
            "\n"
          ]
        },
        {
          "output_type": "display_data",
          "data": {
            "text/plain": [
              "<IPython.core.display.HTML object>"
            ],
            "text/html": [
              "<table border=\"1\" class=\"dataframe\">\n",
              "  <thead>\n",
              "    <tr style=\"text-align: right;\">\n",
              "      <th>classificacao_peso_corporal</th>\n",
              "      <th>quantidade</th>\n",
              "      <th>porcentagem</th>\n",
              "    </tr>\n",
              "  </thead>\n",
              "  <tbody>\n",
              "    <tr>\n",
              "      <td>peso_insuficiente</td>\n",
              "      <td>4</td>\n",
              "      <td>1.33</td>\n",
              "    </tr>\n",
              "    <tr>\n",
              "      <td>peso_normal</td>\n",
              "      <td>285</td>\n",
              "      <td>94.68</td>\n",
              "    </tr>\n",
              "    <tr>\n",
              "      <td>sobrepeso_tipo_1</td>\n",
              "      <td>12</td>\n",
              "      <td>3.99</td>\n",
              "    </tr>\n",
              "  </tbody>\n",
              "</table>"
            ]
          },
          "metadata": {}
        },
        {
          "output_type": "stream",
          "name": "stdout",
          "text": [
            "\n",
            "\n"
          ]
        },
        {
          "output_type": "display_data",
          "data": {
            "text/plain": [
              "<Figure size 1200x600 with 1 Axes>"
            ],
            "image/png": "[encoded data removed]"
          },
          "metadata": {}
        },
        {
          "output_type": "stream",
          "name": "stdout",
          "text": [
            "\n",
            " \n",
            " \n",
            " \n",
            " \n",
            "Tabela classificacao_peso_corporal por sobrepeso\n",
            "\n"
          ]
        },
        {
          "output_type": "display_data",
          "data": {
            "text/plain": [
              "<IPython.core.display.HTML object>"
            ],
            "text/html": [
              "<table border=\"1\" class=\"dataframe\">\n",
              "  <thead>\n",
              "    <tr style=\"text-align: right;\">\n",
              "      <th>classificacao_peso_corporal</th>\n",
              "      <th>quantidade</th>\n",
              "      <th>porcentagem</th>\n",
              "    </tr>\n",
              "  </thead>\n",
              "  <tbody>\n",
              "    <tr>\n",
              "      <td>obesidade_tipo_1</td>\n",
              "      <td>2</td>\n",
              "      <td>0.35</td>\n",
              "    </tr>\n",
              "    <tr>\n",
              "      <td>sobrepeso_tipo_1</td>\n",
              "      <td>278</td>\n",
              "      <td>49.12</td>\n",
              "    </tr>\n",
              "    <tr>\n",
              "      <td>sobrepeso_tipo_2</td>\n",
              "      <td>286</td>\n",
              "      <td>50.53</td>\n",
              "    </tr>\n",
              "  </tbody>\n",
              "</table>"
            ]
          },
          "metadata": {}
        },
        {
          "output_type": "stream",
          "name": "stdout",
          "text": [
            "\n",
            "\n"
          ]
        },
        {
          "output_type": "display_data",
          "data": {
            "text/plain": [
              "<Figure size 1200x600 with 1 Axes>"
            ],
            "image/png": "[encoded data removed]"
          },
          "metadata": {}
        },
        {
          "output_type": "stream",
          "name": "stdout",
          "text": [
            "\n",
            " \n",
            " \n",
            " \n",
            " \n",
            "Tabela classificacao_peso_corporal por obesidade_grau_1\n",
            "\n"
          ]
        },
        {
          "output_type": "display_data",
          "data": {
            "text/plain": [
              "<IPython.core.display.HTML object>"
            ],
            "text/html": [
              "<table border=\"1\" class=\"dataframe\">\n",
              "  <thead>\n",
              "    <tr style=\"text-align: right;\">\n",
              "      <th>classificacao_peso_corporal</th>\n",
              "      <th>quantidade</th>\n",
              "      <th>porcentagem</th>\n",
              "    </tr>\n",
              "  </thead>\n",
              "  <tbody>\n",
              "    <tr>\n",
              "      <td>obesidade_tipo_1</td>\n",
              "      <td>346</td>\n",
              "      <td>94.02</td>\n",
              "    </tr>\n",
              "    <tr>\n",
              "      <td>obesidade_tipo_2</td>\n",
              "      <td>18</td>\n",
              "      <td>4.89</td>\n",
              "    </tr>\n",
              "    <tr>\n",
              "      <td>sobrepeso_tipo_2</td>\n",
              "      <td>4</td>\n",
              "      <td>1.09</td>\n",
              "    </tr>\n",
              "  </tbody>\n",
              "</table>"
            ]
          },
          "metadata": {}
        },
        {
          "output_type": "stream",
          "name": "stdout",
          "text": [
            "\n",
            "\n"
          ]
        },
        {
          "output_type": "display_data",
          "data": {
            "text/plain": [
              "<Figure size 1200x600 with 1 Axes>"
            ],
            "image/png": "[encoded data removed]"
          },
          "metadata": {}
        },
        {
          "output_type": "stream",
          "name": "stdout",
          "text": [
            "\n",
            " \n",
            " \n",
            " \n",
            " \n",
            "Tabela classificacao_peso_corporal por obesidade_grau_2\n",
            "\n"
          ]
        },
        {
          "output_type": "display_data",
          "data": {
            "text/plain": [
              "<IPython.core.display.HTML object>"
            ],
            "text/html": [
              "<table border=\"1\" class=\"dataframe\">\n",
              "  <thead>\n",
              "    <tr style=\"text-align: right;\">\n",
              "      <th>classificacao_peso_corporal</th>\n",
              "      <th>quantidade</th>\n",
              "      <th>porcentagem</th>\n",
              "    </tr>\n",
              "  </thead>\n",
              "  <tbody>\n",
              "    <tr>\n",
              "      <td>obesidade_tipo_1</td>\n",
              "      <td>3</td>\n",
              "      <td>0.89</td>\n",
              "    </tr>\n",
              "    <tr>\n",
              "      <td>obesidade_tipo_2</td>\n",
              "      <td>279</td>\n",
              "      <td>82.54</td>\n",
              "    </tr>\n",
              "    <tr>\n",
              "      <td>obesidade_tipo_3</td>\n",
              "      <td>56</td>\n",
              "      <td>16.57</td>\n",
              "    </tr>\n",
              "  </tbody>\n",
              "</table>"
            ]
          },
          "metadata": {}
        },
        {
          "output_type": "stream",
          "name": "stdout",
          "text": [
            "\n",
            "\n"
          ]
        },
        {
          "output_type": "display_data",
          "data": {
            "text/plain": [
              "<Figure size 1200x600 with 1 Axes>"
            ],
            "image/png": "[encoded data removed]"
          },
          "metadata": {}
        },
        {
          "output_type": "stream",
          "name": "stdout",
          "text": [
            "\n",
            " \n",
            " \n",
            " \n",
            " \n",
            "Tabela classificacao_peso_corporal por obesidade_grau_3\n",
            "\n"
          ]
        },
        {
          "output_type": "display_data",
          "data": {
            "text/plain": [
              "<IPython.core.display.HTML object>"
            ],
            "text/html": [
              "<table border=\"1\" class=\"dataframe\">\n",
              "  <thead>\n",
              "    <tr style=\"text-align: right;\">\n",
              "      <th>classificacao_peso_corporal</th>\n",
              "      <th>quantidade</th>\n",
              "      <th>porcentagem</th>\n",
              "    </tr>\n",
              "  </thead>\n",
              "  <tbody>\n",
              "    <tr>\n",
              "      <td>obesidade_tipo_3</td>\n",
              "      <td>268</td>\n",
              "      <td>100.0</td>\n",
              "    </tr>\n",
              "  </tbody>\n",
              "</table>"
            ]
          },
          "metadata": {}
        },
        {
          "output_type": "stream",
          "name": "stdout",
          "text": [
            "\n",
            "\n"
          ]
        },
        {
          "output_type": "display_data",
          "data": {
            "text/plain": [
              "<Figure size 1200x600 with 1 Axes>"
            ],
            "image/png": "[encoded data removed]"
          },
          "metadata": {}
        },
        {
          "output_type": "stream",
          "name": "stdout",
          "text": [
            "\n",
            " \n",
            " \n",
            " \n",
            " \n"
          ]
        }
      ]
    }
  ]
}